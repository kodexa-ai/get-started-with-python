{
 "cells": [
  {
   "cell_type": "markdown",
   "metadata": {},
   "source": [
    "# Parsing Sources with Kodexa's Parsers\n"
   ]
  },
  {
   "cell_type": "code",
   "execution_count": 1,
   "metadata": {},
   "outputs": [],
   "source": [
    "from kodexa import Document, Pipeline, KodexaPlatform, RemoteAction, FolderConnector\n",
    "\n",
    "CLOUD_URL = 'https://platform.kodexa.com' "
   ]
  },
  {
   "cell_type": "markdown",
   "metadata": {},
   "source": [
    "## Set Platform Environment and Access Token Credential\n",
    "\n",
    "In the next cell, you'll be prompted to enter your access token that you've created in the environment specified by the CLOUD_URL.\n",
    "If you haven't created a token already, follow the steps in our [Getting Started](https://developer.kodexa.com/org-management/manage-access-token) guide.\n",
    "\n",
    "* Note:  The text you enter in the prompt field will be masked.  Once you're done entering the access token value, hit enter to complete the action in the cell.  **You will then need to manulally set control at the next cell.**"
   ]
  },
  {
   "cell_type": "code",
   "execution_count": 2,
   "metadata": {},
   "outputs": [
    {
     "name": "stdin",
     "output_type": "stream",
     "text": [
      "Enter access token: ································\n"
     ]
    }
   ],
   "source": [
    "import getpass\n",
    "\n",
    "ACCESS_TOKEN = getpass.getpass(\"Enter access token:\")\n",
    "\n",
    "KodexaPlatform.set_url(CLOUD_URL)\n",
    "KodexaPlatform.set_access_token(ACCESS_TOKEN)"
   ]
  },
  {
   "cell_type": "code",
   "execution_count": 3,
   "metadata": {},
   "outputs": [],
   "source": [
    "import os\n",
    "\n",
    "# Setting up location of data file\n",
    "DATA_FOLDER = '_data'\n",
    "\n",
    "TEXT_FOLDER_PATH = os.path.join(os.getcwd(), '..', DATA_FOLDER, 'texts')\n",
    "EXCEL_FOLDER_PATH = os.path.join(os.getcwd(), '..', DATA_FOLDER, 'excel_workbooks')\n",
    "PDF_FOLDER_PATH = os.path.join(os.getcwd(), '..', DATA_FOLDER, 'pdfs')\n",
    "HTML_FOLDER_PATH = os.path.join(os.getcwd(), '..', DATA_FOLDER, 'htmls')\n"
   ]
  },
  {
   "cell_type": "markdown",
   "metadata": {},
   "source": [
    "## Parsing a Text File\n",
    "\n",
    "We'll be adding a step to the pipeline that uses the 'kodexa/text-parser'"
   ]
  },
  {
   "cell_type": "code",
   "execution_count": 4,
   "metadata": {},
   "outputs": [
    {
     "name": "stdout",
     "output_type": "stream",
     "text": [
      "\n",
      "Processed doc's contents:\n",
      "A flea and a fly got stuck in a flue.\n",
      "Said the flea to the fly, \"What shall we do?\"\n",
      "Said the fly, \"Let us flee!\"\n",
      "Said the flea, \"Let us fly!\"\n",
      "So they flew through a flaw in the flue.\n"
     ]
    }
   ],
   "source": [
    "# Create the pipeline with the full path to the folder.\n",
    "# We're also limiting the results to our specific file with the file_filter\n",
    "pipeline = Pipeline(FolderConnector(path=TEXT_FOLDER_PATH, file_filter='tongue_twister.txt'))\n",
    "\n",
    "# When using a FolderConnector, we must specify the parser that should be used for this document\n",
    "pipeline.add_step(RemoteAction(slug='kodexa/text-parser', options={}, attach_source=True))\n",
    "\n",
    "# Run the pipeline and get the pipeline's context.  We'll then get the processed document from the context\n",
    "pipeline.run()\n",
    "kodexa_doc = pipeline.context.output_document\n",
    "\n",
    "# Print the processed doc's contents\n",
    "print(f'\\nProcessed doc\\'s contents:\\n{kodexa_doc.get_root().get_all_content()}')"
   ]
  },
  {
   "cell_type": "markdown",
   "metadata": {},
   "source": [
    "## Parsing an Excel File\n",
    "\n",
    "We'll be adding a step to the pipeline that uses the 'kodexa/excel-parser'"
   ]
  },
  {
   "cell_type": "code",
   "execution_count": 8,
   "metadata": {},
   "outputs": [
    {
     "name": "stdout",
     "output_type": "stream",
     "text": [
      "\n",
      "Processed doc's contents (first 100 chars):\n",
      "2019 Reimbursables UTILITIES Phone ISP Electricity Natural Gas Water Sewer Amt due from Business Jan....\n"
     ]
    }
   ],
   "source": [
    "# Create the pipeline with the full path to the folder.\n",
    "# We're also limiting the results to our specific file with the file_filter\n",
    "pipeline = Pipeline(FolderConnector(path=EXCEL_FOLDER_PATH, file_filter='2019_Business_Expenses.xlsx'))\n",
    "\n",
    "# When using a FolderConnector, we must specify the parser that should be used for this document\n",
    "pipeline.add_step(RemoteAction(slug='kodexa/excel-parser', options={}, attach_source=True))\n",
    "\n",
    "# Run the pipeline and get the pipeline's context.  We'll then get the processed document from the context\n",
    "pipeline.run()\n",
    "kodexa_doc = pipeline.context.output_document\n",
    "\n",
    "# Print the first 100 chars of the processed doc's contents\n",
    "print(f'\\nProcessed doc\\'s contents (first 100 chars):\\n{kodexa_doc.get_root().get_all_content()[:100]}....')"
   ]
  },
  {
   "cell_type": "markdown",
   "metadata": {},
   "source": [
    "## Parsing a PDF File\n",
    "\n",
    "We'll be adding a step to the pipeline that uses the 'kodexa/pdf-parser'"
   ]
  },
  {
   "cell_type": "code",
   "execution_count": 9,
   "metadata": {},
   "outputs": [
    {
     "name": "stdout",
     "output_type": "stream",
     "text": [
      "\n",
      "Processed doc's contents (first 100 chars):\n",
      "6/12/2020 Page | Canvas  PRIVACY POLICY Your privacy is important to us. It is Kodexa, Inc's policy....\n"
     ]
    }
   ],
   "source": [
    "# Create the pipeline with the full path to the folder.\n",
    "# We're also limiting the results to our specific file with the file_filter\n",
    "pipeline = Pipeline(FolderConnector(path=PDF_FOLDER_PATH, file_filter='Kodexa_Privacy.pdf'))\n",
    "\n",
    "# When using a FolderConnector, we must specify the parser that should be used for this document\n",
    "pipeline.add_step(RemoteAction(slug='kodexa/pdf-parser', options={\"layout_analysis_options\":{\"rollup\":\"word\",\"space_multiplier\":1},\n",
    "                                      \"analyze_layout\":True}, attach_source=True))\n",
    "\n",
    "# Run the pipeline and get the pipeline's context.  We'll then get the processed document from the context\n",
    "pipeline.run()\n",
    "kodexa_doc = pipeline.context.output_document\n",
    "\n",
    "# Print the first 100 chars of the processed doc's contents\n",
    "print(f'\\nProcessed doc\\'s contents (first 100 chars):\\n{kodexa_doc.get_root().get_all_content()[:100]}....')"
   ]
  },
  {
   "cell_type": "markdown",
   "metadata": {},
   "source": [
    "## Parsing an HTML File from a URL\n",
    "\n",
    "This pipeline reads a file from a URL and processes it using the 'kodexa/html-parser'"
   ]
  },
  {
   "cell_type": "code",
   "execution_count": 10,
   "metadata": {},
   "outputs": [
    {
     "name": "stdout",
     "output_type": "stream",
     "text": [
      "\n",
      "Processed doc's contents (first 100 chars):\n",
      "Your privacy is important to us. It is Kodexa, Inc's policy to respect your privacy regarding any in....\n"
     ]
    }
   ],
   "source": [
    "# Create the pipeline with the full path to the folder.\n",
    "# We're also limiting the results to our specific file with the file_filter\n",
    "pipeline = Pipeline(FolderConnector(path=HTML_FOLDER_PATH, file_filter='Kodexa_Privacy.html'))\n",
    "\n",
    "# When using a FolderConnector, we must specify the parser that should be used for this document\n",
    "pipeline.add_step(RemoteAction(slug='kodexa/html-parser', options={}, attach_source=True))\n",
    "\n",
    "# Run the pipeline and get the pipeline's context.  We'll then get the processed document from the context\n",
    "pipeline.run()\n",
    "kodexa_doc = pipeline.context.output_document\n",
    "\n",
    "# Print the first 100 chars of the processed doc's contents\n",
    "print(f'\\nProcessed doc\\'s contents (first 100 chars):\\n{kodexa_doc.get_root().get_all_content()[:100]}....')"
   ]
  },
  {
   "cell_type": "markdown",
   "metadata": {},
   "source": [
    "## Parsing an SEC EDGAR Filing Document (text)\n",
    "\n",
    "This is a specialty parser designed to EDGAR filings.   These filings are available on the SEC's website.\n",
    "\n",
    "We'll be adding a step to the pipeline that uses the 'kodexa/sec-edgar-parser'\n"
   ]
  },
  {
   "cell_type": "code",
   "execution_count": 11,
   "metadata": {},
   "outputs": [
    {
     "name": "stdout",
     "output_type": "stream",
     "text": [
      "\n",
      "Processed doc's contents (first 100 chars):\n",
      "aac-nt10k_20191231.DOCX.htm SEC FILE NUMBER 001-36643 CUSIP NUMBER 000307108  UNITED STATES SECURITI....\n"
     ]
    }
   ],
   "source": [
    "\n",
    "# The EDGAR document we're parsing is on the SEC's website.\n",
    "# We'll use the 'from_url' method to connect that source to the pipeline\n",
    "pipeline = Pipeline.from_url(\"https://www.sec.gov/Archives/edgar/data/1606180/0001564590-20-014614.txt\")\n",
    "\n",
    "# When using a FolderConnector, we must specify the parser that should be used for this document\n",
    "pipeline.add_step(RemoteAction(slug='kodexa/sec-edgar-parser', options={}))\n",
    "\n",
    "# Run the pipeline and get the pipeline's context.  We'll then get the processed document from the context\n",
    "pipeline.run()\n",
    "kodexa_doc = pipeline.context.output_document\n",
    "\n",
    "# Print the first 100 chars of the processed doc's contents\n",
    "print(f'\\nProcessed doc\\'s contents (first 100 chars):\\n{kodexa_doc.get_root().get_all_content()[:100]}....')\n"
   ]
  },
  {
   "cell_type": "markdown",
   "metadata": {},
   "source": [
    "## Parsing an RSS Feed\n",
    "\n",
    "We'll be adding a step to the pipeline that uses the 'kodexa/rss-parser'"
   ]
  },
  {
   "cell_type": "code",
   "execution_count": 12,
   "metadata": {},
   "outputs": [],
   "source": [
    "## Demo coming soon!"
   ]
  },
  {
   "cell_type": "markdown",
   "metadata": {},
   "source": [
    "## Using the Slack Event parser\n",
    "\n",
    "We'll be adding a step to the pipeline that uses the 'kodexa/slack-parser'\n"
   ]
  },
  {
   "cell_type": "code",
   "execution_count": 13,
   "metadata": {},
   "outputs": [],
   "source": [
    "## Demo coming soon!"
   ]
  },
  {
   "cell_type": "code",
   "execution_count": null,
   "metadata": {},
   "outputs": [],
   "source": []
  }
 ],
 "metadata": {
  "kernelspec": {
   "display_name": "kodexa_demos",
   "language": "python",
   "name": "kodexa_demos"
  },
  "language_info": {
   "codemirror_mode": {
    "name": "ipython",
    "version": 3
   },
   "file_extension": ".py",
   "mimetype": "text/x-python",
   "name": "python",
   "nbconvert_exporter": "python",
   "pygments_lexer": "ipython3",
   "version": "3.7.6"
  }
 },
 "nbformat": 4,
 "nbformat_minor": 4
}
