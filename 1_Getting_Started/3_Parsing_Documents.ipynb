{
 "cells": [
  {
   "cell_type": "markdown",
   "metadata": {},
   "source": [
    "# Parsing Sources with Kodexa's Parsers\n"
   ]
  },
  {
   "cell_type": "code",
   "execution_count": 1,
   "metadata": {},
   "outputs": [],
   "source": [
    "from kodexa import Document, Pipeline, KodexaPlatform, KodexaAction, FolderConnector\n",
    "\n",
    "CLOUD_URL = 'https://platform.kodexa.com' "
   ]
  },
  {
   "cell_type": "markdown",
   "metadata": {},
   "source": [
    "## Set Platform Environment and Access Token Credential\n",
    "\n",
    "In the next cell, you'll be prompted to enter your access token that you've created in the environment specified by the CLOUD_URL.\n",
    "If you haven't created a token already, follow the steps in our [Getting Started](https://developer.kodexa.com/org-management/manage-access-token) guide.\n",
    "\n",
    "* Note:  The text you enter in the prompt field will be masked.  Once you're done entering the access token value, hit enter to complete the action in the cell."
   ]
  },
  {
   "cell_type": "code",
   "execution_count": 2,
   "metadata": {},
   "outputs": [
    {
     "name": "stdin",
     "output_type": "stream",
     "text": [
      "Enter access token: ································\n"
     ]
    }
   ],
   "source": [
    "import getpass\n",
    "\n",
    "ACCESS_TOKEN = getpass.getpass(\"Enter access token:\")\n",
    "\n",
    "KodexaPlatform.set_url(CLOUD_URL)\n",
    "KodexaPlatform.set_access_token(ACCESS_TOKEN)"
   ]
  },
  {
   "cell_type": "code",
   "execution_count": 3,
   "metadata": {},
   "outputs": [],
   "source": [
    "import os\n",
    "\n",
    "# Setting up location of data file\n",
    "DATA_FOLDER = '_data'\n",
    "\n",
    "TEXT_FOLDER_PATH = os.path.join(os.getcwd(), '..', DATA_FOLDER, 'texts')\n",
    "EXCEL_FOLDER_PATH = os.path.join(os.getcwd(), '..', DATA_FOLDER, 'excel_workbooks')\n",
    "PDF_FOLDER_PATH = os.path.join(os.getcwd(), '..', DATA_FOLDER, 'pdfs')\n",
    "HTML_FOLDER_PATH = os.path.join(os.getcwd(), '..', DATA_FOLDER, 'htmls')\n"
   ]
  },
  {
   "cell_type": "markdown",
   "metadata": {},
   "source": [
    "## Parsing a Text File\n",
    "\n",
    "We'll be adding a step to the pipeline that uses the 'kodexa/text-parser'"
   ]
  },
  {
   "cell_type": "code",
   "execution_count": 7,
   "metadata": {},
   "outputs": [
    {
     "name": "stdout",
     "output_type": "stream",
     "text": [
      "\n",
      "Processed doc's contents:\n",
      "A flea and a fly got stuck in a flue.\n",
      "Said the flea to the fly, \"What shall we do?\"\n",
      "Said the fly, \"Let us flee!\"\n",
      "Said the flea, \"Let us fly!\"\n",
      "So they flew through a flaw in the flue.\n"
     ]
    }
   ],
   "source": [
    "# Create the pipeline with the full path to the folder.\n",
    "# We're also limiting the results to our specific file with the file_filter\n",
    "pipeline = Pipeline(FolderConnector(path=TEXT_FOLDER_PATH, file_filter='tongue_twister.txt'))\n",
    "\n",
    "# When using a FolderConnector, we must specify the parser that should be used for this document\n",
    "pipeline.add_step(KodexaAction(slug='kodexa/text-parser', options={}, attach_source=True))\n",
    "\n",
    "# Run the pipeline and get the pipeline's context.  We'll then get the processed document from the context\n",
    "pipeline.run()\n",
    "kodexa_doc = pipeline.context.output_document\n",
    "\n",
    "# Print the processed doc's contents\n",
    "print(f'\\nProcessed doc\\'s contents:\\n{kodexa_doc.get_root().get_all_content()}')"
   ]
  },
  {
   "cell_type": "markdown",
   "metadata": {},
   "source": [
    "## Parsing an Excel File\n",
    "\n",
    "We'll be adding a step to the pipeline that uses the 'kodexa/excel-parser'"
   ]
  },
  {
   "cell_type": "code",
   "execution_count": 5,
   "metadata": {},
   "outputs": [
    {
     "name": "stdout",
     "output_type": "stream",
     "text": [
      "\n",
      "Processed doc's contents:\n",
      "2019 Reimbursables UTILITIES Phone ISP Electricity Natural Gas Water Sewer Amt due from Business January 60.5 59.99 4.316046428571429 6.192921428571429 2.7588785714285717 133.75784642857144 February 60.5 59.99 3.5990035714285713 5.315514285714285 3.0407928571428573 132.4453107142857 March 57.79375 59.99 3.7471107142857147 5.297639285714286 2.674610714285714 129.5031107142857 April 60.512499999999996 59.99 3.318621428571429 0.6991678571428571 2.495860714285714 127.01615 May 60.512499999999996 69.99 3.3875678571428574 1.4126357142857144 2.651117857142857 137.95382142857144 June 60.5125 69.99 5.086714285714286 1.0694357142857145 3.8941964285714286 140.55284642857143 July 60.7125 69.99 9.156596428571428 0.9213285714285714 5.1970285714285716 145.97745357142855 August 60.53125 69.99 7.94365 0.9213285714285714 4.774667857142857 144.16089642857142 September 60.51875 69.99 6.726107142857143 1.10825 4.85485 143.19795714285712 October 191.84875 69.99 3.7455785714285716 1.2486964285714286 4.303789285714286 271.13681428571425 November 73.10625 69.99 3.5070750000000004 1.871767857142857 2.7895214285714287 151.26461428571426 December 60.724999999999994 38.47 3.7460892857142856 3.832910714285714 3.244057142857143 110.01805714285715 TOTAL 867.77375 768.36 58.28016071428572 29.89159642857142 42.67937142857143 1766.9848785714287  Amount For business 867.77375 768.36 58.28016071428572 29.89159642857142 42.67937142857143 1766.9848785714287  Sq ft (House) 2800 Sq ft (Office) 143 Sq ft % 0.05107142857142857    MILEAGE Quarter Distance Amt due from Business Q1 1163.9999999999998 675.12 Q2 716.8000000000001 415.7440000000001 Q3 79.80000000000001 46.284 Q4 45.6 26.448  TOTAL 2006.1999999999996 1163.5960000000002 Phone Phone  1/1/2019 through 12/31/2019   Payee 2019-01-01 00:00:00 2019-02-01 00:00:00 2019-03-01 00:00:00 2019-04-01 00:00:00 2019-05-01 00:00:00 2019-06-01 00:00:00 2019-07-01 00:00:00 2019-08-01 00:00:00 2019-09-01 00:00:00 2019-10-01 00:00:00 2019-11-01 00:00:00 2019-12-01 00:00:00 Total  Wireless 96.8 96.8 92.47 96.82 96.82 96.82000000000001 97.14 96.85 96.83 96.83 116.97000000000001 97.16 1178.3100000000002 Ooma Ooma Premiere Subscription 131.33 131.33 TOTAL 96.8 96.8 92.47 96.82 96.82 96.82000000000001 97.14 96.85 96.83 228.16000000000003 116.97000000000001 97.16 1309.64 Business 60.5 60.5 57.79375 60.512499999999996 60.512499999999996 60.5125 60.7125 60.53125 60.51875 191.84875 73.10625 60.724999999999994 867.77375   How is Wireless calculated? Total Bill - (half of data plan) - (non-member's charges) = business amount ISP ISP  1/1/2019 through 12/31/2019   Payee 2019-01-01 00:00:00 2019-02-01 00:00:00 2019-03-01 00:00:00 2019-04-01 00:00:00 2019-05-01 00:00:00 2019-06-01 00:00:00 2019-07-01 00:00:00 2019-08-01 00:00:00 2019-09-01 00:00:00 2019-10-01 00:00:00 2019-11-01 00:00:00 2019-12-01 00:00:00 Total   Time Warner 59.99 59.99 59.99 59.99 69.99 69.99 69.99 69.99 69.99 69.99 69.99 38.47 768.36 TOTAL 59.99 59.99 59.99 59.99 69.99 69.99 69.99 69.99 69.99 69.99 69.99 38.47 768.36 Business 59.99 59.99 59.99 59.99 69.99 69.99 69.99 69.99 69.99 69.99 69.99 38.47 768.36 Power Power  1/1/2019 through 12/31/2019   Payee 2019-01-01 00:00:00 2019-02-01 00:00:00 2019-03-01 00:00:00 2019-04-01 00:00:00 2019-05-01 00:00:00 2019-06-01 00:00:00 2019-07-01 00:00:00 2019-08-01 00:00:00 2019-09-01 00:00:00 2019-10-01 00:00:00 2019-11-01 00:00:00 2019-12-01 00:00:00 Total   Power 84.51 70.47 73.37 64.98 66.33 99.6 179.29 155.54 131.7 73.34 68.67 73.35 1141.1499999999999 TOTAL 84.51 70.47 73.37 64.98 66.33 99.6 179.29 155.54 131.7 73.34 68.67 73.35 1141.1499999999999 Business 4.316046428571429 3.5990035714285713 3.7471107142857147 3.318621428571429 3.3875678571428574 5.086714285714286 9.156596428571428 7.94365 6.726107142857143 3.7455785714285716 3.5070750000000004 3.7460892857142856 58.28016071428572 Nat Gas Nat Gas  1/1/2019 through 12/31/2019   Payee 2019-01-01 00:00:00 2019-02-01 00:00:00 2019-03-01 00:00:00 2019-04-01 00:00:00 2019-05-01 00:00:00 2019-06-01 00:00:00 2019-07-01 00:00:00 2019-08-01 00:00:00 2019-09-01 00:00:00 2019-10-01 00:00:00 2019-11-01 00:00:00 2019-12-01 00:00:00 Total   Natural Gas 121.26 104.08 103.73 13.69 27.66 20.94 18.04 18.04 21.7 24.45 36.65 75.05 585.29 TOTAL 121.26 104.08 103.73 13.69 27.66 20.94 18.04 18.04 21.7 24.45 36.65 75.05 585.29 Business 6.192921428571429 5.315514285714285 5.297639285714286 0.6991678571428571 1.4126357142857144 1.0694357142857145 0.9213285714285714 0.9213285714285714 1.10825 1.2486964285714286 1.871767857142857 3.832910714285714 29.89159642857142 Water Sewer Water Sewer  1/1/2019 through 12/31/2019   Payee 2019-01-01 00:00:00 2019-02-01 00:00:00 2019-03-01 00:00:00 2019-04-01 00:00:00 2019-05-01 00:00:00 2019-06-01 00:00:00 2019-07-01 00:00:00 2019-08-01 00:00:00 2019-09-01 00:00:00 2019-10-01 00:00:00 2019-11-01 00:00:00 2019-12-01 00:00:00 Total   Muni Water 54.02 59.54 52.37 48.87 51.91 76.25 101.76 93.49 95.06 84.27 54.62 63.52 835.68 TOTAL 54.02 59.54 52.37 48.87 51.91 76.25 101.76 93.49 95.06 84.27 54.62 63.52 835.68 Business 2.7588785714285717 3.0407928571428573 2.674610714285714 2.495860714285714 2.651117857142857 3.8941964285714286 5.1970285714285716 4.774667857142857 4.85485 4.303789285714286 2.7895214285714287 3.244057142857143 42.67937142857143 Mileage Date Miles Reimbursement Amount Starting Point Ending Point Round Trip? Client Comments 2019-01-07 00:00:00 0.58 80.8 46.864 Home 1 Client's office address Yes Client 1 Client in-office day 2019-01-14 00:00:00 0.58 80.8 46.864 Home 1 Client's office address Yes Client 1 Client in-office day 2019-01-21 00:00:00 0.58 80.8 46.864 Home 1 Client's office address Yes Client 1 Client in-office day 2019-01-23 00:00:00 0.58 31.6 18.328 Home 1 Starbucks Yes Client 2 Team meeting 2019-01-30 00:00:00 0.58 34.6 20.067999999999998 Home 1 Starbucks Yes Client 2 equipment handoff 2019-02-04 00:00:00 0.58 80.8 46.864 Home 1 Client's office address Yes Client 1 Client in-office day 2019-02-11 00:00:00 0.58 80.8 46.864 Home 1 Client's office address Yes Client 1 Client in-office day 2019-02-25 00:00:00 0.58 80.8 46.864 Home 1 Client's office address Yes Client 1 Client in-office day 2019-02-26 00:00:00 0.58 51.8 30.043999999999997 Home 1 Airport Yes Client 2 Year start planning sessions 2019-03-04 00:00:00 0.58 80.8 46.864 Home 1 Client's office address Yes Client 1 Client in-office day 2019-03-05 00:00:00 0.58 238 138.04 Home 1 Airport 2 Yes Client 2 Site review/planning 2019-03-11 00:00:00 0.58 80.8 46.864 Home 1 Client's office address Yes Client 1 Client in-office day 2019-03-18 00:00:00 0.58 80.8 46.864 Home 1 Client's office address Yes Client 1 Client in-office day 2019-03-25 00:00:00 0.58 80.8 46.864 Home 1 Client's office address Yes Client 1 Client in-office day 2019-04-15 00:00:00 0.58 518 300.44 Home 1 Conference hotel Yes Client 2 Client conferences 2019-04-29 00:00:00 0.58 17 9.86 Home 2 Client's office address Yes Client 1 Client in-office day 2019-05-01 00:00:00 0.58 26.6 15.427999999999999 Home 2 Airport Yes Client 2 Inventory 2019-05-06 00:00:00 0.58 17 9.86 Home 2 Client's office address Yes Client 1 Client in-office day 2019-05-06 00:00:00 0.58 26.6 15.427999999999999 Home 2 Airport Yes Client 2 Executive outing/meeting 2019-05-15 00:00:00 0.58 26.6 15.427999999999999 Home 2 Airport Yes Client 2 Executive retreat 2019-05-13 00:00:00 0.58 17 9.86 Home 2 Client's office address Yes Client 1 Client in-office day 2019-05-20 00:00:00 0.58 17 9.86 Home 2 Client's office address Yes Client 1 Client in-office day 2019-05-27 00:00:00 0.58 17 9.86 Home 2 Client's office address Yes Client 1 Client in-office day 2019-06-03 00:00:00 0.58 17 9.86 Home 2 Client's office address Yes Client 1 Client in-office day 2019-06-10 00:00:00 0.58 17 9.86 Home 2 Client's office address Yes Client 1 Client in-office day 2019-07-21 00:00:00 0.58 26.6 15.427999999999999 Home 2 Airport Yes Client 2 Working on computers 2019-08-12 00:00:00 0.58 26.6 15.427999999999999 Home 2 Airport Yes Client 2 Annual event planning 2019-08-15 00:00:00 0.58 26.6 15.427999999999999 Home 2 Airport Yes Client 2 Equipment clean up and inventory 2019-11-06 00:00:00 0.58 22.8 13.224 Home 3 Airport Yes Client 2 Annual event 2019-11-30 00:00:00 0.58 22.8 13.224 Home 3 Airport Yes Client 2 Executive retreat    2006.1999999999991 1163.5959999999998 TOTAL MILEAGE REIMBURSEMENT\n"
     ]
    }
   ],
   "source": [
    "# Create the pipeline with the full path to the folder.\n",
    "# We're also limiting the results to our specific file with the file_filter\n",
    "pipeline = Pipeline(FolderConnector(path=EXCEL_FOLDER_PATH, file_filter='2019_Business_Expenses.xlsx'))\n",
    "\n",
    "# When using a FolderConnector, we must specify the parser that should be used for this document\n",
    "pipeline.add_step(KodexaAction(slug='kodexa/excel-parser', options={}, attach_source=True))\n",
    "\n",
    "# Run the pipeline and get the pipeline's context.  We'll then get the processed document from the context\n",
    "pipeline.run()\n",
    "kodexa_doc = pipeline.context.output_document\n",
    "\n",
    "# Print the processed doc's contents\n",
    "print(f'\\nProcessed doc\\'s contents:\\n{kodexa_doc.get_root().get_all_content()}')"
   ]
  },
  {
   "cell_type": "markdown",
   "metadata": {},
   "source": [
    "## Parsing a PDF File\n",
    "\n",
    "We'll be adding a step to the pipeline that uses the 'kodexa/pdf-parser'"
   ]
  },
  {
   "cell_type": "code",
   "execution_count": 7,
   "metadata": {},
   "outputs": [
    {
     "name": "stdout",
     "output_type": "stream",
     "text": [
      "\n",
      "Processed doc's contents:\n",
      "6/12/2020 Page | Canvas  PRIVACY POLICY Your privacy is important to us. It is Kodexa, Inc's policy to respect your privacy regarding any information we may collect from you across our website, http://www.kodexa.com, and other sites we own and operate. We only ask for personal information when we truly need it to provide a service to you. We collect it by fair and lawful means, with your knowledge and consent. We also let you know why we’re collecting it and how it will be used. We only retain collected information for as long as necessary to provide you with your requested service. What data we store, we’ll protect within commercially acceptable means to prevent loss and theft, as well as unauthorized access, disclosure, copying, use or modi\u0000cation. We don’t share any personally identifying information publicly or with third-parties, except when required to by law. Our website may link to external sites that are not operated by us. Please be aware that we have no control over the content and practices of these sites, and cannot accept responsibility or liability for their respective privacy policies. You are free to refuse our request for your personal information, with the understanding that we may be unable to provide you with some of your desired services. Your continued use of our website will be regarded as acceptance of our practices around privacy and personal information. If you have any questions about how we handle user data and personal information, feel free to contact us. This policy is effective as of 1 June 2020. Recent Posts Subscribe to our newsletter to get important news & inside scoops: Launching Kodexa 2020-04-23 14:30:00 Email Kodexa : Use Cases 2020-04-23 14:00:00 Unstructured Data Challenges (part 3 of 3) Submit Deliver something amazing with Kodexa 2020-01-28 15:05:56 Why does Data remain Unstructured? (part 2 of Phone: (Phone Number)1-877-4-KODEXA 3) Email: (Email Address)hello@kodexa.com 2020-01-23 15:05:56 Unstructured Data : A Primer (part 1 of 3) 2020-01-20 15:05:56 Do you have any questions? We're happy to help. Copyright © 2020 All Rights Reserved by Kodexa    https://www.kodexa.com/privacy.html 1/2\n"
     ]
    }
   ],
   "source": [
    "# Create the pipeline with the full path to the folder.\n",
    "# We're also limiting the results to our specific file with the file_filter\n",
    "pipeline = Pipeline(FolderConnector(path=PDF_FOLDER_PATH, file_filter='Kodexa_Privacy.pdf'))\n",
    "\n",
    "# When using a FolderConnector, we must specify the parser that should be used for this document\n",
    "pipeline.add_step(KodexaAction(slug='kodexa/pdf-parser', options={\"layout_analysis_options\":{\"rollup\":\"word\",\"space_multiplier\":1},\n",
    "                                      \"analyze_layout\":True}, attach_source=True))\n",
    "\n",
    "# Run the pipeline and get the pipeline's context.  We'll then get the processed document from the context\n",
    "pipeline.run()\n",
    "kodexa_doc = pipeline.context.output_document\n",
    "\n",
    "# Print the processed doc's contents\n",
    "print(f'\\nProcessed doc\\'s contents:\\n{kodexa_doc.get_root().get_all_content()}')"
   ]
  },
  {
   "cell_type": "markdown",
   "metadata": {},
   "source": [
    "## Parsing an HTML File\n",
    "\n",
    "We'll be adding a step to the pipeline that uses the 'kodexa/html-parser'"
   ]
  },
  {
   "cell_type": "code",
   "execution_count": 5,
   "metadata": {},
   "outputs": [
    {
     "name": "stdout",
     "output_type": "stream",
     "text": [
      "\n",
      "Processed doc's contents:\n",
      "Your privacy is important to us. It is Kodexa, Inc's policy to respect your privacy regarding any information we may collect from you across our website,  , and other sites we own and operate. http://www.kodexa.com We only ask for personal information when we truly need it to provide a service to you. We collect it by fair and lawful means, with your knowledge and consent. We also let you know why we’re collecting it and how it will be used. We only retain collected information for as long as necessary to provide you with your requested service. What data we store, we’ll protect within commercially acceptable means to prevent loss and theft, as well as unauthorized access, disclosure, copying, use or modification. We don’t share any personally identifying information publicly or with third-parties, except when required to by law. Our website may link to external sites that are not operated by us. Please be aware that we have no control over the content and practices of these sites, and cannot accept responsibility or liability for their respective privacy policies. You are free to refuse our request for your personal information, with the understanding that we may be unable to provide you with some of your desired services. Your continued use of our website will be regarded as acceptance of our practices around privacy and personal information. If you have any questions about how we handle user data and personal information, feel free to contact us. This policy is effective as of 1 June 2020.\n"
     ]
    }
   ],
   "source": [
    "# Create the pipeline with the full path to the folder.\n",
    "# We're also limiting the results to our specific file with the file_filter\n",
    "pipeline = Pipeline(FolderConnector(path=HTML_FOLDER_PATH, file_filter='Kodexa_Privacy.html'))\n",
    "\n",
    "# When using a FolderConnector, we must specify the parser that should be used for this document\n",
    "pipeline.add_step(KodexaAction(slug='kodexa/html-parser', options={}, attach_source=True))\n",
    "\n",
    "# Run the pipeline and get the pipeline's context.  We'll then get the processed document from the context\n",
    "pipeline.run()\n",
    "kodexa_doc = pipeline.context.output_document\n",
    "\n",
    "# Print the processed doc's contents\n",
    "print(f'\\nProcessed doc\\'s contents:\\n{kodexa_doc.get_root().get_all_content()}')"
   ]
  },
  {
   "cell_type": "markdown",
   "metadata": {},
   "source": [
    "## Parsing an SEC EDGAR Filing Document (text)\n",
    "\n",
    "This is a specialty parser designed to EDGAR filings.   These filings are available on the SEC's website.\n",
    "\n",
    "We'll be adding a step to the pipeline that uses the 'kodexa/sec-edgar-parser'\n"
   ]
  },
  {
   "cell_type": "code",
   "execution_count": 12,
   "metadata": {},
   "outputs": [
    {
     "name": "stdout",
     "output_type": "stream",
     "text": [
      "\n",
      "Processed doc's contents:\n",
      "aac-nt10k_20191231.DOCX.htm SEC FILE NUMBER 001-36643 CUSIP NUMBER 000307108  UNITED STATES SECURITIES AND EXCHANGE COMMISSION WASHINGTON, DC 20549  FORM 12b-25  NOTIFICATION OF LATE FILING (Check One)  ☒ Form 10-K ☐ Form 20-F ☐ Form 11-K ☐ Form 10-Q ☐ Form 10-D ☐ Form N-SAR ☐ Form N-CSR  For Period Ended: December 31, 2019  ☐ Transition Report on Form 10-K ☐ Transition Report on Form 20-F ☐ Transition Report on Form 11-K ☐ Transition Report on Form 10-Q ☐ Transition Report on Form N-SAR  For the Transition Period Ended:  Nothing in this form shall be construed to imply that the Commission has verified any information contained herein. If the notification relates to a portion of the filing checked above, identify the Item(s) to which the notification relates:  PART I - REGISTRANT INFORMATION AAC HOLDINGS, INC. (Full Name of Registrant) N/A (Former Name if Applicable) 200 Powell Place  (Address of Principal Executive Office (Street and Number) ) Brentwood, Tennessee 37027 (City, State and Zip Code) PART II - RULES 12b-25(b) AND (c) If the subject report could not be filed without unreasonable effort or expense and the registrant seeks relief pursuant to Rule 12b-25(b), the following should be completed. (Check box if appropriate)  □    (a) The reason described in reasonable detail in Part III of this form could not be eliminated without unreasonable effort or expense; (b)The subject annual report, semi-annual report, transition report on Form 10-K, Form 20-F, Form 11-K, Form N-SAR or Form N-CSR, or portion thereof, will be filed on or before the fifteenth calendar day following the prescribed due date; or the subject quarterly report or transition report on Form 10-Q or subject distribution report on Form 10-D, or portion thereof, will be filed on or before the fifth calendar day following the prescribed due date; and (c)The accountant’s statement or other exhibit required by Rule 12b-25(c) has been attached if applicable. PART III - NARRATIVE State below in reasonable detail why Forms 10-K, 20-F, 11-K, 10-Q, 10-D, N-SAR, N-CSR, or the transition report or portion thereof, could not be filed within the prescribed time period.  AAC Holdings, Inc. (the “ ”) has determined that it is not able to file its Annual Report on Form 10-K for the year ended December 31, 2019 (the “ ”) by the prescribed due date without unreasonable effort or expense for the following reasons: Company Form 10-K The Company’s management has been, and continues to be, focused on ensuring compliance with the Company’s Credit Agreement, dated March 8, 2019, as previously amended, with Credit Suisse AG, as administrative agent and collateral agent, and the lenders party thereto (the “ ”), and the Company’s Credit Agreement, dated June 30, 2017, as previously amended, with Credit Suisse AG, as administrative agent and collateral agent, and the lenders and other parties thereto (the “ ” and, together with the 2019 Credit Facility, the “ ”). Certain events of default have occurred under the Credit Facilities. The Company’s management has been engaged in discussions with its lenders regarding potential entrance into amendments to the Credit Facilities and forbearance agreements to address the Company’s current liquidity, non-compliance with covenants and obligations and its strategic transaction process, among other matters.  2019 Credit Facility 2017 Credit Facility Credit Facilities In addition, the COVID-19 outbreak and various measures taken by local and national authorities to combat such outbreak have affected the Company's operations, including its finance and accounting related processes. Because the Company’s efforts to address compliance with the Credit Facilities and the unanticipated COVID-19 outbreak, which have required a significant amount of management’s time and attention that would otherwise be devoted to the preparation of the Form 10-K, the Company is unable to file the Form 10-K within the prescribed period of time without unreasonable effort or expense. While the Company is in process of preparing and reviewing the financial records and other information which form the basis for its Form 10-K report, it does not currently expect to file the Form 10-K on or before the expiration of the fifteen-day extension period granted pursuant to Rule 12b-25 under the Securities Exchange Act of 1934, as amended.  Cautionary Statement Regarding Forward-Looking Statements This Form 12b-25 contains forward-looking statements within the meaning of the federal securities laws. These forward-looking statements are made only as of the date of this Form 12b-25. In some cases, you can identify forward-looking statements by terms such as “anticipates,” “believes,” “could,” “estimates,” “expects,” “may,” “potential,” “predicts,” “projects,” “should,” “will,” “would,” and similar expressions intended to identify forward-looking statements, although not all forward-looking statements contain these words. Forward-looking statements may include information concerning the Company’s anticipated timing of the Form 10-K filing. These statements involve known and unknown risks, uncertainties and assumptions (including uncertainties around the duration and severity of the impact of the COVID-19 outbreak that are difficult to predict), and other factors that may cause our actual results and performance to be materially different from the information contained in the forward-looking statements. These risks, uncertainties and other factors include, without limitation: (i) the inability to meet the covenants in the Company’s loan documents or lack of borrowing capacity including the Company’s inability to enter into or comply with forbearance agreements and amendments with its lenders with respect to certain events of default; (ii) any ability to successfully raise capital to meet the Company’s liquidity needs; (iii) the effects of global economic, political, market, health and other conditions, including the impact of the COVID-19 outbreak; (iv) the impact of social distancing, shelter-in-place, shutdowns of non-essential businesses and similar measures imposed or undertaken by governments, companies and consumers in an effort to combat the spread of the coronavirus; (v) the risk of potential litigation or regulatory action arising from the failure to timely file the Form 10-K; (vi) the timing of the review of the Form 10-K by, and the conclusions of, the Company’s auditor; (vii) depending on the timing of the filing of the Form 10-K, the Company may be in default under certain agreements with third-parties; (viii) the risk that the filing of the Form 10-K will take longer than currently anticipated; and (ix) general economic conditions, as well as other risks discussed in the “Risk Factors” section of the Company’s most recently filed Annual Report on Form 10-K and other filings with the SEC. As a result of these factors, the Company cannot provide assurance that the forward-looking statements in this Form 12b-25 will prove to be accurate. Investors should not place undue reliance upon forward-looking statements. PART IV - OTHER INFORMATION (1) Name and telephone number of person to contact in regard to this notification   Andrew W. McWilliams    615    732-1385 (Name)    (Area Code)    (Telephone Number)   (2) Have all other periodic reports required under Section 13 or 15(d) of the Securities Exchange Act of 1934 or Section 30 of the Investment Company Act of 1940 during the preceding 12 months or for such shorter period that the registrant was required to file such report(s) been filed? If answer is no, identify report(s). Yes   No  ☒ ☐  (3) Is it anticipated that any significant change in results of operations from the corresponding period for the last fiscal year will be reflected by the earnings statements to be included in the subject report or portion thereof? Yes   No  ☒  ☐ If so, attach an explanation of the anticipated change, both narratively and quantitatively, and, if appropriate, state the reasons why a reasonable estimate of the results cannot be made. Management anticipates significant changes in the Company’s results of operations from the year ended December 31, 2018 to the year ended December 31, 2019, which is the period covered by the Form 10-K. As a  result of the matters discussed in Part III above, the Company is unable to provide a reasonable quantitative esti mate of the changes in the results of operations, or the significance thereof, from the corresponding period for the last fiscal year because the Company’s financial statements remain subject to ongoing review by management and the Company’s auditors.    AAC HOLDINGS, INC. (Name of Registrant as Specified in Charter) has caused this notification to be signed on its behalf by the undersigned hereunto duly authorized. AAC HOLDINGS, INC.  Date: March 31, 2020  By:  /s/ Andrew W. McWilliams Andrew W. McWilliams Chief Executive Officer INSTRUCTION: The form may be signed by an executive officer of the registrant or by any other duly authorized representative. The name and title of the person signing the form shall be typed or printed beneath the signature. If the statement is signed on behalf of the registrant by an authorized representative (other than an executive officer), evidence of the representative’s authority to sign on behalf of the registrant shall be filed with the form. ATTENTION Intentional misstatements or omissions of fact constitute Federal Criminal Violations (See 18 U.S.C. 1001).\n"
     ]
    }
   ],
   "source": [
    "\n",
    "# The EDGAR document we're parsing is on the SEC's website.\n",
    "# We'll use the 'from_url' method to connect that source to the pipeline\n",
    "pipeline = Pipeline.from_url(\"https://www.sec.gov/Archives/edgar/data/1606180/0001564590-20-014614.txt\")\n",
    "\n",
    "# When using a FolderConnector, we must specify the parser that should be used for this document\n",
    "pipeline.add_step(KodexaAction(slug='kodexa/sec-edgar-parser', options={}))\n",
    "\n",
    "# Run the pipeline and get the pipeline's context.  We'll then get the processed document from the context\n",
    "pipeline.run()\n",
    "kodexa_doc = pipeline.context.output_document\n",
    "\n",
    "# Print the processed doc's contents\n",
    "print(f'\\nProcessed doc\\'s contents:\\n{kodexa_doc.get_root().get_all_content()}')\n",
    "\n"
   ]
  },
  {
   "cell_type": "markdown",
   "metadata": {},
   "source": [
    "## Parsing an RSS Feed\n",
    "\n",
    "We'll be adding a step to the pipeline that uses the 'kodexa/rss-parser'"
   ]
  },
  {
   "cell_type": "code",
   "execution_count": 13,
   "metadata": {},
   "outputs": [
    {
     "data": {
      "text/plain": [
       "\"\\npipeline = Pipeline.from_text('hello')\\n\\npipeline.add_step(KodexaAction(slug='kodexa/rss-parser', \\n                               options={'urls':['https://www.fool.com/a/feeds/foolwatch?format=rss2&id=foolwatch&apikey=foolwatch-feed']}, \\n                               attach_source=True))\\npipeline.run()\\n\\nkodexa_doc = pipeline.context.output_document\\n\\n# Print the processed doc's contents\\nprint(f'\\nProcessed doc's contents:\\n{kodexa_doc.get_root().get_all_content()}')\\n\""
      ]
     },
     "execution_count": 13,
     "metadata": {},
     "output_type": "execute_result"
    }
   ],
   "source": [
    "\"\"\"\n",
    "pipeline = Pipeline.from_text('hello')\n",
    "\n",
    "pipeline.add_step(KodexaAction(slug='kodexa/rss-parser', \n",
    "                               options={'urls':['https://www.fool.com/a/feeds/foolwatch?format=rss2&id=foolwatch&apikey=foolwatch-feed']}, \n",
    "                               attach_source=True))\n",
    "pipeline.run()\n",
    "\n",
    "kodexa_doc = pipeline.context.output_document\n",
    "\n",
    "# Print the processed doc's contents\n",
    "print(f'\\nProcessed doc\\'s contents:\\n{kodexa_doc.get_root().get_all_content()}')\n",
    "\"\"\"\n",
    "    "
   ]
  },
  {
   "cell_type": "markdown",
   "metadata": {},
   "source": [
    "# Using the Slack Event parser\n",
    "\n",
    "We'll be adding a step to the pipeline that uses the 'kodexa/slack-parser'\n"
   ]
  },
  {
   "cell_type": "code",
   "execution_count": null,
   "metadata": {},
   "outputs": [],
   "source": []
  }
 ],
 "metadata": {
  "kernelspec": {
   "display_name": "kodexa_demos",
   "language": "python",
   "name": "kodexa_demos"
  },
  "language_info": {
   "codemirror_mode": {
    "name": "ipython",
    "version": 3
   },
   "file_extension": ".py",
   "mimetype": "text/x-python",
   "name": "python",
   "nbconvert_exporter": "python",
   "pygments_lexer": "ipython3",
   "version": "3.7.6"
  }
 },
 "nbformat": 4,
 "nbformat_minor": 4
}
