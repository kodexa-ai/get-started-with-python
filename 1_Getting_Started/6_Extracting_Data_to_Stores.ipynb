{
 "cells": [
  {
   "cell_type": "code",
   "execution_count": null,
   "metadata": {},
   "outputs": [],
   "source": [
    "JsonDocumentStore\n",
    "    \"\"\"\n",
    "    An implementation of a document store that uses JSON files to store the documents and\n",
    "    maintains an index.json containing some basics of the documents\n",
    "    \"\"\"\n",
    "\n",
    "\n",
    "\n",
    "TableDataStore\n",
    "    \"\"\"\n",
    "    Stores data as a list of lists that can represent a table.\n",
    "\n",
    "    This is a good store when you are capturing nested or tabular data.\n",
    "\n",
    "    :param columns: a list of the column names (default to dynamic)\n",
    "    :param rows: initial set of rows (default to empty)\n",
    "\n",
    "    \"\"\"\n",
    "    \n",
    "\n",
    "DictDataStore\n",
    "    \"\"\"\n",
    "    Stores data as a list of dictionaries that can be any structure\n",
    "\n",
    "    This is a good store when you are capturing nested or semi-structured data\n",
    "    \"\"\"\n",
    "    \n",
    "\n",
    "DataStoreHelper\n",
    "    \"\"\"\n",
    "    A small helper that can convert a dictionary back into a store\n",
    "    type\n",
    "    \"\"\"\n",
    "\n",
    "\n"
   ]
  }
 ],
 "metadata": {
  "kernelspec": {
   "display_name": "kodexa_demos",
   "language": "python",
   "name": "kodexa_demos"
  },
  "language_info": {
   "codemirror_mode": {
    "name": "ipython",
    "version": 3
   },
   "file_extension": ".py",
   "mimetype": "text/x-python",
   "name": "python",
   "nbconvert_exporter": "python",
   "pygments_lexer": "ipython3",
   "version": "3.7.6"
  }
 },
 "nbformat": 4,
 "nbformat_minor": 4
}
