{
 "cells": [
  {
   "cell_type": "markdown",
   "metadata": {},
   "source": [
    "# Kodexa's Document Content Model\n",
    "\n",
    "In this notebook, we'll cover the core features of Kodexa's content model (document), the structure of a Kodexa document, and how the elements of a document make working with unstructured data easier.\n"
   ]
  },
  {
   "cell_type": "markdown",
   "metadata": {},
   "source": [
    "## So what is the Kodexa document content model?\n",
    "\n",
    "Kodexa's content model, the \"Document\", provides a structure for describing the features of elements within a data source, and relationships describing the relationships between the elements.  Because unstructured data is found in many different source types and file formats, our document content model must be flexible so that it can capture & reflect the specific differences that are present in different source types.  \n",
    "\n",
    "We know that learning how to work with different source types/file formats is time consuming, and integrating processing capabilities across different source types can be difficult.  To make working with multiple source types easier, we’ve built capabilities (Actions) that work off this single common document content model.  While different source types may produce Kodexa documents with slightly different features, the common elements of them and the thinking/approach to working with them remain the same across all source types.\n",
    "\n",
    "As you learn to “think in Kodexa” and solve problems using Kodexa, you will learn that the flexibility of the Document is your friend. It provides you a consistent way to work across use-cases, and since the model and API is consistent across source types, it means that you can write reusable code that can be leveraged in multiple use-cases. \n"
   ]
  },
  {
   "cell_type": "markdown",
   "metadata": {},
   "source": [
    "### What does that mean to me?\n",
    "\n",
    "That means that if you parse an Excel file to a Kodexa Document, the relationship between each cell and its row is maintained, as well as the relationship between the row and its parent worksheet.  It’s all taken care of by the Document’s content model.  If you parse an HTML file into a Kodexa Document, the relationships between an HTML node and its parent/child/sibling tags are also maintained by the Document’s content model.  Both of these data sources (Excel & HTML) can be parsed and transformed into a common format, and common actions can be applied to them.\n"
   ]
  },
  {
   "cell_type": "markdown",
   "metadata": {},
   "source": [
    "## Load up a document and take a look inside\n",
    "\n",
    "So that we skip the 'how-to' of parsing and just focus on the Document and its structures, we're going to use an example PDF that's already been parsed and saved to a *.kdxa file (our Kodexa file format).  The original source PDF is located in the _data/pdf folder ('../_data/pdfs/Kodexa_Privacy.pdf')\n",
    "\n",
    "### Importing Kodexa\n",
    "\n",
    "We'll need to import the Document module of kodexa.  The kodexa package is public and available for installation with a simple 'pip install kodexa'.  "
   ]
  },
  {
   "cell_type": "code",
   "execution_count": 17,
   "metadata": {},
   "outputs": [
    {
     "name": "stdout",
     "output_type": "stream",
     "text": [
      "\n",
      "The .kdxa of our PDF file is located at: /home/skep/Projects/Kodexa/kodexa-demo-notebooks/1_Getting_Started/../_data/pdfs/Kodexa_Privacy.kdxa\n",
      "\n"
     ]
    }
   ],
   "source": [
    "\n",
    "# The kodexa package is public\n",
    "from kodexa import Document\n",
    "\n",
    "# Setting up location of data file\n",
    "import os\n",
    "DATA_FOLDER = '_data'\n",
    "PDF_FOLDER = 'pdfs'\n",
    "PDF_KDXA_FILE = 'Kodexa_Privacy.kdxa'\n",
    "PDF_KDXA_FULL_PATH = os.path.join(os.getcwd(), '..', DATA_FOLDER, PDF_FOLDER, PDF_KDXA_FILE)\n",
    "\n",
    "print(f'\\nThe .kdxa of our PDF file is located at: {PDF_KDXA_FULL_PATH}\\n')"
   ]
  },
  {
   "cell_type": "code",
   "execution_count": 18,
   "metadata": {},
   "outputs": [],
   "source": [
    "\n",
    "# Load the *.kdxa file as a Kodexa Document\n",
    "kodexa_doc = Document.from_kdxa(PDF_KDXA_FULL_PATH)\n"
   ]
  },
  {
   "cell_type": "markdown",
   "metadata": {
    "Collapsed": "false"
   },
   "source": [
    "## Let's dive into the Document structure\n",
    "\n",
    "Kodexa Documents documents are represented in a generalized document structure consisting of a collection of metadata and a set of content nodes.  When source content has been parsed and structured in a Kodexa document, it's broken up into a tree of nodes with a \"root\" content node at the top and one or more child content nodes branching off as leaves.  Each of these nodes can capture a portion of the original content (text), and may also have one or more \"features\". Features allow flexibility in the way that we capture metadata about content, and allow us to add new information to a node that we may want to use in later processing.\n",
    "\n",
    "Getting started, there are two properties on the Document that you'll want to be familiar with:\n",
    "\n",
    "* **metadata**:  Metadata about/for this document\n",
    "* content_node: The top-most ContentNode in the document, also called the \"root_node\".  It will have zero-to-many child content nodes. \n",
    "\n",
    "## Now we'll dig into the ContentNode\n",
    "\n",
    "The ContentNode is the heart of the content model.  A content node has several core properties such as type, content, content_parts, children, and feature(s).\n",
    "* **type:** The specific type of this content node.\n",
    "* **parent:** Each node is aware of its parent. Only a root content node on a document would not have a parent.\n",
    "* **features:** Features are a way to store/add additional information about a content node.  The features property on a content node is a collection of features.\n",
    "* **content:** The text representation of the content.\n",
    "* **content_parts:** An array version of the content, this is used to break the content and intersperse it with the children, allowing us to understand where the child nodes fit into the content.  It is not always present, and is only present if the structure allows for child nodes to be embedded into the content at specific locations.\n",
    "* **children:** The child content nodes that roll up to this content node.\n",
    "\n",
    "While at a generic level everything can be thought of as a content node, we leverage the 'type' property on the content node to provide meaning to the hierarchy. If we were working with a PDF file, we would expect to see content nodes with types such as 'div', 'p', 'span', etc.  If we were parsing a PDF file, we may see type values such as 'page' or 'line'.\n",
    "\n",
    "For this example, we'll be focusing on the **type**, **features**, and **content** of our content nodes.\n",
    "\n",
    "More info on Kodexa's Content Model and Document structure can be found here:  [Kodexa Developer Guide](https://developer.kodexa.com/developers/what-is-kodexa/document-structure)\n"
   ]
  },
  {
   "cell_type": "markdown",
   "metadata": {},
   "source": [
    "## Let's see the content model in action\n",
    "\n",
    "We're going to create two different Kodexa documents from two different types of sources, text and Excel.  We'll demonstarate how both "
   ]
  },
  {
   "cell_type": "code",
   "execution_count": 29,
   "metadata": {},
   "outputs": [
    {
     "name": "stdout",
     "output_type": "stream",
     "text": [
      "\n",
      "metadata :: {'connector_options': {'id': '7684716fb8344b539aee792f5b1f4d72'}, 'connector': 'cloud-content'}\n",
      "\n",
      "root_node :: ContentNode [type:root] (0 features, 1 children) [None]\n",
      "\n"
     ]
    }
   ],
   "source": [
    "\n",
    "print(f'\\nmetadata :: {kodexa_doc.metadata}')\n",
    "print(f'\\nroot_node :: {kodexa_doc.get_root()}\\n')\n"
   ]
  },
  {
   "cell_type": "code",
   "execution_count": 9,
   "metadata": {},
   "outputs": [
    {
     "name": "stdout",
     "output_type": "stream",
     "text": [
      "ContentNode [type:text] (0 features, 0 children) [A flea and a fly got stuck in a flue.\n",
      " Said the flea to the fly, \"What shall we do?\"\n",
      " Said the fly, \"Let us flee!\"\n",
      " Said the flea, \"Let us fly!\"\n",
      " So they flew through a flaw in the flue.]\n"
     ]
    }
   ],
   "source": [
    "from kodexa import Document\n",
    "\n",
    "text = 'A flea and a fly got stuck in a flue.\\n \\\n",
    "Said the flea to the fly, \"What shall we do?\"\\n \\\n",
    "Said the fly, \"Let us flee!\"\\n \\\n",
    "Said the flea, \"Let us fly!\"\\n \\\n",
    "So they flew through a flaw in the flue.'\n",
    "\n",
    "kodexa_doc_text = Document.from_text(text)\n",
    "\n",
    "print(kodexa_doc_text.get_root())"
   ]
  },
  {
   "cell_type": "code",
   "execution_count": 10,
   "metadata": {},
   "outputs": [
    {
     "name": "stdout",
     "output_type": "stream",
     "text": [
      "\n",
      "text\n"
     ]
    }
   ],
   "source": [
    "text_nodes = kodexa_doc_text.select('//*')\n",
    "\n",
    "print()\n",
    "\n",
    "for t in text_nodes:\n",
    "    print(t.type)"
   ]
  },
  {
   "cell_type": "code",
   "execution_count": 11,
   "metadata": {},
   "outputs": [
    {
     "name": "stdout",
     "output_type": "stream",
     "text": [
      "\n",
      "This is where the Excel document is located: /home/skep/Projects/Kodexa/kodexa-demo-notebooks/1_Getting_Started/../_data/excel_workbooks/2019_Business_Expenses.xlsx\n",
      "\n"
     ]
    }
   ],
   "source": [
    "import os\n",
    "\n",
    "# Setting up location of data file\n",
    "DATA_FOLDER = '_data'\n",
    "EXCEL_FOLDER = 'excel_workbooks'\n",
    "EXCEL_FILE = '2019_Business_Expenses.xlsx'\n",
    "\n",
    "EXCEL_FULL_PATH = os.path.join(os.getcwd(), '..', DATA_FOLDER, EXCEL_FOLDER, EXCEL_FILE)\n",
    "\n",
    "print(f'\\nThis is where the Excel document is located: {EXCEL_FULL_PATH}\\n')\n"
   ]
  },
  {
   "cell_type": "code",
   "execution_count": 12,
   "metadata": {},
   "outputs": [],
   "source": [
    "kodexa_doc_excel = Document.from_file(EXCEL_FULL_PATH)"
   ]
  },
  {
   "cell_type": "code",
   "execution_count": 13,
   "metadata": {},
   "outputs": [],
   "source": [
    "kodexa_doc_excel.get_root()"
   ]
  },
  {
   "cell_type": "code",
   "execution_count": 14,
   "metadata": {},
   "outputs": [
    {
     "name": "stdout",
     "output_type": "stream",
     "text": [
      "\n",
      "This is where the text document is located: /home/skep/Projects/Kodexa/kodexa-demo-notebooks/1_Getting_Started/../_data/texts/tongue_twister.txt\n",
      "\n"
     ]
    }
   ],
   "source": [
    "# Setting up location of data file\n",
    "DATA_FOLDER = '_data'\n",
    "TEXT_FOLDER = 'texts'\n",
    "TEXT_FILE = 'tongue_twister.txt'\n",
    "\n",
    "TEXT_FULL_PATH = os.path.join(os.getcwd(), '..', DATA_FOLDER, TEXT_FOLDER, TEXT_FILE)\n",
    "\n",
    "print(f'\\nThis is where the text document is located: {TEXT_FULL_PATH}\\n')\n"
   ]
  },
  {
   "cell_type": "code",
   "execution_count": 20,
   "metadata": {},
   "outputs": [
    {
     "name": "stdout",
     "output_type": "stream",
     "text": [
      "\\metadata:: {'connector': 'file-handle', 'connector_options': {'file': '/home/skep/Projects/Kodexa/kodexa-demo-notebooks/1_Getting_Started/../_data/texts/tongue_twister.txt'}}\n",
      "root_node:: None\n",
      "mixins:: ['core']\n",
      "uuid:: faae1970-ba4f-5436-b4e4-88dfc001d971\n",
      "source::<kodexa.model.model.SourceMetadata object at 0x7f2742e07c90>\n"
     ]
    }
   ],
   "source": [
    "text_file_doc = Document.from_file(TEXT_FULL_PATH)\n",
    "\n",
    "text_file_doc.get_root()\n",
    "\n",
    "def print_doc_info(doc):\n",
    "    print(f'\\metadata:: {doc.metadata}\\nroot_node:: {doc.get_root()}\\nmixins:: {doc.get_mixins()}\\nuuid:: {doc.uuid}\\nsource::{doc.source}')\n",
    "\n",
    "\n",
    "print_doc_info(text_file_doc)\n"
   ]
  },
  {
   "cell_type": "code",
   "execution_count": null,
   "metadata": {},
   "outputs": [],
   "source": [
    "from_json\n"
   ]
  },
  {
   "cell_type": "code",
   "execution_count": null,
   "metadata": {},
   "outputs": [],
   "source": [
    "from_dict\n"
   ]
  },
  {
   "cell_type": "code",
   "execution_count": null,
   "metadata": {},
   "outputs": [],
   "source": [
    "from_url"
   ]
  }
 ],
 "metadata": {
  "kernelspec": {
   "display_name": "kodexa_demos",
   "language": "python",
   "name": "kodexa_demos"
  },
  "language_info": {
   "codemirror_mode": {
    "name": "ipython",
    "version": 3
   },
   "file_extension": ".py",
   "mimetype": "text/x-python",
   "name": "python",
   "nbconvert_exporter": "python",
   "pygments_lexer": "ipython3",
   "version": "3.7.6"
  }
 },
 "nbformat": 4,
 "nbformat_minor": 4
}
