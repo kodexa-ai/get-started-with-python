{
 "cells": [
  {
   "cell_type": "markdown",
   "metadata": {},
   "source": [
    "# Kodexa's Document Content Model\n",
    "\n",
    "In this notebook, we'll cover the core features of Kodexa's content model (document), the structure of a Kodexa Document, and how that stucture make working with unstructured data of various types easier.\n"
   ]
  },
  {
   "cell_type": "markdown",
   "metadata": {},
   "source": [
    "## What is the Kodexa Document content model?\n",
    "\n",
    "Kodexa's content model, the \"Document\", provides a structure for describing the features and relationship of elements within a data source.  Because unstructured data is found in many different source types and file formats, our document content model must be flexible so that it can capture & reflect the specific differences that are present in different source types.  \n",
    "\n",
    "We know that learning to work with different source types/file formats is time consuming, and integrating processing capabilities across different source types can be difficult.  To make working with multiple source types easier, we’ve built capabilities (Actions) that work off a single common document content model.  While different source types may produce Kodexa documents with slightly different features, they share common elements and the approach to working with them is the same across all source types.\n",
    "\n",
    "As you learn to “think in Kodexa” and solve problems using Kodexa, you will find that the flexibility of the Document is your friend. It provides a consistent way to work across use-cases, and since the model and API is consistent across source types, it means you can write reusable code that can be leveraged in multiple use-cases. \n",
    "\n",
    "\n",
    "### A common approach to different source types\n",
    "\n",
    "That means that if you parse an Excel file to a Kodexa Document, the relationship between each cell and its row is maintained, as well as the relationship between the row and its parent worksheet.  It’s all taken care of by the Document’s content model.  If you parse a PDF file into a Kodexa Document, the relationships between a line of text (node of type line) and its parent/child/sibling nodes are also maintained by the Document’s content model.  Both of these data sources (Excel & PDF) can be parsed and transformed into a common format, and common actions can be applied to them.\n"
   ]
  },
  {
   "cell_type": "markdown",
   "metadata": {},
   "source": [
    "## Importing Kodexa\n",
    "\n",
    "The kodexa package is public and available for installation with a simple 'pip install kodexa'.  It's already been included in the environment.yml provided with this repository and if you've set up your conda enviroment according to those instructions, it should already be availble to you by selecting the 'kodexa_python_quickstart' kernel.\n"
   ]
  },
  {
   "cell_type": "markdown",
   "metadata": {},
   "source": [
    "## Load up a document and take a look inside\n",
    "\n",
    "So that we can skip the 'how-to' of parsing and just focus on the Document and its structures, we're going to use an example PDF that's already been parsed and saved to a *.kdxa file (our Kodexa file format). The original source PDF is located in the _data/pdf folder ('../_data/pdfs/Kodexa_Privacy.pdf')\n"
   ]
  },
  {
   "cell_type": "code",
   "execution_count": 2,
   "metadata": {},
   "outputs": [
    {
     "name": "stdout",
     "output_type": "stream",
     "text": [
      "\n",
      "The .kdxa of our PDF file is located at: /home/skep/Projects/Kodexa/get-started-with-python/1_Getting_Started/../_data/pdfs/Kodexa_Privacy.kdxa\n",
      "\n"
     ]
    }
   ],
   "source": [
    "\n",
    "# The kodexa package is public\n",
    "from kodexa import Document\n",
    "\n",
    "# Setting up location of the example data file\n",
    "import os\n",
    "DATA_FOLDER = '_data'\n",
    "PDF_FOLDER = 'pdfs'\n",
    "PDF_KDXA_FILE = 'Kodexa_Privacy.kdxa'\n",
    "PDF_KDXA_FULL_PATH = os.path.join(os.getcwd(), '..', DATA_FOLDER, PDF_FOLDER, PDF_KDXA_FILE)\n",
    "\n",
    "print(f'\\nThe .kdxa of our PDF file is located at: {PDF_KDXA_FULL_PATH}\\n')"
   ]
  },
  {
   "cell_type": "code",
   "execution_count": 3,
   "metadata": {},
   "outputs": [],
   "source": [
    "\n",
    "# Load the *.kdxa file as a Kodexa Document\n",
    "kodexa_doc_pdf = Document.from_kdxa(PDF_KDXA_FULL_PATH)\n"
   ]
  },
  {
   "cell_type": "markdown",
   "metadata": {
    "Collapsed": "false"
   },
   "source": [
    "## Let's dive into the Document structure\n",
    "\n",
    "Kodexa Documents are represented in a generalized document structure consisting of a collection of metadata and a set of content nodes.  When source content has been parsed and structured in a Kodexa Document, it's broken up into a tree of nodes with a \"root\" content node at the top and one or more child content nodes branching off as leaves.  Each of these nodes can capture a portion of the original content (text), and may also have one or more \"features\". Features allow flexibility in the way that we capture metadata about content, and allow us to add new information to a node that we may want to use in later processing.\n",
    "\n",
    "Getting started, there are two properties on the Document that you'll want to be familiar with:\n",
    "\n",
    "* **metadata**:  Metadata about/for this document\n",
    "* **content_node**: The top-most ContentNode in the document, also called the \"root_node\".  It will have zero-to-many child content nodes. \n",
    "\n",
    "## Digging into the ContentNode\n",
    "\n",
    "The ContentNode is the heart of the content model.  A content node has several core properties such as type, content, content_parts, children, and feature(s).\n",
    "* **type:** The specific type of this content node.\n",
    "* **parent:** Each node is aware of its parent. Only a root content node on a document would not have a parent.\n",
    "* **features:** Features are a way to store/add additional information about a content node.  The features property on a content node is a collection of features.\n",
    "* **content:** The text representation of the content.\n",
    "* **content_parts:** An array version of the content, this is used to break the content and intersperse it with the children, allowing us to understand where the child nodes fit into the content.  It is not always present, and is only present if the structure allows for child nodes to be embedded into the content at specific locations.\n",
    "* **children:** The child content nodes that roll up to this content node.\n",
    "\n",
    "While at a generic level everything can be thought of as a content node, we leverage the 'type' property on the content node to provide meaning to the hierarchy. If we were working with a HTML file, we would expect to see content nodes with types such as 'div', 'p', 'span', etc.  If we were parsing a PDF file, we may see type values such as 'page' or 'line'.\n",
    "\n",
    "For this example, we'll be focusing on the **type**, **features**, and **content** of our content nodes.\n",
    "\n",
    "More info on Kodexa's Content Model and Document structure can be found here:  [Kodexa Developer Guide](https://developer.kodexa.com/developers/what-is-kodexa/document-structure)\n"
   ]
  },
  {
   "cell_type": "markdown",
   "metadata": {},
   "source": [
    "## Let's check out the content model\n"
   ]
  },
  {
   "cell_type": "code",
   "execution_count": 4,
   "metadata": {},
   "outputs": [
    {
     "name": "stdout",
     "output_type": "stream",
     "text": [
      "\n",
      "metadata :: {'connector_options': {'id': '7684716fb8344b539aee792f5b1f4d72'}, 'connector': 'cloud-content'}\n",
      "\n",
      "root_node :: ContentNode [type:root] (0 features, 1 children) [None]\n",
      "\n"
     ]
    }
   ],
   "source": [
    "\n",
    "print(f'\\nmetadata :: {kodexa_doc_pdf.metadata}')\n",
    "print(f'\\nroot_node :: {kodexa_doc_pdf.get_root()}\\n')\n"
   ]
  },
  {
   "cell_type": "markdown",
   "metadata": {},
   "source": [
    "## The document's metadata information has been set and there's a root ContentNode present\n",
    "\n",
    "We should see these properties on all Kodexa Documents, regardless of what source type they originate from.  The actual data will vary between document and document source types, but the general structure will be the same.\n",
    "\n",
    "The metadata on this document indicates that it was parsed via a cloud-content connector.  We discuss connectors and joining them to pipelines in notebook 2, Connecting_Data_to_Pipelines.\n"
   ]
  },
  {
   "cell_type": "markdown",
   "metadata": {},
   "source": [
    "## The original source of this document was PDF.  Let's see what kind of ContentNode types are available on it"
   ]
  },
  {
   "cell_type": "code",
   "execution_count": 5,
   "metadata": {},
   "outputs": [
    {
     "name": "stdout",
     "output_type": "stream",
     "text": [
      "\n",
      "Our sample text document has the following node types: {'word', 'image', 'root', 'content-area', 'line', 'page'}\n"
     ]
    }
   ],
   "source": [
    "\n",
    "# Selecting all nodes on the kodexa_doc_pdf\n",
    "pdf_doc_nodes = kodexa_doc_pdf.select('//*')\n",
    "\n",
    "pdf_node_set = set()\n",
    "for t in pdf_doc_nodes:\n",
    "    pdf_node_set.add(t.type)\n",
    "    \n",
    "print(f'\\nOur sample text document has the following node types: {pdf_node_set}')\n"
   ]
  },
  {
   "cell_type": "markdown",
   "metadata": {},
   "source": [
    "## Using selectors to choose nodes on a document\n",
    "\n",
    "Selectors allow us to identify specific nodes on a document so we can inspect their contents or perform operations on them.  You'll find that many of Kodexa's Actions, available for use in pipelines, include a 'selector' parameter so you can narrow down specific nodes to be utilized in the function.  The syntax for selectors is *similar* to XPath, and is designed so you can build &  combine them to varying degrees of complexity.  \n",
    "\n",
    "Additional documentation on selectors, including examples of usage, can be found in our documentat: [Developer Documentation - Selectors](https://developer.kodexa.com/developers/documentation/selectors)"
   ]
  },
  {
   "cell_type": "code",
   "execution_count": 6,
   "metadata": {},
   "outputs": [
    {
     "name": "stdout",
     "output_type": "stream",
     "text": [
      "\n",
      "There are 1 pages in this PDF\n",
      "\n"
     ]
    }
   ],
   "source": [
    "\n",
    "# How many pages are in this PDF?\n",
    "\n",
    "# We can write the selector as '//*[typeRegex(\"page\")]' or as '//page'\n",
    "\n",
    "num_pdf_pages = len(kodexa_doc_pdf.select('//*[typeRegex(\"page\")]'))\n",
    "print(f'\\nThere are {num_pdf_pages} pages in this PDF\\n')\n"
   ]
  },
  {
   "cell_type": "code",
   "execution_count": 20,
   "metadata": {},
   "outputs": [
    {
     "name": "stdout",
     "output_type": "stream",
     "text": [
      "Node uuid: 2ea988bf-277c-4846-8197-ed5614a387c4\n",
      "\tContent is : None\n",
      "\tFeature type: spatial - feature name: statistics\n",
      "\tFeature type: spatial - feature name: bbox\n",
      "The node's content AND the content for all its children is:  6/12/2020 Page | Canvas\n",
      "\n",
      "Node uuid: 10c46e64-51c3-4d47-ae5f-58dcfb50a6ce\n",
      "\tContent is : None\n",
      "\tFeature type: spatial - feature name: statistics\n",
      "\tFeature type: spatial - feature name: bbox\n",
      "The node's content AND the content for all its children is:  \n",
      "\n",
      "Node uuid: 91b280d7-b42e-49d3-8c8e-b118ceb23358\n",
      "\tContent is : None\n",
      "\tFeature type: spatial - feature name: statistics\n",
      "\tFeature type: spatial - feature name: bbox\n",
      "The node's content AND the content for all its children is:  PRIVACY POLICY\n",
      "\n",
      "Node uuid: 664a21e3-bbac-4371-a729-f6e518c0453a\n",
      "\tContent is : None\n",
      "\tFeature type: spatial - feature name: statistics\n",
      "\tFeature type: spatial - feature name: bbox\n",
      "The node's content AND the content for all its children is:  Your privacy is important to us. It is Kodexa, Inc's policy to respect your privacy regarding any information we may collect from you across our website,\n",
      "\n",
      "Node uuid: c4e842df-3dbc-4bad-bd26-5bcd7ddf37bf\n",
      "\tContent is : None\n",
      "\tFeature type: spatial - feature name: statistics\n",
      "\tFeature type: spatial - feature name: bbox\n",
      "The node's content AND the content for all its children is:  http://www.kodexa.com, and other sites we own and operate.\n",
      "\n"
     ]
    }
   ],
   "source": [
    "\n",
    "# Let's get the lines from the first (and only) page and print out the first 5\n",
    "# The select operation returns a list of ContentNodes and the select operation is available on every ContentNode\n",
    "\n",
    "# We can write the selector as '//*[typeRegex(\"line\")]' or as '//line'\n",
    "page_one_lines = kodexa_doc_pdf.select('//*[typeRegex(\"page\")]')[-1].select('//line')\n",
    "\n",
    "for l in page_one_lines[:5]:\n",
    "    print(f'Node uuid: {l.uuid}')  #printing the uuid for the node\n",
    "    print(f'\\tContent is : {l.content}')  #printing the content for THIS node\n",
    "    for f in l.get_features():\n",
    "        print(f'\\tFeature type: {f.feature_type} - feature name: {f.name}')  #printing the feature\n",
    "    \n",
    "    print(f'The node\\'s content AND the content for all its children is:  {l.get_all_content()}\\n')  #printing the content for this node AND all children"
   ]
  },
  {
   "cell_type": "markdown",
   "metadata": {},
   "source": [
    "## ContentNodes don't necessarily have a content value\n",
    "\n",
    "In the example above, we can see that none of the nodes of type 'line' have a content value - the child nodes contain the content.  That's because the 'line' nodes act as the parent for each of the 'word' nodes - the content model reflects the relationship of words to lines.\n",
    "\n",
    "Each of these line nodes also has features of type 'spatial' with values for 'bbox' and 'statistics'  These features are added to the document during the PDF parsing process when we perform spatial analysis.  They are the values we use to know where each word/line is located on a page.\n",
    "\n",
    "## Do a bit more inspection on the nodes and their children\n",
    "\n",
    "We can look a little deeper into one of of the lines and see what the children look like:\n"
   ]
  },
  {
   "cell_type": "code",
   "execution_count": 23,
   "metadata": {},
   "outputs": [
    {
     "name": "stdout",
     "output_type": "stream",
     "text": [
      "\n",
      "Node uuid: e7c2a09c-c4d5-459b-bea8-1dc493f2990b - type: word\n",
      "\tContent: 6/12/2020\n",
      "\tFeature type: text - feature name: font\n",
      "\tFeature type: spatial - feature name: size\n",
      "\tFeature type: spatial - feature name: upright\n",
      "\tFeature type: spatial - feature name: bbox\n",
      "\n",
      "Node uuid: 60d6ef99-b9d1-4d46-94fd-7eea18ddee73 - type: word\n",
      "\tContent: Page\n",
      "\tFeature type: text - feature name: font\n",
      "\tFeature type: spatial - feature name: size\n",
      "\tFeature type: spatial - feature name: upright\n",
      "\tFeature type: spatial - feature name: bbox\n",
      "\n",
      "Node uuid: f3504741-d3d9-4bf0-888c-5c8ab958226c - type: word\n",
      "\tContent: |\n",
      "\tFeature type: text - feature name: font\n",
      "\tFeature type: spatial - feature name: size\n",
      "\tFeature type: spatial - feature name: upright\n",
      "\tFeature type: spatial - feature name: bbox\n",
      "\n",
      "Node uuid: 0aafa0d2-cdf3-4086-9a2e-03f0bdc64c1f - type: word\n",
      "\tContent: Canvas\n",
      "\tFeature type: text - feature name: font\n",
      "\tFeature type: spatial - feature name: size\n",
      "\tFeature type: spatial - feature name: upright\n",
      "\tFeature type: spatial - feature name: bbox\n"
     ]
    }
   ],
   "source": [
    "\n",
    "# Let's look at the child nodes of the first line\n",
    "for c in page_one_lines[0].children:\n",
    "    print(f'\\nNode uuid: {c.uuid} - type: {c.type}')\n",
    "    print(f'\\tContent: {c.content}')\n",
    "    for f in c.get_features():\n",
    "        print(f'\\tFeature type: {f.feature_type} - feature name: {f.name}')  #printing the feature\n",
    "    "
   ]
  },
  {
   "cell_type": "markdown",
   "metadata": {},
   "source": [
    "## Child nodes are also ContentNodes, and they can have the same types of values\n",
    "\n",
    "We can see from the results above that these child nodes have the same types of elements as their parent nodes.  This is because all nodes are ContentNodes.\n",
    "\n",
    "We'll now go through the same exercise using a different document source type so you can see how the same syntax/logic can be applied to multiple document source types.\n",
    "\n",
    "## Create a Kodexa document from an existing parsed Excel file\n",
    "\n",
    "Let's load an Excel file into a Kodexa document and navigate its nodes in the same manner as above.  This Excel has already been parsed and saved as a .kdxa file, and we'll use that so we don't have to go through the details of parsing.  The original source Excel is located in the _data/excel folder ('../_data/excel_workbooks/2019_Business_Expenses.kdxa')\n"
   ]
  },
  {
   "cell_type": "code",
   "execution_count": 24,
   "metadata": {},
   "outputs": [
    {
     "name": "stdout",
     "output_type": "stream",
     "text": [
      "\n",
      "This is where the Excel document is located: /home/skep/Projects/Kodexa/get-started-with-python/1_Getting_Started/../_data/excel_workbooks/2019_Business_Expenses.kdxa\n",
      "\n"
     ]
    }
   ],
   "source": [
    "import os\n",
    "\n",
    "# Setting up location of data file\n",
    "DATA_FOLDER = '_data'\n",
    "EXCEL_FOLDER = 'excel_workbooks'\n",
    "EXCEL_FILE = '2019_Business_Expenses.kdxa'\n",
    "\n",
    "EXCEL_FULL_PATH = os.path.join(os.getcwd(), '..', DATA_FOLDER, EXCEL_FOLDER, EXCEL_FILE)\n",
    "\n",
    "print(f'\\nThis is where the Excel document is located: {EXCEL_FULL_PATH}\\n')\n"
   ]
  },
  {
   "cell_type": "code",
   "execution_count": 25,
   "metadata": {},
   "outputs": [
    {
     "name": "stdout",
     "output_type": "stream",
     "text": [
      "\n",
      "metadata :: {'connector_options': {'id': 'f73a9e04965446c9a69563bcd467cd19'}, 'connector': 'cloud-content'}\n",
      "\n",
      "root_node :: ContentNode [type:workbook] (0 features, 7 children) [None]\n",
      "\n"
     ]
    }
   ],
   "source": [
    "\n",
    "# Load the *.kdxa file as a Kodexa Document\n",
    "kodexa_doc_excel = Document.from_kdxa(EXCEL_FULL_PATH)\n",
    "\n",
    "print(f'\\nmetadata :: {kodexa_doc_excel.metadata}')\n",
    "print(f'\\nroot_node :: {kodexa_doc_excel.get_root()}\\n')\n"
   ]
  },
  {
   "cell_type": "markdown",
   "metadata": {},
   "source": [
    "## Let's see what kind of ContentNode types are available on this Excel-based Kodexa document"
   ]
  },
  {
   "cell_type": "code",
   "execution_count": 28,
   "metadata": {},
   "outputs": [
    {
     "name": "stdout",
     "output_type": "stream",
     "text": [
      "\n",
      "Our sample Excel document has the following node types: {'worksheet', 'workbook', 'row', 'cell'}\n"
     ]
    }
   ],
   "source": [
    "\n",
    "# Selecting all nodes on the kodexa_doc_excel\n",
    "excel_doc_nodes = kodexa_doc_excel.select('//*')\n",
    "\n",
    "excel_node_set = set()\n",
    "for e in excel_doc_nodes:\n",
    "    excel_node_set.add(e.type)\n",
    "    \n",
    "print(f'\\nOur sample Excel document has the following node types: {excel_node_set}')\n"
   ]
  },
  {
   "cell_type": "markdown",
   "metadata": {},
   "source": [
    "## Ah!  So the node types are different between Excel and PDF sources\n",
    "\n",
    "This makes sense, right?  PDFs are made of pages, paragraphs, lines, words, images, etc., while Excel files are workbooks that have worksheets, rows, and cells.  \n",
    "\n",
    "## Use the same syntax to navigate documents from different source types\n",
    "\n",
    "Let's see how we can use selectors to choose the nodes in a Kodexa document that was sourced from Excel."
   ]
  },
  {
   "cell_type": "code",
   "execution_count": 29,
   "metadata": {},
   "outputs": [
    {
     "name": "stdout",
     "output_type": "stream",
     "text": [
      "Node uuid: a323b530-cf82-44e0-8b41-a30db89757c3\n",
      "\tContent is : None\n",
      "The node's content AND the content for all its children is:  Date Miles Reimbursement Amount Starting Point Ending Point Round Trip? Client Comments\n",
      "\n",
      "Node uuid: dd183674-6f4d-4b0b-86d7-17d38f4a6fbf\n",
      "\tContent is : None\n",
      "The node's content AND the content for all its children is:  2019-01-07 00:00:00 0.58 80.8 46.864 Home 1 Client's office address Yes Client 1 Client in-office day\n",
      "\n",
      "Node uuid: 8bec740f-d48f-4991-a0ba-7728177c07f4\n",
      "\tContent is : None\n",
      "The node's content AND the content for all its children is:  2019-01-14 00:00:00 0.58 80.8 46.864 Home 1 Client's office address Yes Client 1 Client in-office day\n",
      "\n",
      "Node uuid: b2c57491-9968-45be-a427-b4dead5c9c5e\n",
      "\tContent is : None\n",
      "The node's content AND the content for all its children is:  2019-01-21 00:00:00 0.58 80.8 46.864 Home 1 Client's office address Yes Client 1 Client in-office day\n",
      "\n",
      "Node uuid: 8bf3fedd-6d08-4a82-97ec-d0c8895e4082\n",
      "\tContent is : None\n",
      "The node's content AND the content for all its children is:  2019-01-23 00:00:00 0.58 31.6 18.328 Home 1 Starbucks Yes Client 2 Team meeting\n",
      "\n"
     ]
    }
   ],
   "source": [
    "\n",
    "# Let's get the lines from the first (and only) worksheet and print out the first 5 rows\n",
    "\n",
    "# We can write the selector as '//*[typeRegex(\"row\")]' or as '//row'\n",
    "\n",
    "worksheet_one_rows = kodexa_doc_excel.select('//*[typeRegex(\"worksheet\")]')[-1].select('//row')\n",
    "\n",
    "for l in worksheet_one_rows[:5]:\n",
    "    print(f'Node uuid: {l.uuid}')  #printing the uuid for the node\n",
    "    print(f'\\tContent is : {l.content}')  #printing the content for THIS node\n",
    "    for f in l.get_features():\n",
    "        print(f'\\tFeature type: {f.feature_type} - feature name: {f.name}')  #printing the feature\n",
    "        \n",
    "    print(f'The node\\'s content AND the content for all its children is:  {l.get_all_content()}\\n')  #printing the content for this node AND all children\n"
   ]
  },
  {
   "cell_type": "markdown",
   "metadata": {},
   "source": [
    "## ContentNodes don't necessarily have features\n",
    "\n",
    "In the document sourced from an Excel file, we find there are no features on the nodes.  This is ok!  Features are used to add additional details & information to ContentNodes - in this case none has been set.  \n"
   ]
  },
  {
   "cell_type": "markdown",
   "metadata": {},
   "source": [
    "## Creating a Kodexa Document from plain text\n",
    "\n",
    "Here's a method to create a Kodexa Document from simple text\n"
   ]
  },
  {
   "cell_type": "code",
   "execution_count": 30,
   "metadata": {},
   "outputs": [
    {
     "name": "stdout",
     "output_type": "stream",
     "text": [
      "\n",
      "metadata :: {}\n",
      "\n",
      "root_node :: ContentNode [type:text] (0 features, 0 children) [Hello!  Today is a warm, sunny day!]\n",
      "\n"
     ]
    }
   ],
   "source": [
    "\n",
    "#Simple document from text\n",
    "kodexa_doc_text = Document.from_text('Hello!  Today is a warm, sunny day!')\n",
    "\n",
    "\n",
    "print(f'\\nmetadata :: {kodexa_doc_text.metadata}')\n",
    "print(f'\\nroot_node :: {kodexa_doc_text.get_root()}\\n')\n"
   ]
  },
  {
   "cell_type": "markdown",
   "metadata": {},
   "source": [
    "## Simple source, but same structure\n",
    "\n",
    "This document will still have the main structures found in documents created from richer sources.  \n",
    "\n",
    "\n",
    "\n",
    "We'll look at the metadata and ContentNode types."
   ]
  },
  {
   "cell_type": "code",
   "execution_count": 31,
   "metadata": {},
   "outputs": [
    {
     "name": "stdout",
     "output_type": "stream",
     "text": [
      "\n",
      "Our sample text document has the following node types: {'text'}\n"
     ]
    }
   ],
   "source": [
    "\n",
    "# Selecting all nodes on the kodexa_doc_text\n",
    "text_doc_nodes = kodexa_doc_text.select('//*')\n",
    "\n",
    "text_node_set = set()\n",
    "for t in text_doc_nodes:\n",
    "    text_node_set.add(t.type)\n",
    "    \n",
    "print(f'\\nOur sample text document has the following node types: {text_node_set}')\n"
   ]
  },
  {
   "cell_type": "markdown",
   "metadata": {},
   "source": [
    "## Connecting the Kodexa Document object to other types of sources\n",
    "\n",
    "In these examples, we've connected our Document object to pre-parsed .kdxa documents.  We did this so we could skip past the explainations of how to set up pipelines with parsers to process files (cheating!).  \n",
    "\n",
    "There are additional methods available on the Document object that will allow you to connect to different file types, but most require you to parse the documents to make the contents available.  These methods are:\n",
    "\n",
    "\n",
    "* from_text - no parsing needed.  A root ContentNode of type 'text' will be created and the node content will be set to the text provided\n",
    "* from_file - will require appropriate parser\n",
    "* from_dict - dict should represent the Kodexa Document structure\n",
    "* from_json - json should represent the Kodexa Document structure\n",
    "* from_msgpack - msgpack should represent the Kodexa Document structure\n",
    "* from_url - will require appropriate parser\n",
    "\n",
    "\n",
    "### Parsing Examples\n",
    "\n",
    "Complete examples of using pipelines and wiring in parsers can be found in notebook 3, Parsing_Documents.\n"
   ]
  },
  {
   "cell_type": "code",
   "execution_count": null,
   "metadata": {},
   "outputs": [],
   "source": []
  }
 ],
 "metadata": {
  "kernelspec": {
   "display_name": "kodexa_demos",
   "language": "python",
   "name": "kodexa_demos"
  },
  "language_info": {
   "codemirror_mode": {
    "name": "ipython",
    "version": 3
   },
   "file_extension": ".py",
   "mimetype": "text/x-python",
   "name": "python",
   "nbconvert_exporter": "python",
   "pygments_lexer": "ipython3",
   "version": "3.7.6"
  }
 },
 "nbformat": 4,
 "nbformat_minor": 4
}
