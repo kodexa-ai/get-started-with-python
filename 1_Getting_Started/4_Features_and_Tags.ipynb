{
 "cells": [
  {
   "cell_type": "markdown",
   "metadata": {},
   "source": [
    "# Adding Features and Tagging Kodexa Documents\n",
    "\n",
    "In this notebook, we'll be exploring two key elements of a document's content nodes, features and tags.  \n",
    "\n",
    "Features give us a way to store additional information about a content node, such as spatial coordinates or other node-enriching data.  Tags are a special type of feature who's \"feature_type\" property is always \"tag\".  \n",
    "\n",
    "You can read more about featuers & tags in our [Developer Documentation](https://developer.kodexa.com/kodexa-platform/key-concepts/selectors-tags-and-features)\n",
    "\n",
    "Adding tags and features to documents is widely used in Kodexa.  Tagging allows users to identify content and \"label\" it for later uses, such as data extraction or logical decision making.  Tags also allow users to add data to a doucment without altering the document's underlying structure.\n",
    "\n",
    "\n",
    "This notebook will give you examples of adding features and tags to documents, and using those tags to perform additional processing steps.\n"
   ]
  },
  {
   "cell_type": "markdown",
   "metadata": {},
   "source": [
    "## Setup our imports\n",
    "1. We'll be building pipelines to process our document, so we'll import Kodexa's Pipeline module\n",
    "2. Import all the FolderConnector - we'll provide it to the Pipeline in order to access our file\n",
    "3. Some of our parsing will need to happen in the could, so we'll import the KodexaPlatform and KodexaAction modules\n",
    "4. All files that have been processed/parsed in Kodexa become Kodexa Documents, so we'll import that module as well.\n",
    "\n",
    "We're also setting the CLOUD_URL value to the platform environment on which we want to perform our processing.\n"
   ]
  },
  {
   "cell_type": "code",
   "execution_count": 1,
   "metadata": {},
   "outputs": [],
   "source": [
    "from kodexa import Document, Pipeline, KodexaPlatform, KodexaAction, FolderConnector\n",
    "\n",
    "CLOUD_URL = 'https://platform.kodexa.com' "
   ]
  },
  {
   "cell_type": "markdown",
   "metadata": {},
   "source": [
    "## Set Platform Environment and Access Token Credential\n",
    "\n",
    "In the next cell, you'll be prompted to enter your access token that you've created in the environment specified by the CLOUD_URL.\n",
    "If you haven't created a token already, follow the steps in our [Getting Started](https://developer.kodexa.com/org-management/manage-access-token) guide.\n",
    "\n",
    "* Note:  The text you enter in the prompt field will be masked.  Once you're done entering the access token value, hit enter to complete the action in the cell."
   ]
  },
  {
   "cell_type": "code",
   "execution_count": 2,
   "metadata": {},
   "outputs": [
    {
     "name": "stdin",
     "output_type": "stream",
     "text": [
      "Enter access token: ································\n"
     ]
    }
   ],
   "source": [
    "import getpass\n",
    "\n",
    "ACCESS_TOKEN = getpass.getpass(\"Enter access token:\")\n",
    "\n",
    "KodexaPlatform.set_url(CLOUD_URL)\n",
    "KodexaPlatform.set_access_token(ACCESS_TOKEN)"
   ]
  },
  {
   "cell_type": "code",
   "execution_count": 3,
   "metadata": {},
   "outputs": [],
   "source": [
    "\n",
    "# We'll be using one of the text files to work through the examples - setting the path to it here\n",
    "import os\n",
    "\n",
    "# Setting up location of data folders and files\n",
    "DATA_FOLDER = '_data'\n",
    "TEXT_FOLDER = 'texts'\n",
    "TEXT_DATA_FILE = 'tongue_twister.txt'\n",
    "TEXT_FOLDER_PATH = os.path.join(os.getcwd(), '..', DATA_FOLDER, TEXT_FOLDER)"
   ]
  },
  {
   "cell_type": "markdown",
   "metadata": {},
   "source": [
    "## Create a Pipeline and parse our text file"
   ]
  },
  {
   "cell_type": "code",
   "execution_count": 4,
   "metadata": {},
   "outputs": [
    {
     "name": "stdout",
     "output_type": "stream",
     "text": [
      "\n",
      "Processed doc's contents:\n",
      "A flea and a fly got stuck in a flue.\n",
      "Said the flea to the fly, \"What shall we do?\"\n",
      "Said the fly, \"Let us flee!\"\n",
      "Said the flea, \"Let us fly!\"\n",
      "So they flew through a flaw in the flue.\n"
     ]
    }
   ],
   "source": [
    "\n",
    "pipeline = Pipeline(FolderConnector(path=TEXT_FOLDER_PATH, file_filter=TEXT_DATA_FILE))\n",
    "\n",
    "# When using a FolderConnector, we must specify the parser that should be used for this document\n",
    "pipeline.add_step(KodexaAction(slug='kodexa/text-parser', options={}, attach_source=True))\n",
    "\n",
    "# Run the pipeline and get the pipeline's context.  We'll then get the processed document from the context\n",
    "pipeline.run()\n",
    "kodexa_doc = pipeline.context.output_document\n",
    "\n",
    "# Print the first 200 characters of the processed doc's contents\n",
    "print(f'\\nProcessed doc\\'s contents:\\n{kodexa_doc.get_root().get_all_content()[:200]}')"
   ]
  },
  {
   "cell_type": "markdown",
   "metadata": {},
   "source": [
    "## Let's tag all the nodes that contain the word 'fly'"
   ]
  },
  {
   "cell_type": "code",
   "execution_count": null,
   "metadata": {},
   "outputs": [],
   "source": []
  }
 ],
 "metadata": {
  "kernelspec": {
   "display_name": "kodexa_demos",
   "language": "python",
   "name": "kodexa_demos"
  },
  "language_info": {
   "codemirror_mode": {
    "name": "ipython",
    "version": 3
   },
   "file_extension": ".py",
   "mimetype": "text/x-python",
   "name": "python",
   "nbconvert_exporter": "python",
   "pygments_lexer": "ipython3",
   "version": "3.7.6"
  }
 },
 "nbformat": 4,
 "nbformat_minor": 4
}
