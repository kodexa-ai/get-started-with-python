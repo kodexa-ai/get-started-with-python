{
 "cells": [
  {
   "cell_type": "markdown",
   "metadata": {},
   "source": [
    "# Data Sinks and Stores\n",
    "\n",
    "Sinks \n",
    "\n",
    "\n",
    "## Setup our imports\n",
    "1. We'll be build pipelines to process our document, so we'll import Kodexa's Pipeline module\n",
    "2. Import all the connector types that we plan to try out\n",
    "3. Some of our parsing will need to happen in the could, so we'll import the KodexaPlatform and KodexaAction modules\n",
    "4. All files that have been processed/parsed in Kodexa become Kodexa Documents, so we'll import that module as well.\n",
    "\n",
    "We're also setting the CLOUD_URL value to the platform environment on which we want to perform our processing."
   ]
  },
  {
   "cell_type": "code",
   "execution_count": 2,
   "metadata": {},
   "outputs": [],
   "source": [
    "from kodexa import Document, Pipeline, KodexaPlatform, KodexaAction, InMemoryDocumentSink, JsonDocumentStore, TableDataStore, DictDataStore\n",
    "\n",
    "CLOUD_URL = 'https://platform.kodexa.com' "
   ]
  },
  {
   "cell_type": "markdown",
   "metadata": {},
   "source": [
    "## Set Platform Environment and Access Token Credential\n",
    "\n",
    "In the next cell, you'll be prompted to enter your access token that you've created in the environment specified by the CLOUD_URL.\n",
    "If you haven't created a token already, follow the steps in our [Getting Started](https://developer.kodexa.com/org-management/manage-access-token) guide.\n",
    "\n",
    "* Note:  The text you enter in the prompt field will be masked.  Once you're done entering the access token value, hit enter to complete the action in the cell."
   ]
  },
  {
   "cell_type": "code",
   "execution_count": 3,
   "metadata": {},
   "outputs": [
    {
     "name": "stdin",
     "output_type": "stream",
     "text": [
      "Enter access token: ································\n"
     ]
    }
   ],
   "source": [
    "import getpass\n",
    "\n",
    "ACCESS_TOKEN = getpass.getpass(\"Enter access token:\")\n",
    "\n",
    "KodexaPlatform.set_url(CLOUD_URL)\n",
    "KodexaPlatform.set_access_token(ACCESS_TOKEN)"
   ]
  },
  {
   "cell_type": "code",
   "execution_count": 4,
   "metadata": {},
   "outputs": [],
   "source": [
    "import os\n",
    "\n",
    "# Setting up location of data folders and files\n",
    "DATA_FOLDER = '_data'\n",
    "TEXT_FOLDER = 'texts'\n",
    "JSON_STORE_FOLDER = 'json_doc_stores'\n",
    "TEXT_DATA_FILE = 'tongue_twister.txt'\n",
    "\n",
    "TEXT_FOLDER_PATH = os.path.join(os.getcwd(), '..', DATA_FOLDER, TEXT_FOLDER)\n",
    "FULL_PATH = os.path.join(TEXT_FOLDER_PATH, TEXT_DATA_FILE)\n",
    "JSON_STORE_PATH = os.path.join(os.getcwd(), '..', DATA_FOLDER, JSON_STORE_FOLDER, 'text_json_store.json')"
   ]
  },
  {
   "cell_type": "markdown",
   "metadata": {},
   "source": [
    "## Using an InMemoryDocumentSink\n"
   ]
  },
  {
   "cell_type": "code",
   "execution_count": null,
   "metadata": {},
   "outputs": [],
   "source": []
  },
  {
   "cell_type": "code",
   "execution_count": 7,
   "metadata": {},
   "outputs": [],
   "source": [
    "from kodexa import FolderConnector\n",
    "\n",
    "\n",
    "# instantiate the store and provide the location of our already-prepared data\n",
    "json_doc_store = JsonDocumentStore(store_path=JSON_STORE_PATH)\n",
    "\n"
   ]
  },
  {
   "cell_type": "code",
   "execution_count": 10,
   "metadata": {},
   "outputs": [],
   "source": [
    "\n",
    "# Parse the first document and get it from the output\n",
    "pipeline = Pipeline(FolderConnector(path=TEXT_FOLDER_PATH, file_filter='tongue_twister.txt'))\n",
    "pipeline.add_step(KodexaAction(slug='kodexa/text-parser', options={}, attach_source=True))\n",
    "pipeline.run()\n",
    "kodexa_doc = pipeline.context.output_document\n"
   ]
  },
  {
   "cell_type": "code",
   "execution_count": 11,
   "metadata": {},
   "outputs": [
    {
     "data": {
      "text/plain": [
       "'A flea and a fly got stuck in a flue.\\nSaid the flea to the fly, \"What shall we do?\"\\nSaid the fly, \"Let us flee!\"\\nSaid the flea, \"Let us fly!\"\\nSo they flew through a flaw in the flue.'"
      ]
     },
     "execution_count": 11,
     "metadata": {},
     "output_type": "execute_result"
    }
   ],
   "source": [
    "kodexa_doc.get_root().get_all_content()"
   ]
  },
  {
   "cell_type": "code",
   "execution_count": 12,
   "metadata": {},
   "outputs": [
    {
     "data": {
      "text/plain": [
       "1"
      ]
     },
     "execution_count": 12,
     "metadata": {},
     "output_type": "execute_result"
    }
   ],
   "source": [
    "\n",
    "# add the first document\n",
    "json_doc_store.add(kodexa_doc)\n",
    "\n"
   ]
  },
  {
   "cell_type": "code",
   "execution_count": 13,
   "metadata": {},
   "outputs": [],
   "source": [
    "# Parse the second document and get it from the output\n",
    "pipeline = Pipeline(FolderConnector(path=TEXT_FOLDER_PATH, file_filter='peter_piper.txt'))\n",
    "pipeline.add_step(KodexaAction(slug='kodexa/text-parser', options={}, attach_source=True))\n",
    "pipeline.run()\n",
    "kodexa_doc = pipeline.context.output_document\n"
   ]
  },
  {
   "cell_type": "code",
   "execution_count": 14,
   "metadata": {},
   "outputs": [
    {
     "data": {
      "text/plain": [
       "2"
      ]
     },
     "execution_count": 14,
     "metadata": {},
     "output_type": "execute_result"
    }
   ],
   "source": [
    "\n",
    "# add the second document\n",
    "json_doc_store.add(kodexa_doc)\n"
   ]
  },
  {
   "cell_type": "code",
   "execution_count": 15,
   "metadata": {},
   "outputs": [
    {
     "name": "stdout",
     "output_type": "stream",
     "text": [
      "There are 2 documents in the store\n"
     ]
    }
   ],
   "source": [
    "\n",
    "# let's see how many documents we have\n",
    "print(f'There are {json_doc_store.count()} documents in the store')"
   ]
  },
  {
   "cell_type": "code",
   "execution_count": null,
   "metadata": {},
   "outputs": [],
   "source": []
  }
 ],
 "metadata": {
  "kernelspec": {
   "display_name": "kodexa_demos",
   "language": "python",
   "name": "kodexa_demos"
  },
  "language_info": {
   "codemirror_mode": {
    "name": "ipython",
    "version": 3
   },
   "file_extension": ".py",
   "mimetype": "text/x-python",
   "name": "python",
   "nbconvert_exporter": "python",
   "pygments_lexer": "ipython3",
   "version": "3.7.6"
  }
 },
 "nbformat": 4,
 "nbformat_minor": 4
}
