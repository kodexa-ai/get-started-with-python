{
 "cells": [
  {
   "cell_type": "markdown",
   "metadata": {},
   "source": [
    "# Saving and Reading a Kodexa document as a file\n",
    "\n",
    "### Setting up Imports\n",
    "\n",
    "For these examples, all we'll need is the Document and JsonDocumentStore modules from the kodexa package."
   ]
  },
  {
   "cell_type": "code",
   "execution_count": 18,
   "metadata": {},
   "outputs": [],
   "source": [
    "import os\n",
    "\n",
    "from kodexa import Document, JsonDocumentStore"
   ]
  },
  {
   "cell_type": "markdown",
   "metadata": {},
   "source": [
    "## Persisting as a file\n",
    "\n",
    "Kodexa documents can be saved to disk by calling the Document's \"to_kdxa(path)\" function."
   ]
  },
  {
   "cell_type": "code",
   "execution_count": 19,
   "metadata": {},
   "outputs": [],
   "source": [
    "\n",
    "# It is recommended that you use the .kdxa file extension on your files.\n",
    "test_file_location = os.path.join('/tmp/kdxa_output/', 'test_doc1.kdxa')\n",
    "if not os.path.exists('/tmp/kdxa_output/'):\n",
    "    os.makedirs('/tmp/kdxa_output/')\n",
    "\n",
    "# Create a basic document from text\n",
    "new_doc = Document.from_text(\"This is my new document\")\n",
    "\n",
    "# Save this document to our location on disk\n",
    "# you must provide the entire path to the file you're saving.\n",
    "new_doc.to_kdxa(test_file_location)\n"
   ]
  },
  {
   "cell_type": "markdown",
   "metadata": {},
   "source": [
    "## You can now find that document in the location of the test_file_location file and see that it's been persisted"
   ]
  },
  {
   "cell_type": "markdown",
   "metadata": {},
   "source": [
    "## Reading from file\n",
    "\n",
    "We'll read the document that was just saved into a new Kodexa Document instance"
   ]
  },
  {
   "cell_type": "code",
   "execution_count": 20,
   "metadata": {},
   "outputs": [
    {
     "name": "stdout",
     "output_type": "stream",
     "text": [
      "The restored document's contents is: \n",
      "This is my new document\n"
     ]
    }
   ],
   "source": [
    "## Reading from a file\n",
    "\n",
    "read_doc = Document.from_kdxa(test_file_location)\n",
    "\n",
    "print(f'The restored document\\'s contents is: \\n{read_doc.get_root().get_all_content()}')"
   ]
  },
  {
   "cell_type": "markdown",
   "metadata": {},
   "source": [
    "## Saving in JsonDocumentStores\n",
    "\n",
    "You can also create JsonDocumentStores and add documents to them outside of pipeline steps.  JsonDocumentStores are saved to disk as a set of files."
   ]
  },
  {
   "cell_type": "code",
   "execution_count": 21,
   "metadata": {},
   "outputs": [
    {
     "name": "stdout",
     "output_type": "stream",
     "text": [
      "Upon initialization, there are 0 documents in the store.\n",
      "After adding the documents, there are now 2 documents in the store.\n"
     ]
    }
   ],
   "source": [
    "\n",
    "doc_1 = Document.from_text('The sun is very bright today.')\n",
    "doc_2 = Document.from_text('Fluffy clouds float through the sky.')\n",
    "\n",
    "# Create an empty store\n",
    "json_doc_store = JsonDocumentStore('/tmp/json_store_doc_ex/')\n",
    "\n",
    "print(f'Upon initialization, there are {json_doc_store.count()} documents in the store.')\n",
    "\n",
    "json_doc_store.add(doc_1)\n",
    "json_doc_store.add(doc_2)\n",
    "      \n",
    "print(f'After adding the documents, there are now {json_doc_store.count()} documents in the store.')"
   ]
  },
  {
   "cell_type": "markdown",
   "metadata": {},
   "source": [
    "## The JsonDocumentStores are already saved as files\n",
    "\n",
    "You can browse the path that was specified in the json_doc_store initialization and view the persisted files."
   ]
  },
  {
   "cell_type": "code",
   "execution_count": null,
   "metadata": {},
   "outputs": [],
   "source": []
  }
 ],
 "metadata": {
  "kernelspec": {
   "display_name": "kodexa_demos",
   "language": "python",
   "name": "kodexa_demos"
  },
  "language_info": {
   "codemirror_mode": {
    "name": "ipython",
    "version": 3
   },
   "file_extension": ".py",
   "mimetype": "text/x-python",
   "name": "python",
   "nbconvert_exporter": "python",
   "pygments_lexer": "ipython3",
   "version": "3.7.6"
  }
 },
 "nbformat": 4,
 "nbformat_minor": 4
}
