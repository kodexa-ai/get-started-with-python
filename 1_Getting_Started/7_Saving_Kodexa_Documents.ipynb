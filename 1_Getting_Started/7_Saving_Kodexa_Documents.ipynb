{
 "cells": [
  {
   "cell_type": "markdown",
   "metadata": {},
   "source": [
    "# Saving and Reading a Kodexa document as a file\n",
    "\n",
    "### Setting up Imports\n",
    "\n",
    "For these examples, all we'll need is the Document and JsonDocumentStore modules from the kodexa package."
   ]
  },
  {
   "cell_type": "code",
   "execution_count": 1,
   "metadata": {},
   "outputs": [],
   "source": [
    "import os\n",
    "\n",
    "from kodexa import Document, JsonDocumentStore"
   ]
  },
  {
   "cell_type": "markdown",
   "metadata": {},
   "source": [
    "## Persisting as a file\n",
    "\n",
    "Kodexa documents can be saved to disk by calling the Document's \"to_kdxa(path)\" function."
   ]
  },
  {
   "cell_type": "code",
   "execution_count": 2,
   "metadata": {},
   "outputs": [],
   "source": [
    "\n",
    "KDXA_TMP_PATH = '/tmp/kdxa_output/'\n",
    "\n",
    "# It is recommended that you use the .kdxa file extension on your files.\n",
    "test_file_location = os.path.join(KDXA_TMP_PATH, 'test_doc1.kdxa')\n",
    "\n",
    "if not os.path.exists(KDXA_TMP_PATH):\n",
    "    os.makedirs(KDXA_TMP_PATH)\n",
    "\n",
    "# Create a basic document from text\n",
    "new_doc = Document.from_text(\"This is my new document\")\n",
    "\n",
    "# Save this document to our location on disk\n",
    "# you must provide the entire path to the file you're saving.\n",
    "new_doc.to_kdxa(test_file_location)\n"
   ]
  },
  {
   "cell_type": "markdown",
   "metadata": {},
   "source": [
    "## You can now find that document in the location of the test_file_location file and see that it's been persisted"
   ]
  },
  {
   "cell_type": "markdown",
   "metadata": {},
   "source": [
    "## Reading from file\n",
    "\n",
    "We'll read the document that was just saved into a new Kodexa Document instance"
   ]
  },
  {
   "cell_type": "code",
   "execution_count": 3,
   "metadata": {},
   "outputs": [
    {
     "name": "stdout",
     "output_type": "stream",
     "text": [
      "The restored document's contents is: \n",
      "This is my new document\n"
     ]
    }
   ],
   "source": [
    "## Reading from a file\n",
    "\n",
    "read_doc = Document.from_kdxa(test_file_location)\n",
    "\n",
    "print(f'The restored document\\'s contents is: \\n{read_doc.get_root().get_all_content()}')"
   ]
  },
  {
   "cell_type": "markdown",
   "metadata": {},
   "source": [
    "## Saving in JsonDocumentStores\n",
    "\n",
    "You can also create JsonDocumentStores and add documents to them outside of pipeline steps.  JsonDocumentStores are saved to disk as a set of files."
   ]
  },
  {
   "cell_type": "code",
   "execution_count": 4,
   "metadata": {},
   "outputs": [
    {
     "name": "stdout",
     "output_type": "stream",
     "text": [
      "Upon initialization, there are 0 documents in the store.\n",
      "After adding the documents, there are now 2 documents in the store.\n"
     ]
    }
   ],
   "source": [
    "\n",
    "JSON_STORE_PATH = '/tmp/json_store_doc_ex/'\n",
    "\n",
    "doc_1 = Document.from_text('The sun is very bright today.')\n",
    "doc_2 = Document.from_text('Fluffy clouds float through the sky.')\n",
    "\n",
    "# Create an empty store - if it already exists, we'll delete it by setting force_initialize to True\n",
    "json_doc_store = JsonDocumentStore(JSON_STORE_PATH, force_initialize = True)\n",
    "\n",
    "print(f'Upon initialization, there are {json_doc_store.count()} documents in the store.')\n",
    "\n",
    "json_doc_store.add(doc_1)\n",
    "json_doc_store.add(doc_2)\n",
    "      \n",
    "print(f'After adding the documents, there are now {json_doc_store.count()} documents in the store.')"
   ]
  },
  {
   "cell_type": "markdown",
   "metadata": {},
   "source": [
    "## The JsonDocumentStores are already saved as files\n",
    "\n",
    "You can browse the path that was specified in the json_doc_store initialization and view the persisted files."
   ]
  },
  {
   "cell_type": "code",
   "execution_count": 5,
   "metadata": {},
   "outputs": [
    {
     "name": "stdout",
     "output_type": "stream",
     "text": [
      "index.idx\n",
      "7592b89f-5fb0-4cfc-998e-ffb3855759f0.json\n",
      "c14db2b8-8b59-49fc-be23-d14458da1e51.json\n"
     ]
    }
   ],
   "source": [
    "from os import listdir\n",
    "\n",
    "for f in listdir(JSON_STORE_PATH):\n",
    "    print(f)\n"
   ]
  },
  {
   "cell_type": "markdown",
   "metadata": {},
   "source": [
    "## Reading/loading Files from JsonDocumentStores\n",
    "\n",
    "If you've created a JsonDocumentStore and want to read the Kodexa documents within it, you'll create an instance of a JsonDocumentStore and provide the location of the folder containing the index and document.json files.  Then you can read them by index or by id."
   ]
  },
  {
   "cell_type": "code",
   "execution_count": 6,
   "metadata": {},
   "outputs": [
    {
     "name": "stdout",
     "output_type": "stream",
     "text": [
      "There are 2 documents in the store\n",
      "\n",
      "Getting document by index.\n",
      "\tThe uuid of the document at index 0 is: 7592b89f-5fb0-4cfc-998e-ffb3855759f0\n",
      "\n",
      "Getting document by uuid.\n",
      "\tThe uuid contents of the document with uuid 7592b89f-5fb0-4cfc-998e-ffb3855759f0 is: The sun is very bright today.\n",
      "\n"
     ]
    }
   ],
   "source": [
    "\n",
    "# We'll create a new instance of a JsonDocumentStore and use the JSON_STORE_PATH from the previous step\n",
    "\n",
    "## We are not forcing initialization as we don't want to delete the contents\n",
    "new_json_store = JsonDocumentStore(JSON_STORE_PATH)\n",
    "\n",
    "print(f'There are {new_json_store.count()} documents in the store\\n')\n",
    "\n",
    "# We can get the documents in the store using their loction in the index.json (list)\n",
    "doc_by_index = new_json_store.get(0)\n",
    "\n",
    "print(f'Getting document by index.\\n\\tThe uuid of the document at index 0 is: {doc_by_index.uuid}\\n')\n",
    "\n",
    "## We can also get documents from the store using their UUID\n",
    "doc_by_uuid = new_json_store.load(doc_by_index.uuid)\n",
    "\n",
    "print(f'Getting document by uuid.\\n\\tThe contents of the document with uuid {doc_by_index.uuid} is: {doc_by_uuid.get_root().get_all_content()}\\n')\n"
   ]
  },
  {
   "cell_type": "code",
   "execution_count": null,
   "metadata": {},
   "outputs": [],
   "source": []
  }
 ],
 "metadata": {
  "kernelspec": {
   "display_name": "kodexa_python_quickstart",
   "language": "python",
   "name": "kodexa_python_quickstart"
  },
  "language_info": {
   "codemirror_mode": {
    "name": "ipython",
    "version": 3
   },
   "file_extension": ".py",
   "mimetype": "text/x-python",
   "name": "python",
   "nbconvert_exporter": "python",
   "pygments_lexer": "ipython3",
   "version": "3.7.8"
  }
 },
 "nbformat": 4,
 "nbformat_minor": 4
}
