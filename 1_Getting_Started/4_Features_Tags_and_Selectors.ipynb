{
 "cells": [
  {
   "cell_type": "markdown",
   "metadata": {},
   "source": [
    "# Using Selectors and Adding Features and Tags to Kodexa Documents\n",
    "\n",
    "In this notebook, we'll be exploring two key elements of a document's content nodes, features and tags.  We'll also learn how to choose specific nodes within a document using selectors.  \n",
    "\n",
    "Features give us a way to store additional information about a content node, such as spatial coordinates or other node-enriching data.  Tags are a special type of feature who's \"feature_type\" property is always \"tag\".  \n",
    "\n",
    "You can read more about features & tags in our [Developer Documentation](https://developer.kodexa.com/kodexa-platform/key-concepts/selectors-tags-and-features)\n",
    "\n",
    "Adding tags and features to documents is widely used in Kodexa.  Tagging allows users to identify content and \"label\" it for later uses, such as data extraction or logical decision making.  Tags also allow users to add data to a doucment without altering the document's underlying structure.\n",
    "\n",
    "\n",
    "This notebook will give you examples of adding features and tags to documents, and using those tags to perform additional processing steps.\n"
   ]
  },
  {
   "cell_type": "markdown",
   "metadata": {},
   "source": [
    "## Setup our imports\n",
    "1. We'll be building pipelines to process our document, so we'll import Kodexa's Pipeline module\n",
    "2. Import all the FolderConnector - we'll provide it to the Pipeline in order to access our file\n",
    "3. Some of our parsing will need to happen in the could, so we'll import the KodexaPlatform and RemoteAction modules\n",
    "4. All files that have been processed/parsed in Kodexa become Kodexa Documents, so we'll import that module as well.\n",
    "\n",
    "We're also setting the CLOUD_URL value to the platform environment on which we want to perform our processing.\n"
   ]
  },
  {
   "cell_type": "code",
   "execution_count": 1,
   "metadata": {},
   "outputs": [],
   "source": [
    "from kodexa import Document, Pipeline, KodexaPlatform, RemoteAction, FolderConnector\n",
    "\n",
    "CLOUD_URL = 'https://platform.kodexa.com' "
   ]
  },
  {
   "cell_type": "markdown",
   "metadata": {},
   "source": [
    "## Set Platform Environment and Access Token Credential\n",
    "\n",
    "In the next cell, you'll be prompted to enter your access token that you've created in the environment specified by the CLOUD_URL.\n",
    "If you haven't created a token already, follow the steps in our [Getting Started](https://developer.kodexa.com/org-management/manage-access-token) guide.\n",
    "\n",
    "* Note:  The text you enter in the prompt field will be masked.  Once you're done entering the access token value, hit enter to complete the action in the cell.  **You will then need to manulally set control at the next cell.**"
   ]
  },
  {
   "cell_type": "code",
   "execution_count": 2,
   "metadata": {},
   "outputs": [
    {
     "name": "stdin",
     "output_type": "stream",
     "text": [
      "Enter access token: ································\n"
     ]
    }
   ],
   "source": [
    "import getpass\n",
    "\n",
    "ACCESS_TOKEN = getpass.getpass(\"Enter access token:\")\n",
    "\n",
    "KodexaPlatform.set_url(CLOUD_URL)\n",
    "KodexaPlatform.set_access_token(ACCESS_TOKEN)"
   ]
  },
  {
   "cell_type": "code",
   "execution_count": 3,
   "metadata": {},
   "outputs": [],
   "source": [
    "\n",
    "# We'll be using one of the text files (parsed and saved as kdxa) to work through the examples - setting the path to it here\n",
    "import os\n",
    "\n",
    "# Setting up location of data folders and files\n",
    "DATA_FOLDER = '_data'\n",
    "TEXT_FOLDER = 'texts'\n",
    "TEXT_DATA_FILE = 'tongue_twister.kdxa'\n",
    "\n",
    "TEXT_FOLDER_PATH = os.path.join(os.getcwd(), '..', DATA_FOLDER, TEXT_FOLDER)\n",
    "FULL_PATH = os.path.join(TEXT_FOLDER_PATH, TEXT_DATA_FILE)\n"
   ]
  },
  {
   "cell_type": "markdown",
   "metadata": {},
   "source": [
    "## Get pre-parsed document from .kdxa file"
   ]
  },
  {
   "cell_type": "code",
   "execution_count": 4,
   "metadata": {},
   "outputs": [
    {
     "name": "stdout",
     "output_type": "stream",
     "text": [
      "\n",
      "Node uuid: 88781031-165e-44e0-9a67-b27cf1b646ea - contents: A flea and a fly got stuck in a flue.\n",
      "\n",
      "Node uuid: 3e297ffc-1adc-48bf-962f-13b272657cd5 - contents: Said the flea to the fly, \"What shall we do?\"\n",
      "\n",
      "Node uuid: efaae33d-aec9-4e7b-8b31-8d002194b7a8 - contents: Said the fly, \"Let us flee!\"\n",
      "\n",
      "Node uuid: a2254d7c-6abe-46c6-99ce-8171bf7b59b1 - contents: Said the flea, \"Let us fly!\"\n",
      "\n",
      "Node uuid: edb867e2-144c-475b-8da3-1c2ce35a13bc - contents: So they flew through a flaw in the flue.\n"
     ]
    }
   ],
   "source": [
    "\n",
    "kodexa_doc = Document.from_kdxa(FULL_PATH)\n",
    "\n",
    "# Print the processed doc's contents\n",
    "for n in kodexa_doc.get_root().children:\n",
    "    print(f'\\nNode uuid: {n.uuid} - contents: {n.get_all_content()}')\n",
    "    for f in n.get_features():\n",
    "        print(f'Feature: {f}')\n"
   ]
  },
  {
   "cell_type": "markdown",
   "metadata": {},
   "source": [
    "## We can see each node's contents and features\n",
    "\n",
    "Each of the child nodes have content values, but none of them have features.  We'll tag a few nodes and then re-inspect them.\n"
   ]
  },
  {
   "cell_type": "markdown",
   "metadata": {},
   "source": [
    "## Let's tag all the nodes that contain the word 'flue'\n",
    "\n",
    "We're going to set up a pipeline and use the NodeTagger action to perform the tagging.\n"
   ]
  },
  {
   "cell_type": "code",
   "execution_count": 5,
   "metadata": {},
   "outputs": [],
   "source": [
    "\n",
    "# Creating a new pipeline.  We'll use the document we just loaded as the connector\n",
    "pipeline = Pipeline(kodexa_doc)\n",
    "\n",
    "# We only want those nodes of that contain the word 'flue'.  Tag any nodes that match with 'has_flue'\n",
    "pipeline.add_step(RemoteAction(slug='kodexa/node-tagger', \n",
    "                                     options={'selector':'//*[contentRegex(\".*flue.*\")]', 'tag_to_apply':'has_flue', 'node_only':True}))\n",
    "\n",
    "# Just do it!\n",
    "pipeline.run()\n",
    "\n",
    "# Get the document off the context, freshly tagged\n",
    "kodexa_doc = pipeline.context.output_document\n"
   ]
  },
  {
   "cell_type": "markdown",
   "metadata": {},
   "source": [
    "## Re-inspect the document's node contents and features"
   ]
  },
  {
   "cell_type": "code",
   "execution_count": 6,
   "metadata": {},
   "outputs": [
    {
     "name": "stdout",
     "output_type": "stream",
     "text": [
      "\n",
      "Node uuid: 88781031-165e-44e0-9a67-b27cf1b646ea - contents: A flea and a fly got stuck in a flue.\n",
      "Feature: Feature [type='tag' name='has_flue' value='[{'start': None, 'end': None, 'value': None, 'data': None}]' single='True']\n",
      "\n",
      "Node uuid: 3e297ffc-1adc-48bf-962f-13b272657cd5 - contents: Said the flea to the fly, \"What shall we do?\"\n",
      "\n",
      "Node uuid: efaae33d-aec9-4e7b-8b31-8d002194b7a8 - contents: Said the fly, \"Let us flee!\"\n",
      "\n",
      "Node uuid: a2254d7c-6abe-46c6-99ce-8171bf7b59b1 - contents: Said the flea, \"Let us fly!\"\n",
      "\n",
      "Node uuid: edb867e2-144c-475b-8da3-1c2ce35a13bc - contents: So they flew through a flaw in the flue.\n",
      "Feature: Feature [type='tag' name='has_flue' value='[{'start': None, 'end': None, 'value': None, 'data': None}]' single='True']\n"
     ]
    }
   ],
   "source": [
    "# Print the processed doc's contents\n",
    "for n in kodexa_doc.get_root().children:\n",
    "    print(f'\\nNode uuid: {n.uuid} - contents: {n.get_all_content()}')\n",
    "    for f in n.get_features():\n",
    "        print(f'Feature: {f}')\n"
   ]
  },
  {
   "cell_type": "markdown",
   "metadata": {},
   "source": [
    "## Hey!  Look at that!  We've got features!\n",
    "\n",
    "Remember, features are used to add additional data to a document.  In the examples in notebook 1 (Kodexa_Document_Content_Model), we printed the features generated during PDF spatial analytic processing.  In that case, those spatial feature values are used to identify exactly where in a document each node would be rendered.\n",
    "\n",
    "When we tag a document, we're adding a special type of feature with type 'tag'.  Tags are used to mark or identify nodes, and are also used to enrich nodes with extra meaning/information.  In this simple example, we tagged those nodes that contain the word 'flue'.  Now that they're tagged, we can pick those nodes out fo the document using the tag name.\n"
   ]
  },
  {
   "cell_type": "markdown",
   "metadata": {},
   "source": [
    "## Selector version 1 - use of hasTag selector to get the tagged nodes"
   ]
  },
  {
   "cell_type": "code",
   "execution_count": 7,
   "metadata": {},
   "outputs": [
    {
     "data": {
      "text/plain": [
       "[<kodexa.model.model.ContentNode at 0x7fd710c52a50>,\n",
       " <kodexa.model.model.ContentNode at 0x7fd718329c50>]"
      ]
     },
     "execution_count": 7,
     "metadata": {},
     "output_type": "execute_result"
    }
   ],
   "source": [
    "tagged_nodes_1 = kodexa_doc.select(\"//*[hasTag('has_flue')]\")\n",
    "\n",
    "tagged_nodes_1"
   ]
  },
  {
   "cell_type": "markdown",
   "metadata": {},
   "source": [
    "## Selector version 2 - use tagRegex to get the tagged nodes"
   ]
  },
  {
   "cell_type": "code",
   "execution_count": 8,
   "metadata": {},
   "outputs": [
    {
     "data": {
      "text/plain": [
       "[<kodexa.model.model.ContentNode at 0x7fd710c52a50>,\n",
       " <kodexa.model.model.ContentNode at 0x7fd718329c50>]"
      ]
     },
     "execution_count": 8,
     "metadata": {},
     "output_type": "execute_result"
    }
   ],
   "source": [
    "tagged_nodes_2 = kodexa_doc.select(\"//*[tagRegex('has_flue')]\")\n",
    "\n",
    "tagged_nodes_2"
   ]
  },
  {
   "cell_type": "markdown",
   "metadata": {},
   "source": [
    "## Selector version 3 - using hasFeature to get the tagged nodes"
   ]
  },
  {
   "cell_type": "code",
   "execution_count": 9,
   "metadata": {},
   "outputs": [
    {
     "data": {
      "text/plain": [
       "[<kodexa.model.model.ContentNode at 0x7fd710c52a50>,\n",
       " <kodexa.model.model.ContentNode at 0x7fd718329c50>]"
      ]
     },
     "execution_count": 9,
     "metadata": {},
     "output_type": "execute_result"
    }
   ],
   "source": [
    "tagged_nodes_3 = kodexa_doc.select(\"//*[hasFeature('tag','has_flue')]\")\n",
    "\n",
    "tagged_nodes_3"
   ]
  },
  {
   "cell_type": "markdown",
   "metadata": {},
   "source": [
    "## The different selectors return the same nodes\n",
    "\n",
    "You can see that the nodes returned by each of these selector calls achieves the same goal, even though they use different syntax.  For more information on selector syntax, review our [Developer Documentation](https://developer.kodexa.com/developers/documentation/selectors)."
   ]
  },
  {
   "cell_type": "code",
   "execution_count": null,
   "metadata": {},
   "outputs": [],
   "source": []
  }
 ],
 "metadata": {
  "kernelspec": {
   "display_name": "kodexa_demos",
   "language": "python",
   "name": "kodexa_demos"
  },
  "language_info": {
   "codemirror_mode": {
    "name": "ipython",
    "version": 3
   },
   "file_extension": ".py",
   "mimetype": "text/x-python",
   "name": "python",
   "nbconvert_exporter": "python",
   "pygments_lexer": "ipython3",
   "version": "3.7.6"
  }
 },
 "nbformat": 4,
 "nbformat_minor": 4
}
