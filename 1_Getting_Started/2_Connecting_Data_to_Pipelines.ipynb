{
 "cells": [
  {
   "cell_type": "markdown",
   "metadata": {},
   "source": [
    "# Providing Data to Pipelines with Connectors\n",
    "\n",
    "Connectors are used to provide data to Pipelines.  Just as there are many types of unstructure data, there are multiple ways to connect that data to pipelines (we're just so flexible).  You can read files, folders, URLs, or just pass in plain text.  We've provided examples of those connectors you're most likely to find useful in your applications.\n",
    "\n",
    "* Plain text\n",
    "* Existing Kodexa document\n",
    "* From a Kodexa JsonDocumentStore\n",
    "* From a folder, using the FolderConnector\n",
    "* From a file, using the FileHandleConnector\n",
    "* From a URL, using the URLConnector\n",
    "\n",
    "When creating a Kodexa Document from plain text or reading a JsonDocumentStore of fully formed Kodexa Documents, you do not need to add a step to the pipeline to parse the documents.  The pipeline will be able to process these documents into fully-formed Kodexa Documents. \n",
    "\n",
    "When using connectors of other types (files, folders, URLs) to read non-Kodexa Documents, you will need to add a pipeline step to parse the document so that it's fully-formed.  If you do not provide a parser, Kodexa Documents will still be returned by the pipeline, but there will be no content node text on the document, only metadata describing the connector and document source details.\n",
    "\n",
    "## Setup our imports\n",
    "1. We'll be building pipelines to process our document, so we'll import Kodexa's Pipeline module\n",
    "2. Import all the connector types that we plan to try out\n",
    "3. Some of our parsing will need to happen in the could, so we'll import the KodexaPlatform and KodexaAction modules\n",
    "4. All files that have been processed/parsed in Kodexa become Kodexa Documents, so we'll import that module as well.\n",
    "\n",
    "We're also setting the CLOUD_URL value to the platform environment on which we want to perform our processing.\n"
   ]
  },
  {
   "cell_type": "code",
   "execution_count": 1,
   "metadata": {},
   "outputs": [],
   "source": [
    "from kodexa import Document, Pipeline, KodexaPlatform, RemoteAction, JsonDocumentStore, FileHandleConnector, FolderConnector, UrlConnector\n",
    "\n",
    "CLOUD_URL = 'https://platform.kodexa.com' "
   ]
  },
  {
   "cell_type": "markdown",
   "metadata": {},
   "source": [
    "## Set Platform Environment and Access Token Credential\n",
    "\n",
    "In the next cell, you'll be prompted to enter your access token that you've created in the environment specified by the CLOUD_URL.\n",
    "If you haven't created a token already, follow the steps in our [Getting Started](https://developer.kodexa.com/org-management/manage-access-token) guide.\n",
    "\n",
    "* Note:  The text you enter in the prompt field will be masked.  Once you're done entering the access token value, hit enter to complete the action in the cell.  **You will then need to manulally set control at the next cell.**"
   ]
  },
  {
   "cell_type": "code",
   "execution_count": 2,
   "metadata": {},
   "outputs": [],
   "source": [
    "import getpass\n",
    "\n",
    "# Only request a login if we aren't logged in\n",
    "\n",
    "if KodexaPlatform.get_access_token() is None:\n",
    "    \n",
    "    ACCESS_TOKEN = getpass.getpass(\"Enter access token:\")\n",
    "\n",
    "    KodexaPlatform.set_url(CLOUD_URL)\n",
    "    KodexaPlatform.set_access_token(ACCESS_TOKEN)"
   ]
  },
  {
   "cell_type": "code",
   "execution_count": 3,
   "metadata": {},
   "outputs": [],
   "source": [
    "import os\n",
    "\n",
    "# Setting up location of data folders and files\n",
    "DATA_FOLDER = '_data'\n",
    "TEXT_FOLDER = 'texts'\n",
    "JSON_STORE_FOLDER = 'json_doc_stores'\n",
    "TEXT_DATA_FILE = 'tongue_twister.txt'\n",
    "\n",
    "TEXT_FOLDER_PATH = os.path.join(os.getcwd(), '..', DATA_FOLDER, TEXT_FOLDER)\n",
    "FULL_PATH = os.path.join(TEXT_FOLDER_PATH, TEXT_DATA_FILE)\n",
    "JSON_STORE_PATH = os.path.join(os.getcwd(), '..', DATA_FOLDER, JSON_STORE_FOLDER, 'text_json_store')"
   ]
  },
  {
   "cell_type": "markdown",
   "metadata": {},
   "source": [
    "## Using plain text"
   ]
  },
  {
   "cell_type": "code",
   "execution_count": 4,
   "metadata": {},
   "outputs": [
    {
     "name": "stdout",
     "output_type": "stream",
     "text": [
      "\n",
      "Processed doc's contents:\n",
      "A flea and a fly got stuck in a flue.  Said the flea to the fly, \"What shall we do?\" Said the fly, \"Let us flee!\" Said the flea, \"Let us fly!\" So they flew through a flaw in the flue.\n"
     ]
    }
   ],
   "source": [
    "# Using a childhood tongue twister for our input text\n",
    "text = 'A flea and a fly got stuck in a flue.  Said the flea to the fly, \"What shall we do?\" \\\n",
    "Said the fly, \"Let us flee!\" Said the flea, \"Let us fly!\" So they flew through a flaw in the flue.'\n",
    "\n",
    "# Create the pipeline using our text string\n",
    "# Since this Kodexa Document is being created from plain text (not from a file or other input), \n",
    "# we don't need to add an parsing action to the pipeline\n",
    "pipeline = Pipeline.from_text(text)\n",
    "\n",
    "# Run the pipeline and get the pipeline's context.  We'll then get the processed document from the context\n",
    "pipeline.run()\n",
    "kodexa_doc = pipeline.context.output_document\n",
    "\n",
    "# Print the processed doc's contents\n",
    "print(f'\\nProcessed doc\\'s contents:\\n{kodexa_doc.get_root().get_all_content()}')"
   ]
  },
  {
   "cell_type": "markdown",
   "metadata": {},
   "source": [
    "## Using existing Kodexa Document"
   ]
  },
  {
   "cell_type": "code",
   "execution_count": 5,
   "metadata": {},
   "outputs": [
    {
     "name": "stdout",
     "output_type": "stream",
     "text": [
      "\n",
      "Processed doc's contents:\n",
      "A flea and a fly got stuck in a flue.  Said the flea to the fly, \"What shall we do?\" Said the fly, \"Let us flee!\" Said the flea, \"Let us fly!\" So they flew through a flaw in the flue.\n"
     ]
    }
   ],
   "source": [
    "# Create the pipeline using the kodexa_doc created in the previous example cell.\n",
    "pipeline = Pipeline(kodexa_doc)\n",
    "\n",
    "# Run the pipeline and get the pipeline's context.  We'll then get the processed document from the context\n",
    "pipeline.run()\n",
    "kodexa_doc = pipeline.context.output_document\n",
    "\n",
    "# Print the processed doc's contents\n",
    "print(f'\\nProcessed doc\\'s contents:\\n{kodexa_doc.get_root().get_all_content()}')"
   ]
  },
  {
   "cell_type": "markdown",
   "metadata": {},
   "source": [
    "## Using a JsonDocumentStore\n",
    "\n",
    "A JsonDocumentStore contains Kodexa documents that have already been processed and have been stored in JSON format."
   ]
  },
  {
   "cell_type": "code",
   "execution_count": 6,
   "metadata": {},
   "outputs": [
    {
     "ename": "AttributeError",
     "evalue": "'NoneType' object has no attribute 'get_root'",
     "output_type": "error",
     "traceback": [
      "\u001b[0;31m---------------------------------------------------------------------------\u001b[0m",
      "\u001b[0;31mAttributeError\u001b[0m                            Traceback (most recent call last)",
      "\u001b[0;32m<ipython-input-6-6cbb08d759eb>\u001b[0m in \u001b[0;36m<module>\u001b[0;34m\u001b[0m\n\u001b[1;32m      8\u001b[0m \u001b[0;34m\u001b[0m\u001b[0m\n\u001b[1;32m      9\u001b[0m \u001b[0;31m# Print the processed doc's contents\u001b[0m\u001b[0;34m\u001b[0m\u001b[0;34m\u001b[0m\u001b[0;34m\u001b[0m\u001b[0m\n\u001b[0;32m---> 10\u001b[0;31m \u001b[0mprint\u001b[0m\u001b[0;34m(\u001b[0m\u001b[0;34mf'\\nContents from JsonDocumentStore doc\\'s contents:\\n{kodexa_doc.get_root().get_all_content()}'\u001b[0m\u001b[0;34m)\u001b[0m\u001b[0;34m\u001b[0m\u001b[0;34m\u001b[0m\u001b[0m\n\u001b[0m",
      "\u001b[0;31mAttributeError\u001b[0m: 'NoneType' object has no attribute 'get_root'"
     ]
    }
   ],
   "source": [
    "\n",
    "# instantiate the store and provide the location of our already-prepared data\n",
    "json_doc_store = JsonDocumentStore(store_path=JSON_STORE_PATH)\n",
    "\n",
    "# Using the store as the connector for the pipeline.  We don't need to parse these documents as they're already in the Kodexa Document structure\n",
    "pipeline = Pipeline(json_doc_store)\n",
    "pipeline.run()\n",
    "kodexa_doc = pipeline.context.output_document\n",
    "\n",
    "# Print the processed doc's contents\n",
    "print(f'\\nContents from JsonDocumentStore doc\\'s contents:\\n{kodexa_doc.get_root().get_all_content()}')\n"
   ]
  },
  {
   "cell_type": "markdown",
   "metadata": {},
   "source": [
    "## Using a FolderConnector\n"
   ]
  },
  {
   "cell_type": "code",
   "execution_count": null,
   "metadata": {},
   "outputs": [],
   "source": [
    "\n",
    "# Create the pipeline with the full path to the folder.  \n",
    "# We can also specify a file_filter to limit selection.  In this case, we're \n",
    "# filtering by the file name, but we could also have passed in the file extension ('*.txt'), and it would have pulled all text files\n",
    "pipeline = Pipeline(FolderConnector(path=TEXT_FOLDER_PATH, file_filter=TEXT_DATA_FILE))\n",
    "\n",
    "# When using a FolderConnector, we must specify the parser that should be used for this document\n",
    "pipeline.add_step(RemoteAction(slug='kodexa/text-parser', options={}, attach_source=True))\n",
    "\n",
    "# Run the pipeline and get the pipeline's context.  We'll then get the processed document from the context\n",
    "pipeline.run()\n",
    "kodexa_doc = pipeline.context.output_document\n",
    "\n",
    "# Print the processed doc's contents\n",
    "print(f'\\nContents from FolderConnector doc\\'s contents:\\n{kodexa_doc.get_root().get_all_content()}')\n"
   ]
  },
  {
   "cell_type": "markdown",
   "metadata": {},
   "source": [
    "## Using a UrlConnector"
   ]
  },
  {
   "cell_type": "code",
   "execution_count": null,
   "metadata": {},
   "outputs": [],
   "source": [
    "\n",
    "# We're going to read the Privacy page from Kodexa's website\n",
    "HTML_FILE_URL = 'https://www.kodexa.com/privacy.html'\n",
    "\n",
    "# Create the Pipeline and provide the URL\n",
    "pipeline = Pipeline.from_url(HTML_FILE_URL)\n",
    "\n",
    "# We know we're reading HTML, so our first step in the Pipeline is to parse it.  \n",
    "#The parser will produce a Kodexa document, which we'll retrive after the pipeline runs\n",
    "pipeline.add_step(RemoteAction(slug='kodexa/html-parser', options={\"summarize\":True,\"encoding\":\"utf8\"}, attach_source=True))\n",
    "\n",
    "# Run the pipeline and get the pipeline's context.  We'll then get the processed document from the context\n",
    "pipeline.run()\n",
    "kodexa_doc = pipeline.context.output_document\n",
    "\n",
    "# Print the processed doc's contents\n",
    "print(f'\\nProcessed doc\\'s contents:\\n{kodexa_doc.get_root().get_all_content()}')\n",
    "\n"
   ]
  },
  {
   "cell_type": "markdown",
   "metadata": {},
   "source": [
    "## Using a FileHandleConnector"
   ]
  },
  {
   "cell_type": "code",
   "execution_count": null,
   "metadata": {},
   "outputs": [],
   "source": [
    "\"\"\"\n",
    "# When using the FileHandleConnector, provide the entire path to the source file\n",
    "pipeline = Pipeline(FileHandleConnector(FULL_PATH))\n",
    "\n",
    "# When using a FileHandleConnector, we must specify the parser that should be used for this document\n",
    "pipeline.add_step(RemoteAction(slug='kodexa/text-parser', options={}, attach_source=True))\n",
    "\n",
    "# Run the pipeline and get the pipeline's context.  We'll then get the processed document from the context\n",
    "pipeline.run()\n",
    "kodexa_doc = pipeline.context.output_document\n",
    "\n",
    "# Print the processed doc's contents\n",
    "print(f'\\nProcessed doc\\'s contents:\\n{kodexa_doc.get_root().get_all_content()}')\n",
    "\"\"\""
   ]
  },
  {
   "cell_type": "code",
   "execution_count": null,
   "metadata": {},
   "outputs": [],
   "source": []
  }
 ],
 "metadata": {
  "kernelspec": {
   "display_name": "kodexa_python_quickstart",
   "language": "python",
   "name": "kodexa_python_quickstart"
  },
  "language_info": {
   "codemirror_mode": {
    "name": "ipython",
    "version": 3
   },
   "file_extension": ".py",
   "mimetype": "text/x-python",
   "name": "python",
   "nbconvert_exporter": "python",
   "pygments_lexer": "ipython3",
   "version": "3.7.8"
  }
 },
 "nbformat": 4,
 "nbformat_minor": 4
}
