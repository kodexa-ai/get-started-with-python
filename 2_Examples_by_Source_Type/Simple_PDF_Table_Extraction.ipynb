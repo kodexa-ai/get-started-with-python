{
 "cells": [
  {
   "cell_type": "markdown",
   "metadata": {},
   "source": [
    "# Identifying and Extracting Tables from PDFs\n",
    "\n",
    "Locating and extracting tables from PDFS is a common challenge, and we've got a solution!  This notebook will demonstrate how to tag and extract a simple table found in a PDF.  \n",
    "\n",
    "We'll be using Kodexa's Pattern-based Table Tagger (action) to locate the table in the PDF, tag the table rows and columns, and extract the table values.  Documentation on the Pattern-based Table Tagger can be found [here: Pattern-based Table Tagger](https://developer.kodexa.com/#/kodexa-platform/actions/kodexa-pattern-table-tagger)\n",
    "\n",
    "In these examples, we'll explore different parameters and their effects on the tagging and extraction process."
   ]
  },
  {
   "cell_type": "markdown",
   "metadata": {},
   "source": [
    "## Setup our imports"
   ]
  },
  {
   "cell_type": "code",
   "execution_count": 1,
   "metadata": {},
   "outputs": [],
   "source": [
    "from kodexa import Document, Pipeline, RemoteAction, KodexaPlatform\n",
    "\n",
    "CLOUD_URL = 'https://platform.kodexa.com' "
   ]
  },
  {
   "cell_type": "markdown",
   "metadata": {},
   "source": [
    "## Set Platform Environment and Access Token Credential\n",
    "\n",
    "In the next cell, you'll be prompted to enter your access token that you've created in the environment specified by the CLOUD_URL.\n",
    "If you haven't created a token already, follow the steps in our [Getting Started](https://developer.kodexa.com/kodexa-cloud/accessing-kodexa-cloud) guide.\n",
    "\n",
    "* Note:  The text you enter in the prompt field will be masked.  Once you're done entering the access token value, hit enter to complete the action in the cell."
   ]
  },
  {
   "cell_type": "code",
   "execution_count": 2,
   "metadata": {},
   "outputs": [
    {
     "name": "stdin",
     "output_type": "stream",
     "text": [
      "Enter access token: ································\n"
     ]
    }
   ],
   "source": [
    "import getpass\n",
    "\n",
    "# Only request a login if we aren't logged in\n",
    "\n",
    "if KodexaPlatform.get_access_token() is None:\n",
    "    \n",
    "    ACCESS_TOKEN = getpass.getpass(\"Enter access token:\")\n",
    "\n",
    "    KodexaPlatform.set_url(CLOUD_URL)\n",
    "    KodexaPlatform.set_access_token(ACCESS_TOKEN)"
   ]
  },
  {
   "cell_type": "code",
   "execution_count": 3,
   "metadata": {},
   "outputs": [
    {
     "name": "stdout",
     "output_type": "stream",
     "text": [
      "\n",
      "This is where the PDF document is located: /home/skep/Projects/Kodexa/get-started-with-python/2_Examples_by_Source_Type/../_data/pdfs/Ice_Cream_Specials.pdf\n",
      "\n"
     ]
    }
   ],
   "source": [
    "import os\n",
    "\n",
    "# Setting up location of data file\n",
    "DATA_FOLDER = '_data'\n",
    "PDF_FOLDER = 'pdfs'\n",
    "DATA_FILE = 'Ice_Cream_Specials.pdf'\n",
    "\n",
    "FULL_PATH = os.path.join(os.getcwd(), '..', DATA_FOLDER, PDF_FOLDER, DATA_FILE)\n",
    "\n",
    "print(f'\\nThis is where the PDF document is located: {FULL_PATH}\\n')\n"
   ]
  },
  {
   "cell_type": "markdown",
   "metadata": {},
   "source": [
    "## First, parse the PDF\n",
    "\n",
    "We'll start by constructing a pipeline that parses the PDF.  We'll then use the resulting Kodexa document for our other tagging explorations."
   ]
  },
  {
   "cell_type": "code",
   "execution_count": 4,
   "metadata": {},
   "outputs": [],
   "source": [
    "\n",
    "# Let's set up a pipeline that parses the PDF.  We're doing this as a separate piece of work\n",
    "# so we can spend time really digging into the table tagging parameters later\n",
    "\n",
    "pipeline = Pipeline.from_file(FULL_PATH)\n",
    "pipeline.add_step(RemoteAction(slug='kodexa/pdf-parser', attach_source=True))\n",
    "pipeline.run()\n",
    "\n",
    "kodexa_doc = pipeline.context.output_document\n"
   ]
  },
  {
   "cell_type": "markdown",
   "metadata": {},
   "source": [
    "## Next, tag and extract the table data\n",
    "\n",
    "When tagging a table in a PDF document, we focus on the areas of the document above and below the table.  Tables may or may not have headers, may span multiple pages, and may have rows of varying heights.  We have parameters that can control for all of those variations in presentation.  Let's start with the basics!\n",
    "\n",
    "We'll be using the Pattern-based table tagger (slug 'kodexa/pattern-table-tagger') to identify tables in our PDF documents.  That tagger identifies and tags a table using text patterns and then leverages spatial awareness to find columns and rows.\n",
    "\n",
    "The pattern-table-tagger has three required parameters:\n",
    "* **tag_to_apply**:  The tag we'll apply to the table once it's identified.\n",
    "* **page_start_re**: A regular expression that identifies the page the table will be found on.  This could be a page number or any bit of text that appears on the page before the table contents begins.  If the table is the only data on the page, you can enter some text you expect to be in the table or an empty string.\n",
    "* **table_start_re**: A regular expression that identifies a line of text that starts the table, such as the the column header line or other identifier.\n",
    "\n",
    "We're also going to set the 'extract' parameter to True so we can access the tagged table as a TableDataStore.  That store can be directly converted to a pandas dataframe, which is a familiar data structure for most Python developers.\n",
    "\n",
    "* **extract**: Boolean value indicating that the tagged table should be added to the pipeline context's stores\n",
    "* extract_options - **store_name**: The name of the extracted table's TableDataStore"
   ]
  },
  {
   "cell_type": "code",
   "execution_count": 5,
   "metadata": {},
   "outputs": [],
   "source": [
    "# Setting up the regex values for this table\n",
    "\n",
    "# Because this is a 'tagger', we must provide a name for the tag\n",
    "tag_name = \"Ice Cream Specials\"\n",
    "\n",
    "# Since this table is the only text on the page, we'll set the page start regular expression to match any character\n",
    "page_start_re = \".\"  \n",
    "\n",
    "# Again, since this table is the only text on the page, we can use a regular expression that matches one or more characters (any type)\n",
    "table_start_re = \".*\"\n",
    "\n",
    "pipeline = Pipeline(kodexa_doc)\n",
    "pipeline.add_step(RemoteAction(slug='kodexa/pattern-table-tagger', \n",
    "                                     options={\"tag_to_apply\": tag_name, \n",
    "                                              \"page_start_re\": page_start_re, \n",
    "                                              \"table_start_re\":table_start_re, \n",
    "                                              \"extract\":True, \n",
    "                                                  \"extract_options\": {'store_name': tag_name}\n",
    "                                              }))\n",
    "\n",
    "\n",
    "context = pipeline.run()\n",
    "kodexa_doc = pipeline.context.output_document"
   ]
  },
  {
   "cell_type": "markdown",
   "metadata": {},
   "source": [
    "## Let's see what tags were applied to the document\n",
    "\n",
    "This action is first and foremost a tagger, so the table we're trying to identify should be tagged with the name we specified.  Let's look and see if we do, indeed, have the expected tag."
   ]
  },
  {
   "cell_type": "code",
   "execution_count": 6,
   "metadata": {},
   "outputs": [
    {
     "data": {
      "text/plain": [
       "['Ice Cream Specials', 'col1', 'col0', 'col2']"
      ]
     },
     "execution_count": 6,
     "metadata": {},
     "output_type": "execute_result"
    }
   ],
   "source": [
    "kodexa_doc.get_root().get_all_tags()"
   ]
  },
  {
   "cell_type": "markdown",
   "metadata": {},
   "source": [
    "## Wow!  More tags than expected!\n",
    "\n",
    "Our 'Ice Cream Specials' table was tagged, and three additional column tags (col1, col0, and col2) were included.  Let's take a look at that data."
   ]
  },
  {
   "cell_type": "code",
   "execution_count": 7,
   "metadata": {},
   "outputs": [
    {
     "name": "stdout",
     "output_type": "stream",
     "text": [
      "UUID: 3e59be32-d531-4dea-b2c2-e68190fd1677 :: node_type: line :: all content: Date Flavor of the Day Description\n",
      "UUID: 7ba4b3fb-c02c-4cdd-afed-c0624e0b7bbf :: node_type: line :: all content: July 1, 2020 Rocky Road Chocolate ice cream with bits\n",
      "UUID: 530ea145-9eca-4e7e-8522-7953248d6c60 :: node_type: line :: all content: of marshmallow and nuts\n",
      "UUID: 054a3080-0607-4f4a-a52d-c42c4b946d19 :: node_type: line :: all content: folded in.\n",
      "UUID: ccb9b62a-e7be-46c0-b4f4-7a39789ce41d :: node_type: line :: all content: July 8, 2020 Bananas Foster A banana and rum flavored\n",
      "UUID: 1abaea20-81d5-497c-9d55-f6b7c59f89ea :: node_type: line :: all content: ice cream with bits of real\n",
      "UUID: f748a0c4-d041-496f-958b-605d2fd7e036 :: node_type: line :: all content: banana and brown sugar\n",
      "UUID: f989cbe3-4a0e-4a36-a782-e2ba8e59ac3c :: node_type: line :: all content: swirled in.\n",
      "UUID: 0fe4926e-43e0-467d-b934-f61d79b88163 :: node_type: line :: all content: July 7, 2020 Peachy Dream Ice cream made with fresh\n",
      "UUID: c94b371c-b515-413b-9104-4d86046aff52 :: node_type: line :: all content: Georgia peaches, accented\n",
      "UUID: ebf8957b-a682-43df-8a35-4083c4a82793 :: node_type: line :: all content: with bits of toasted almonds.\n"
     ]
    }
   ],
   "source": [
    "\n",
    "## Select all the content_nodes that have been tagged with 'Ice Cream Specials'\n",
    "ice_cream_special_nodes = kodexa_doc.select(\"//*[hasTag('\" + tag_name + \"')]\")\n",
    "\n",
    "for n in ice_cream_special_nodes:\n",
    "    print(f'UUID: {n.uuid} :: node_type: {n.node_type} :: all content: {n.get_all_content()}')"
   ]
  },
  {
   "cell_type": "markdown",
   "metadata": {},
   "source": [
    "## Each line in the PDF is tagged as a row\n",
    "\n",
    "If you look at the PDF, you see a table with three columns, one header row, and three rows of data.  When the PDF is parsed and transformed into a Kodexa Document, the resulting Kodexa document contains a series of lines.  The tagger has identified the table and tagged each line with the table's tag.  \n",
    "\n",
    "Let's take a look a the column tags to see what nodes have been tagged as columns.\n"
   ]
  },
  {
   "cell_type": "code",
   "execution_count": 8,
   "metadata": {},
   "outputs": [
    {
     "name": "stdout",
     "output_type": "stream",
     "text": [
      "Nodes tagged with col0:\n",
      "\tUUID: 71f12a88-6b03-4442-b75b-f43e659fa65f :: node_type: column :: all content: Date\n",
      "\tUUID: b1a36c7e-22c9-45bd-a495-3d7746b56504 :: node_type: column :: all content: July 1, 2020\n",
      "\tUUID: bd2a11e5-f1e6-4cad-a843-592308d322d1 :: node_type: column :: all content: \n",
      "\tUUID: 038915e6-bff3-4da0-a9e3-9a143ce37958 :: node_type: column :: all content: \n",
      "\tUUID: 7e06ab1c-18fe-4b29-a3c4-7ebeb6d2ea23 :: node_type: column :: all content: July 8, 2020\n",
      "\tUUID: ef4e38c1-1bef-4266-b5aa-bd662e658234 :: node_type: column :: all content: \n",
      "\tUUID: 63d3a71f-858c-45a5-a36c-3115dc86ab20 :: node_type: column :: all content: \n",
      "\tUUID: 228a4e7d-9d9d-48fb-b52e-6a525b95d869 :: node_type: column :: all content: \n",
      "\tUUID: 2ba7067d-b54a-47f5-978c-df4cbc762e85 :: node_type: column :: all content: July 7, 2020\n",
      "\tUUID: d3780a34-71fa-4eab-bb5f-7c7ccb5a2836 :: node_type: column :: all content: \n",
      "\tUUID: 46b62cff-80ea-4a35-a080-35c0b11397e4 :: node_type: column :: all content: \n",
      "\n",
      "Nodes tagged with col1:\n",
      "\tUUID: 1b52267d-7574-48d1-82d1-046a07429c06 :: node_type: column :: all content: Flavor of the Day\n",
      "\tUUID: d5886be6-09d6-4074-98a1-f4ec52531831 :: node_type: column :: all content: Rocky Road\n",
      "\tUUID: 4d704c6e-051a-49a9-9766-f65ee7674a00 :: node_type: column :: all content: \n",
      "\tUUID: e38f15cb-40e2-41c3-9f60-a1117d125aac :: node_type: column :: all content: \n",
      "\tUUID: c3014145-9d74-48e9-91f9-5fa2784413df :: node_type: column :: all content: Bananas Foster\n",
      "\tUUID: 6729539e-980d-496f-9ed1-c1fbeeb8c003 :: node_type: column :: all content: \n",
      "\tUUID: ee57a1dc-aa58-4368-846d-620071689eeb :: node_type: column :: all content: \n",
      "\tUUID: 78075dba-c412-40c3-a8ad-922c3039703f :: node_type: column :: all content: \n",
      "\tUUID: 84c1c91f-8125-4fad-9d6c-8f1f7687ddfe :: node_type: column :: all content: Peachy Dream\n",
      "\tUUID: 70d461b9-d8bd-43e3-a04b-ae7562fd2f55 :: node_type: column :: all content: \n",
      "\tUUID: a1459e2f-7724-4eb2-95d6-fbb66e4372c3 :: node_type: column :: all content: \n",
      "\n",
      "Nodes tagged with col2:\n",
      "\tUUID: 924f2cb8-d471-4a8e-8b31-8d020f729141 :: node_type: column :: all content: Description\n",
      "\tUUID: 2b141d61-a1fa-49dc-be15-6b965a1f1b6f :: node_type: column :: all content: Chocolate ice cream with bits\n",
      "\tUUID: e2db7917-efb4-44db-a650-f30969a2db28 :: node_type: column :: all content: of marshmallow and nuts\n",
      "\tUUID: 18866e59-de9b-409d-9eb3-900632b41c13 :: node_type: column :: all content: folded in.\n",
      "\tUUID: b3bf85f5-fc80-4f79-9382-92d49fac5cf4 :: node_type: column :: all content: A banana and rum flavored\n",
      "\tUUID: 5ed88d19-7400-47c2-883d-0973c31bba80 :: node_type: column :: all content: ice cream with bits of real\n",
      "\tUUID: 822ce97b-cb9a-486e-a280-c7e52363ca02 :: node_type: column :: all content: banana and brown sugar\n",
      "\tUUID: 0d6009e1-fc75-4c75-9f15-cbc8740dd5e7 :: node_type: column :: all content: swirled in.\n",
      "\tUUID: ead41b16-6bc1-4b59-a7a2-cfa42b536615 :: node_type: column :: all content: Ice cream made with fresh\n",
      "\tUUID: a45feef8-559a-4bb3-a033-6fc6b74c0636 :: node_type: column :: all content: Georgia peaches, accented\n",
      "\tUUID: eba5ff3f-4cb5-4bd4-90f0-9cc747ffd96d :: node_type: column :: all content: with bits of toasted almonds.\n"
     ]
    }
   ],
   "source": [
    "\n",
    "## Select all the content_nodes that have been tagged with 'col0'\n",
    "col0_nodes = kodexa_doc.select(\"//*[hasTag('col0')]\")\n",
    "\n",
    "print('Nodes tagged with col0:')\n",
    "for n in col0_nodes:\n",
    "    print(f'\\tUUID: {n.uuid} :: node_type: {n.node_type} :: all content: {n.get_all_content()}')\n",
    "    \n",
    "## Select all the content_nodes that have been tagged with 'col0'\n",
    "col1_nodes = kodexa_doc.select(\"//*[hasTag('col1')]\")\n",
    "\n",
    "print('\\nNodes tagged with col1:')\n",
    "for n in col1_nodes:\n",
    "    print(f'\\tUUID: {n.uuid} :: node_type: {n.node_type} :: all content: {n.get_all_content()}')\n",
    "    \n",
    "    \n",
    "## Select all the content_nodes that have been tagged with 'col0'\n",
    "col2_nodes = kodexa_doc.select(\"//*[hasTag('col2')]\")\n",
    "\n",
    "print('\\nNodes tagged with col2:')\n",
    "for n in col2_nodes:\n",
    "    print(f'\\tUUID: {n.uuid} :: node_type: {n.node_type} :: all content: {n.get_all_content()}')"
   ]
  },
  {
   "cell_type": "markdown",
   "metadata": {},
   "source": [
    "## Our column data is as expected!\n",
    "\n",
    "That's cool - the data we expected to appear in each column has, indeed, been tagged with the correct column groups.  \n",
    "\n",
    "Now let's take a look at the data as a dataframe:"
   ]
  },
  {
   "cell_type": "code",
   "execution_count": 9,
   "metadata": {},
   "outputs": [
    {
     "data": {
      "text/html": [
       "<div>\n",
       "<style scoped>\n",
       "    .dataframe tbody tr th:only-of-type {\n",
       "        vertical-align: middle;\n",
       "    }\n",
       "\n",
       "    .dataframe tbody tr th {\n",
       "        vertical-align: top;\n",
       "    }\n",
       "\n",
       "    .dataframe thead th {\n",
       "        text-align: right;\n",
       "    }\n",
       "</style>\n",
       "<table border=\"1\" class=\"dataframe\">\n",
       "  <thead>\n",
       "    <tr style=\"text-align: right;\">\n",
       "      <th></th>\n",
       "      <th>Date</th>\n",
       "      <th>Flavor of the Day</th>\n",
       "      <th>Description</th>\n",
       "    </tr>\n",
       "  </thead>\n",
       "  <tbody>\n",
       "    <tr>\n",
       "      <th>0</th>\n",
       "      <td>July 1, 2020</td>\n",
       "      <td>Rocky Road</td>\n",
       "      <td>Chocolate ice cream with bits</td>\n",
       "    </tr>\n",
       "    <tr>\n",
       "      <th>1</th>\n",
       "      <td></td>\n",
       "      <td></td>\n",
       "      <td>of marshmallow and nuts</td>\n",
       "    </tr>\n",
       "    <tr>\n",
       "      <th>2</th>\n",
       "      <td></td>\n",
       "      <td></td>\n",
       "      <td>folded in.</td>\n",
       "    </tr>\n",
       "    <tr>\n",
       "      <th>3</th>\n",
       "      <td>July 8, 2020</td>\n",
       "      <td>Bananas Foster</td>\n",
       "      <td>A banana and rum flavored</td>\n",
       "    </tr>\n",
       "    <tr>\n",
       "      <th>4</th>\n",
       "      <td></td>\n",
       "      <td></td>\n",
       "      <td>ice cream with bits of real</td>\n",
       "    </tr>\n",
       "    <tr>\n",
       "      <th>5</th>\n",
       "      <td></td>\n",
       "      <td></td>\n",
       "      <td>banana and brown sugar</td>\n",
       "    </tr>\n",
       "    <tr>\n",
       "      <th>6</th>\n",
       "      <td></td>\n",
       "      <td></td>\n",
       "      <td>swirled in.</td>\n",
       "    </tr>\n",
       "    <tr>\n",
       "      <th>7</th>\n",
       "      <td>July 7, 2020</td>\n",
       "      <td>Peachy Dream</td>\n",
       "      <td>Ice cream made with fresh</td>\n",
       "    </tr>\n",
       "    <tr>\n",
       "      <th>8</th>\n",
       "      <td></td>\n",
       "      <td></td>\n",
       "      <td>Georgia peaches, accented</td>\n",
       "    </tr>\n",
       "    <tr>\n",
       "      <th>9</th>\n",
       "      <td></td>\n",
       "      <td></td>\n",
       "      <td>with bits of toasted almonds.</td>\n",
       "    </tr>\n",
       "  </tbody>\n",
       "</table>\n",
       "</div>"
      ],
      "text/plain": [
       "           Date Flavor of the Day                    Description\n",
       "0  July 1, 2020        Rocky Road  Chocolate ice cream with bits\n",
       "1                                        of marshmallow and nuts\n",
       "2                                                     folded in.\n",
       "3  July 8, 2020    Bananas Foster      A banana and rum flavored\n",
       "4                                    ice cream with bits of real\n",
       "5                                         banana and brown sugar\n",
       "6                                                    swirled in.\n",
       "7  July 7, 2020      Peachy Dream      Ice cream made with fresh\n",
       "8                                      Georgia peaches, accented\n",
       "9                                  with bits of toasted almonds."
      ]
     },
     "execution_count": 9,
     "metadata": {},
     "output_type": "execute_result"
    }
   ],
   "source": [
    "context.get_store(tag_name).to_df()"
   ]
  },
  {
   "cell_type": "markdown",
   "metadata": {},
   "source": [
    "## It's easy to convert the data to a dataframe\n",
    "\n",
    "Just as expected, we have three columns of data (yea!)...however, we have nine rows of data and we really only want to have 3.  We can change that!\n",
    "\n",
    "To merge the unwanted rows of data into a single row, we need to tell the tagger where we expect data to exist.  In this case, we really expect data to begin in the first column (index 0), so we'll set a new parameter for the extract options specifying that index\n",
    "\n",
    "* extract_options - **col_index_with_text**: The index of the column where data we expect to see data.  We expect to see data in the 'Date' column, so we'll set the value as 0.\n",
    "\n"
   ]
  },
  {
   "cell_type": "code",
   "execution_count": 10,
   "metadata": {},
   "outputs": [],
   "source": [
    "\n",
    "# First, remove all existing tags from the document so they don't interfere with our new round of tagging\n",
    "for t in kodexa_doc.get_root().get_all_tags():\n",
    "    [n.remove_tag(t) for n in kodexa_doc.select(\"//*[hasTag('\" + t + \"')]\")]\n",
    "    \n",
    "    \n",
    "# Use the same options values as before, and add the 'extract_options' parameter 'col_index_with_text' with a value of 0.\n",
    "pipeline = Pipeline(kodexa_doc)\n",
    "pipeline.add_step(RemoteAction(slug='kodexa/pattern-table-tagger', \n",
    "                                     options={\"tag_to_apply\": tag_name, \n",
    "                                              \"page_start_re\": page_start_re, \n",
    "                                              \"table_start_re\":table_start_re, \n",
    "                                              \"extract\":True, \n",
    "                                                  \"extract_options\": {'store_name': tag_name, \n",
    "                                                                      'col_index_with_text': 0}\n",
    "                                              }))\n",
    "\n",
    "\n",
    "context = pipeline.run()\n",
    "kodexa_doc = pipeline.context.output_document"
   ]
  },
  {
   "cell_type": "code",
   "execution_count": 11,
   "metadata": {},
   "outputs": [
    {
     "data": {
      "text/html": [
       "<div>\n",
       "<style scoped>\n",
       "    .dataframe tbody tr th:only-of-type {\n",
       "        vertical-align: middle;\n",
       "    }\n",
       "\n",
       "    .dataframe tbody tr th {\n",
       "        vertical-align: top;\n",
       "    }\n",
       "\n",
       "    .dataframe thead th {\n",
       "        text-align: right;\n",
       "    }\n",
       "</style>\n",
       "<table border=\"1\" class=\"dataframe\">\n",
       "  <thead>\n",
       "    <tr style=\"text-align: right;\">\n",
       "      <th></th>\n",
       "      <th>Date</th>\n",
       "      <th>Flavor of the Day</th>\n",
       "      <th>Description</th>\n",
       "    </tr>\n",
       "  </thead>\n",
       "  <tbody>\n",
       "    <tr>\n",
       "      <th>0</th>\n",
       "      <td>July 1, 2020</td>\n",
       "      <td>Rocky Road</td>\n",
       "      <td>Chocolate ice cream with bits of marshmallow a...</td>\n",
       "    </tr>\n",
       "    <tr>\n",
       "      <th>1</th>\n",
       "      <td>July 8, 2020</td>\n",
       "      <td>Bananas Foster</td>\n",
       "      <td>A banana and rum flavored ice cream with bits ...</td>\n",
       "    </tr>\n",
       "    <tr>\n",
       "      <th>2</th>\n",
       "      <td>July 7, 2020</td>\n",
       "      <td>Peachy Dream</td>\n",
       "      <td>Ice cream made with fresh Georgia peaches, acc...</td>\n",
       "    </tr>\n",
       "  </tbody>\n",
       "</table>\n",
       "</div>"
      ],
      "text/plain": [
       "           Date Flavor of the Day  \\\n",
       "0  July 1, 2020        Rocky Road   \n",
       "1  July 8, 2020    Bananas Foster   \n",
       "2  July 7, 2020      Peachy Dream   \n",
       "\n",
       "                                         Description  \n",
       "0  Chocolate ice cream with bits of marshmallow a...  \n",
       "1  A banana and rum flavored ice cream with bits ...  \n",
       "2  Ice cream made with fresh Georgia peaches, acc...  "
      ]
     },
     "execution_count": 11,
     "metadata": {},
     "output_type": "execute_result"
    }
   ],
   "source": [
    "context.get_store(tag_name).to_df()"
   ]
  },
  {
   "cell_type": "markdown",
   "metadata": {},
   "source": [
    "##  Bingo!  The data is extracted correctly!\n",
    "\n",
    "### Let's look closer at the header row\n",
    "\n",
    "When we set the 'extract' parameter to True to extract the table in a store, a number of additional 'extract_options' are available to us.  We've already used two of them - 'store_name' (required) and 'col_index_with_text'.\n",
    "\n",
    "If you look at the data displayed in the cell above, you'll see the Date, Flavor of the Day, and Description values are all bold, indicating they're the column headers.  \n",
    "\n",
    "We can see that clearly when we look at the columns on the dataframe:"
   ]
  },
  {
   "cell_type": "code",
   "execution_count": 12,
   "metadata": {},
   "outputs": [
    {
     "data": {
      "text/plain": [
       "Index(['Date', 'Flavor of the Day', 'Description'], dtype='object')"
      ]
     },
     "execution_count": 12,
     "metadata": {},
     "output_type": "execute_result"
    }
   ],
   "source": [
    "\n",
    "# Print the name of the columns in the dataframe\n",
    "context.get_store(tag_name).to_df().columns"
   ]
  },
  {
   "cell_type": "markdown",
   "metadata": {},
   "source": [
    "## How do column names get set?\n",
    "\n",
    "The 'extract_options' includes a parameter named 'header_lines_count' and it's defaulted to 1.  That means the extract logic expects the first row of data to be the header for the table.  \n",
    "\n",
    "Let's see what happens if we change that if we set that value to 0:\n"
   ]
  },
  {
   "cell_type": "code",
   "execution_count": 13,
   "metadata": {},
   "outputs": [],
   "source": [
    "# Removing all existing tags\n",
    "for t in kodexa_doc.get_root().get_all_tags():\n",
    "    [n.remove_tag(t) for n in kodexa_doc.select(\"//*[hasTag('\" + t + \"')]\")]\n",
    "    \n",
    "    \n",
    "# Use the same options values as before, and add the 'extract_options' parameter 'header_lines_count' with a value of 0.\n",
    "pipeline = Pipeline(kodexa_doc)\n",
    "pipeline.add_step(RemoteAction(slug='kodexa/pattern-table-tagger', \n",
    "                                     options={\"tag_to_apply\": tag_name, \n",
    "                                              \"page_start_re\": page_start_re, \n",
    "                                              \"table_start_re\":table_start_re, \n",
    "                                              \"extract\":True, \n",
    "                                                  \"extract_options\": {'store_name': tag_name, \n",
    "                                                                      'col_index_with_text': 0,\n",
    "                                                                      'header_lines_count': 0\n",
    "                                                                     }\n",
    "                                              }))\n",
    "\n",
    "\n",
    "context = pipeline.run()\n",
    "kodexa_doc = pipeline.context.output_document"
   ]
  },
  {
   "cell_type": "code",
   "execution_count": 14,
   "metadata": {},
   "outputs": [
    {
     "name": "stdout",
     "output_type": "stream",
     "text": [
      "Column headers are now:\n",
      "\tIndex(['', '', ''], dtype='object')\n",
      "\n",
      "Dataframe values:\n"
     ]
    },
    {
     "data": {
      "text/html": [
       "<div>\n",
       "<style scoped>\n",
       "    .dataframe tbody tr th:only-of-type {\n",
       "        vertical-align: middle;\n",
       "    }\n",
       "\n",
       "    .dataframe tbody tr th {\n",
       "        vertical-align: top;\n",
       "    }\n",
       "\n",
       "    .dataframe thead th {\n",
       "        text-align: right;\n",
       "    }\n",
       "</style>\n",
       "<table border=\"1\" class=\"dataframe\">\n",
       "  <thead>\n",
       "    <tr style=\"text-align: right;\">\n",
       "      <th></th>\n",
       "      <th></th>\n",
       "      <th></th>\n",
       "      <th></th>\n",
       "    </tr>\n",
       "  </thead>\n",
       "  <tbody>\n",
       "    <tr>\n",
       "      <th>0</th>\n",
       "      <td>Date</td>\n",
       "      <td>Flavor of the Day</td>\n",
       "      <td>Description</td>\n",
       "    </tr>\n",
       "    <tr>\n",
       "      <th>1</th>\n",
       "      <td>July 1, 2020</td>\n",
       "      <td>Rocky Road</td>\n",
       "      <td>Chocolate ice cream with bits of marshmallow a...</td>\n",
       "    </tr>\n",
       "    <tr>\n",
       "      <th>2</th>\n",
       "      <td>July 8, 2020</td>\n",
       "      <td>Bananas Foster</td>\n",
       "      <td>A banana and rum flavored ice cream with bits ...</td>\n",
       "    </tr>\n",
       "    <tr>\n",
       "      <th>3</th>\n",
       "      <td>July 7, 2020</td>\n",
       "      <td>Peachy Dream</td>\n",
       "      <td>Ice cream made with fresh Georgia peaches, acc...</td>\n",
       "    </tr>\n",
       "  </tbody>\n",
       "</table>\n",
       "</div>"
      ],
      "text/plain": [
       "                                    \\\n",
       "0          Date  Flavor of the Day   \n",
       "1  July 1, 2020         Rocky Road   \n",
       "2  July 8, 2020     Bananas Foster   \n",
       "3  July 7, 2020       Peachy Dream   \n",
       "\n",
       "                                                      \n",
       "0                                        Description  \n",
       "1  Chocolate ice cream with bits of marshmallow a...  \n",
       "2  A banana and rum flavored ice cream with bits ...  \n",
       "3  Ice cream made with fresh Georgia peaches, acc...  "
      ]
     },
     "execution_count": 14,
     "metadata": {},
     "output_type": "execute_result"
    }
   ],
   "source": [
    "\n",
    "print(f'Column headers are now:\\n\\t{context.get_store(tag_name).to_df().columns}')\n",
    "print('\\nDataframe values:')\n",
    "context.get_store(tag_name).to_df()"
   ]
  },
  {
   "cell_type": "markdown",
   "metadata": {},
   "source": [
    "## Our column headers are gone!\n",
    "\n",
    "By setting the header_lines_count value to 0, we've instructed the extract logic that there are no header lines and everything should be included as data.\n",
    "\n",
    "When would this be helpful?\n",
    "\n",
    "Sometimes we want to ignore the headers on a table and just select the data...or maybe there are no headers on the table at all.  In this case, we can write our table_start_re selector to select the first data cell, and set the header_lines_count extract option to 0 (zero).\n",
    "\n"
   ]
  },
  {
   "cell_type": "code",
   "execution_count": 15,
   "metadata": {},
   "outputs": [],
   "source": [
    "# Removing all existing tags\n",
    "for t in kodexa_doc.get_root().get_all_tags():\n",
    "    [n.remove_tag(t) for n in kodexa_doc.select(\"//*[hasTag('\" + t + \"')]\")]\n",
    "    \n",
    "    \n",
    "# Setting our table_start regex to look for data in the first row.  Since we know this data begins with the month of July, we'll use that for our match.\n",
    "table_start_re = \".*July.*\"\n",
    "    \n",
    "# Use the same options values as before, and add the 'extract_options' parameter 'header_lines_count' with a value of 0.\n",
    "pipeline = Pipeline(kodexa_doc)\n",
    "pipeline.add_step(RemoteAction(slug='kodexa/pattern-table-tagger', \n",
    "                                     options={\"tag_to_apply\": tag_name, \n",
    "                                              \"page_start_re\": page_start_re, \n",
    "                                              \"table_start_re\": table_start_re, \n",
    "                                              \"extract\":True, \n",
    "                                                  \"extract_options\": {'store_name': tag_name, \n",
    "                                                                      'col_index_with_text': 0,\n",
    "                                                                      'header_lines_count': 0\n",
    "                                                                     }\n",
    "                                              }))\n",
    "\n",
    "\n",
    "context = pipeline.run()\n",
    "kodexa_doc = pipeline.context.output_document"
   ]
  },
  {
   "cell_type": "code",
   "execution_count": 16,
   "metadata": {},
   "outputs": [
    {
     "name": "stdout",
     "output_type": "stream",
     "text": [
      "Column headers are now:\n",
      "\tIndex(['', '', ''], dtype='object')\n",
      "\n",
      "Dataframe values:\n"
     ]
    },
    {
     "data": {
      "text/html": [
       "<div>\n",
       "<style scoped>\n",
       "    .dataframe tbody tr th:only-of-type {\n",
       "        vertical-align: middle;\n",
       "    }\n",
       "\n",
       "    .dataframe tbody tr th {\n",
       "        vertical-align: top;\n",
       "    }\n",
       "\n",
       "    .dataframe thead th {\n",
       "        text-align: right;\n",
       "    }\n",
       "</style>\n",
       "<table border=\"1\" class=\"dataframe\">\n",
       "  <thead>\n",
       "    <tr style=\"text-align: right;\">\n",
       "      <th></th>\n",
       "      <th></th>\n",
       "      <th></th>\n",
       "      <th></th>\n",
       "    </tr>\n",
       "  </thead>\n",
       "  <tbody>\n",
       "    <tr>\n",
       "      <th>0</th>\n",
       "      <td>July 1, 2020</td>\n",
       "      <td>Rocky Road</td>\n",
       "      <td>Chocolate ice cream with bits of marshmallow a...</td>\n",
       "    </tr>\n",
       "    <tr>\n",
       "      <th>1</th>\n",
       "      <td>July 8, 2020</td>\n",
       "      <td>Bananas Foster</td>\n",
       "      <td>A banana and rum flavored ice cream with bits ...</td>\n",
       "    </tr>\n",
       "    <tr>\n",
       "      <th>2</th>\n",
       "      <td>July 7, 2020</td>\n",
       "      <td>Peachy Dream</td>\n",
       "      <td>Ice cream made with fresh Georgia peaches, acc...</td>\n",
       "    </tr>\n",
       "  </tbody>\n",
       "</table>\n",
       "</div>"
      ],
      "text/plain": [
       "                                 \\\n",
       "0  July 1, 2020      Rocky Road   \n",
       "1  July 8, 2020  Bananas Foster   \n",
       "2  July 7, 2020    Peachy Dream   \n",
       "\n",
       "                                                      \n",
       "0  Chocolate ice cream with bits of marshmallow a...  \n",
       "1  A banana and rum flavored ice cream with bits ...  \n",
       "2  Ice cream made with fresh Georgia peaches, acc...  "
      ]
     },
     "execution_count": 16,
     "metadata": {},
     "output_type": "execute_result"
    }
   ],
   "source": [
    "\n",
    "print(f'Column headers are now:\\n\\t{context.get_store(tag_name).to_df().columns}')\n",
    "print('\\nDataframe values:')\n",
    "context.get_store(tag_name).to_df()"
   ]
  },
  {
   "cell_type": "markdown",
   "metadata": {},
   "source": [
    "## Look at that! We were able to extract only the data from the table!\n",
    "\n",
    "What else can we do with this table?\n",
    "\n",
    "## Let's transpose the data\n",
    "\n",
    "The 'extract_options' includes a parameter named 'transpose' which is defaulted to False.  If we set that value to True, the data in the extracted TableDataStore will be transposed and we'll have a column for every date and one row with the ice cream specials.  Let's try that out."
   ]
  },
  {
   "cell_type": "code",
   "execution_count": 17,
   "metadata": {},
   "outputs": [],
   "source": [
    "# Removing all existing tags\n",
    "for t in kodexa_doc.get_root().get_all_tags():\n",
    "    [n.remove_tag(t) for n in kodexa_doc.select(\"//*[hasTag('\" + t + \"')]\")]\n",
    "    \n",
    "    \n",
    "# Setting our table_start regex to look for data in the first row.  Since we know this data begins with the month of July, we'll use that for our match.\n",
    "table_start_re = \".*July.*\"\n",
    "    \n",
    "# Use the same options values as before, and add the 'extract_options' parameter 'header_lines_count' with a value of 0.\n",
    "pipeline = Pipeline(kodexa_doc)\n",
    "pipeline.add_step(RemoteAction(slug='kodexa/pattern-table-tagger', \n",
    "                                     options={\"tag_to_apply\": tag_name, \n",
    "                                              \"page_start_re\": page_start_re, \n",
    "                                              \"table_start_re\": table_start_re, \n",
    "                                              \"extract\":True, \n",
    "                                                  \"extract_options\": {'store_name': tag_name, \n",
    "                                                                      'col_index_with_text': 0,\n",
    "                                                                      'header_lines_count': 0,\n",
    "                                                                      'transpose': True\n",
    "                                                                     }\n",
    "                                              }))\n",
    "\n",
    "\n",
    "context = pipeline.run()\n",
    "kodexa_doc = pipeline.context.output_document"
   ]
  },
  {
   "cell_type": "code",
   "execution_count": 18,
   "metadata": {},
   "outputs": [
    {
     "name": "stdout",
     "output_type": "stream",
     "text": [
      "\n",
      "Dataframe values:\n"
     ]
    },
    {
     "data": {
      "text/html": [
       "<div>\n",
       "<style scoped>\n",
       "    .dataframe tbody tr th:only-of-type {\n",
       "        vertical-align: middle;\n",
       "    }\n",
       "\n",
       "    .dataframe tbody tr th {\n",
       "        vertical-align: top;\n",
       "    }\n",
       "\n",
       "    .dataframe thead th {\n",
       "        text-align: right;\n",
       "    }\n",
       "</style>\n",
       "<table border=\"1\" class=\"dataframe\">\n",
       "  <thead>\n",
       "    <tr style=\"text-align: right;\">\n",
       "      <th></th>\n",
       "      <th>July 1, 2020</th>\n",
       "      <th>July 8, 2020</th>\n",
       "      <th>July 7, 2020</th>\n",
       "    </tr>\n",
       "  </thead>\n",
       "  <tbody>\n",
       "    <tr>\n",
       "      <th>0</th>\n",
       "      <td>Rocky Road</td>\n",
       "      <td>Bananas Foster</td>\n",
       "      <td>Peachy Dream</td>\n",
       "    </tr>\n",
       "    <tr>\n",
       "      <th>1</th>\n",
       "      <td>Chocolate ice cream with bits of marshmallow a...</td>\n",
       "      <td>A banana and rum flavored ice cream with bits ...</td>\n",
       "      <td>Ice cream made with fresh Georgia peaches, acc...</td>\n",
       "    </tr>\n",
       "  </tbody>\n",
       "</table>\n",
       "</div>"
      ],
      "text/plain": [
       "                                        July 1, 2020  \\\n",
       "0                                         Rocky Road   \n",
       "1  Chocolate ice cream with bits of marshmallow a...   \n",
       "\n",
       "                                        July 8, 2020  \\\n",
       "0                                     Bananas Foster   \n",
       "1  A banana and rum flavored ice cream with bits ...   \n",
       "\n",
       "                                        July 7, 2020  \n",
       "0                                       Peachy Dream  \n",
       "1  Ice cream made with fresh Georgia peaches, acc...  "
      ]
     },
     "execution_count": 18,
     "metadata": {},
     "output_type": "execute_result"
    }
   ],
   "source": [
    "print('\\nDataframe values:')\n",
    "context.get_store(tag_name).to_df()"
   ]
  },
  {
   "cell_type": "code",
   "execution_count": null,
   "metadata": {},
   "outputs": [],
   "source": []
  }
 ],
 "metadata": {
  "kernelspec": {
   "display_name": "kodexa_python_quickstart",
   "language": "python",
   "name": "kodexa_python_quickstart"
  },
  "language_info": {
   "codemirror_mode": {
    "name": "ipython",
    "version": 3
   },
   "file_extension": ".py",
   "mimetype": "text/x-python",
   "name": "python",
   "nbconvert_exporter": "python",
   "pygments_lexer": "ipython3",
   "version": "3.7.8"
  }
 },
 "nbformat": 4,
 "nbformat_minor": 4
}
