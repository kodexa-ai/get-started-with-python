{
 "cells": [
  {
   "cell_type": "markdown",
   "metadata": {},
   "source": [
    "# Working with PDF files in Kodexa\n",
    "\n",
    "PDF (portable document files) are ubiqutious in the business world and are used for all types of communications, contracts, agreements, etc.  Kodexa provides the means to parse PDF files into our document content model, find and tag values within the document, and use the document with a variety of Kodexa actions.  This notebook will demonstrate how easy it is to access data from an PDF file.  We will be using concepts introduced in the \"Getting Started\" notebooks, so you may want to review/refer to them as you proceed through this example.\n",
    "\n",
    "By the end of this example, you'll be able to parse a PDF file, examine the existing data, tag and extract tables in the PDF file, and export that data to a datastore that you could use for further processing.\n",
    "\n",
    "All of our processing will occur in Kodexa's cloud environment.  In order to access the platform, you'll need to register for an account and generate an access token.  If you haven't done that already, follow the steps in our [Getting Started](https://developer.kodexa.com/kodexa-cloud/accessing-kodexa-cloud) guide."
   ]
  },
  {
   "cell_type": "markdown",
   "metadata": {},
   "source": [
    "Import the dependencies:\n",
    "1. Since all of our actions occur in the cloud, we'll need to import the KodexaPlatform and RemoteAction modules\n",
    "2. Import Kodexa's Pipeline module so we can build pipelines and process our document\n",
    "3. The PDF file we'll be processing is located in a file folder, so we'll import the FolderConnector in order to access it.\n",
    "4. All files that have been processed/parsed in Kodexa (Excel, PDF, etc) become Kodexa Documents, so we'll import that module as well.\n",
    "\n",
    "We're also setting the CLOUD_URL value to the platform environment on which we want to perform our processing\n"
   ]
  },
  {
   "cell_type": "code",
   "execution_count": 3,
   "metadata": {},
   "outputs": [],
   "source": [
    "# The kodexa package is public\n",
    "from kodexa import Document, Pipeline, FolderConnector, KodexaPlatform, RemoteAction\n",
    "\n",
    "CLOUD_URL = 'https://platform.kodexa.com' "
   ]
  },
  {
   "cell_type": "markdown",
   "metadata": {},
   "source": [
    "## Set Platform Environment and Access Token Credential\n",
    "\n",
    "In the next cell, you'll be prompted to enter your access token that you've created in the environment specified by the CLOUD_URL.\n",
    "If you haven't created a token already, follow the steps in our [Getting Started](https://developer.kodexa.com/org-management/manage-access-token) guide.\n",
    "\n",
    "* Note:  The text you enter in the prompt field will be masked.  Once you're done entering the access token value, hit enter to complete the action in the cell.  **You will then need to manulally set control at the next cell.**"
   ]
  },
  {
   "cell_type": "code",
   "execution_count": 4,
   "metadata": {},
   "outputs": [
    {
     "name": "stdin",
     "output_type": "stream",
     "text": [
      "Enter access token: ································\n"
     ]
    }
   ],
   "source": [
    "import getpass\n",
    "\n",
    "# Only request a login if we aren't logged in\n",
    "\n",
    "if KodexaPlatform.get_access_token() is None:\n",
    "\n",
    "    ACCESS_TOKEN = getpass.getpass(\"Enter access token:\")\n",
    "\n",
    "    KodexaPlatform.set_url(CLOUD_URL)\n",
    "    KodexaPlatform.set_access_token(ACCESS_TOKEN)"
   ]
  },
  {
   "cell_type": "code",
   "execution_count": 5,
   "metadata": {},
   "outputs": [
    {
     "name": "stdout",
     "output_type": "stream",
     "text": [
      "\n",
      "This is where the PDF document is located: /home/skep/Projects/Kodexa/get-started-with-python/2_Examples_by_Source_Type/../_data/pdfs/Navient_Test.pdf\n",
      "\n"
     ]
    }
   ],
   "source": [
    "import os\n",
    "\n",
    "# Setting up location of data file\n",
    "DATA_FOLDER = '_data'\n",
    "PDF_FOLDER = 'pdfs'\n",
    "DATA_FILE = 'Navient_Test.pdf'\n",
    "\n",
    "FULL_PATH = os.path.join(os.getcwd(), '..', DATA_FOLDER, PDF_FOLDER, DATA_FILE)\n",
    "\n",
    "print(f'\\nThis is where the PDF document is located: {FULL_PATH}\\n')\n"
   ]
  },
  {
   "cell_type": "code",
   "execution_count": 6,
   "metadata": {},
   "outputs": [],
   "source": [
    "# Create a pipeline in order to access the PDF file\n",
    "pipeline = Pipeline.from_file(FULL_PATH)\n",
    "\n",
    "# Our first step in the Pipeline is to parse the PDF file.  \n",
    "# The parser will produce a Kodexa document, which we'll retrive after the pipeline runs\n",
    "pipeline.add_step(RemoteAction(slug='kodexa/pdf-parser', options={}, attach_source=True))\n",
    "\n",
    "# Bam!\n",
    "pipeline.run()\n",
    "\n",
    "kodexa_doc = pipeline.context.output_document"
   ]
  },
  {
   "cell_type": "markdown",
   "metadata": {},
   "source": [
    "## Let's see what was returned\n",
    "\n",
    "Like any Kodexa document, all of the base methods and properties for the Document class are available to us.  We can access the metadata, get the content, etc.  Even though the source of this document was originally a PDF file, it still follows the same tree-like ContentNode structure as all Kodexa documents.\n",
    "\n",
    "We can try it out here - let's view the first 1000 characters of content\n"
   ]
  },
  {
   "cell_type": "code",
   "execution_count": 9,
   "metadata": {},
   "outputs": [
    {
     "data": {
      "text/plain": [
       "'Navient Private Education Loan Trust 2016-A Monthly Servicing Report Distribution Date 07/15/2020 Collection Period 06/01/2020 - 06/30/2020 Navient Credit Funding, LLC - Depositor Navient Solutions - Servicer and Administrator Deutsche Bank National Trust Company - Indenture Trustee Deutsche Bank Trust Company Americas - Trustee Navient Credit Funding - Excess Distribution Certificateholder Page 1 of 10 I. Deal Parameters A Student Loan Portfolio Characteristics 02/04/2016 05/31/2020 06/30/2020 Principal Balance $ 702,816,146.01 $ 352,280,935.24 $ 348,066,397.59 Interest to be Capitalized Balance 9,495,421.47 1,766,212.19 1,590,403.89 Pool Balance $ 712,311,567.48 $ 354,047,147.43 $ 349,656,801.48 Weighted Average Coupon (WAC) 7.54% 7.07% 7.09% Weighted Average Remaining Term 164.44 165.93 165.96 Number of Loans 62,798 34,345 33,909 Number of Borrowers 47,570 26,492 26,151 Pool Factor 0.497039728 0.490876208 Since Issued Constant Prepayment Rate 8.86% 8.80% B Debt Securities Cusip/Isin'"
      ]
     },
     "execution_count": 9,
     "metadata": {},
     "output_type": "execute_result"
    }
   ],
   "source": [
    "kodexa_doc.get_root().get_all_content()[:1000]"
   ]
  },
  {
   "cell_type": "markdown",
   "metadata": {},
   "source": [
    "## What makes this document special?\n",
    "\n",
    "This is still a standard Kodexa document with all the basic document properties, but because this represents a PDF document, it does have a few differences that make it different from a base Kodexa document.\n",
    "\n",
    "The ContentNodes in this document are all one of the following types:  'content-area', 'figure-line', 'line', 'page', 'rect', 'root', or 'word'.  When PDF documents are parsed, we apply a layer of logic to determine logical groupings that most likley represent lines of text, the content-areas that contain them (sort of like a paragraph), and tables (containing the 'rect' and 'figure-line' nodes).  We've found that it's pretty important to know where in a document and where on a page text is found - this 'spatial analysis' process helps us retain that information and represent it through node types.\n",
    "\n",
    "We can inspect the document for all node types present with a quick bit of code:"
   ]
  },
  {
   "cell_type": "code",
   "execution_count": 10,
   "metadata": {},
   "outputs": [
    {
     "name": "stdout",
     "output_type": "stream",
     "text": [
      "{'word', 'line', 'content-area', 'figure-line', 'page', 'rect', 'root'}\n"
     ]
    }
   ],
   "source": [
    "# get all nodes, then create a set of unique types \n",
    "all_nodes = kodexa_doc.select('//*')\n",
    "\n",
    "all_types = set()\n",
    "for n in all_nodes:\n",
    "    all_types.add(n.node_type)\n",
    "    \n",
    "print(all_types)"
   ]
  },
  {
   "cell_type": "code",
   "execution_count": 11,
   "metadata": {},
   "outputs": [
    {
     "name": "stdout",
     "output_type": "stream",
     "text": [
      "Navient Private Education Loan Trust 2016-A Monthly Servicing Report Distribution Date 07/15/2020 Collection Period 06/01/2020 - 06/30/2020 Navient Credit Funding, LLC - Depositor Navient Solutions - Servicer and Administrator Deutsche Bank National Trust Company - Indenture Trustee Deutsche Bank Trust Company Americas - Trustee Navient Credit Funding - Excess Distribution Certificateholder Page 1 of 10\n"
     ]
    }
   ],
   "source": [
    "# Let's take a look at the first page\n",
    "\n",
    "print(kodexa_doc.select('//page')[0].get_all_content())"
   ]
  },
  {
   "cell_type": "code",
   "execution_count": null,
   "metadata": {},
   "outputs": [],
   "source": []
  }
 ],
 "metadata": {
  "kernelspec": {
   "display_name": "kodexa_python_quickstart",
   "language": "python",
   "name": "kodexa_python_quickstart"
  },
  "language_info": {
   "codemirror_mode": {
    "name": "ipython",
    "version": 3
   },
   "file_extension": ".py",
   "mimetype": "text/x-python",
   "name": "python",
   "nbconvert_exporter": "python",
   "pygments_lexer": "ipython3",
   "version": "3.7.8"
  }
 },
 "nbformat": 4,
 "nbformat_minor": 4
}
