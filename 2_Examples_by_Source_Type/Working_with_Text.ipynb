{
 "cells": [
  {
   "cell_type": "markdown",
   "metadata": {},
   "source": [
    "# Working with text files in Kodexa\n",
    "\n",
    "\n",
    "All of our processing will occur in Kodexa's cloud environment.  In order to access the platform, you'll need to register for an account and generate an access token.  If you haven't done that already, follow the steps in our [Getting Started](https://developer.kodexa.com/kodexa-cloud/accessing-kodexa-cloud) guide."
   ]
  },
  {
   "cell_type": "markdown",
   "metadata": {},
   "source": [
    "Import the dependencies:\n",
    "1. Since all of our actions occur in the cloud, we'll need to import the KodexaPlatform and RemoteAction modules\n",
    "2. Import Kodexa's Pipeline module so we can build pipelines and process our document\n",
    "3. The PDF file we'll be processing is located in a file folder, so we'll import the FolderConnector in order to access it.\n",
    "4. All files that have been processed/parsed in Kodexa (Excel, PDF, etc) become Kodexa Documents, so we'll import that module as well.\n",
    "\n",
    "We're also setting the CLOUD_URL value to the platform environment on which we want to perform our processing\n"
   ]
  },
  {
   "cell_type": "code",
   "execution_count": 1,
   "metadata": {},
   "outputs": [],
   "source": [
    "# The kodexa package is public\n",
    "from kodexa import Document, Pipeline, FolderConnector, KodexaPlatform, RemoteAction\n",
    "\n",
    "CLOUD_URL = 'https://platform.kodexa.com' "
   ]
  },
  {
   "cell_type": "markdown",
   "metadata": {},
   "source": [
    "## Set Platform Environment and Access Token Credential\n",
    "\n",
    "In the next cell, you'll be prompted to enter your access token that you've created in the environment specified by the CLOUD_URL.\n",
    "If you haven't created a token already, follow the steps in our [Getting Started](https://developer.kodexa.com/org-management/manage-access-token) guide.\n",
    "\n",
    "* Note:  The text you enter in the prompt field will be masked.  Once you're done entering the access token value, hit enter to complete the action in the cell.  **You will then need to manulally set control at the next cell.**"
   ]
  },
  {
   "cell_type": "code",
   "execution_count": 3,
   "metadata": {},
   "outputs": [
    {
     "name": "stdin",
     "output_type": "stream",
     "text": [
      "Enter access token: ································\n"
     ]
    }
   ],
   "source": [
    "import getpass\n",
    "\n",
    "# Only request a login if we aren't logged in\n",
    "\n",
    "if KodexaPlatform.get_access_token() is None:\n",
    "    \n",
    "    ACCESS_TOKEN = getpass.getpass(\"Enter access token:\")\n",
    "\n",
    "    KodexaPlatform.set_url(CLOUD_URL)\n",
    "    KodexaPlatform.set_access_token(ACCESS_TOKEN)"
   ]
  },
  {
   "cell_type": "code",
   "execution_count": 15,
   "metadata": {},
   "outputs": [
    {
     "name": "stdout",
     "output_type": "stream",
     "text": [
      "\n",
      "This is where the text document is located: /home/skep/Projects/Kodexa/get-started-with-python/2_Examples_by_Source_Type/../_data/texts/news_story.txt\n",
      "\n"
     ]
    }
   ],
   "source": [
    "import os\n",
    "\n",
    "# Setting up location of data file\n",
    "DATA_FOLDER = '_data'\n",
    "TEXT_FOLDER = 'texts'\n",
    "DATA_FILE = 'news_story.txt'\n",
    "\n",
    "FULL_PATH = os.path.join(os.getcwd(), '..', DATA_FOLDER, TEXT_FOLDER, DATA_FILE)\n",
    "\n",
    "print(f'\\nThis is where the text document is located: {FULL_PATH}\\n')"
   ]
  },
  {
   "cell_type": "code",
   "execution_count": 16,
   "metadata": {},
   "outputs": [],
   "source": [
    "\n",
    "# Create a pipeline in order to access the Excel file\n",
    "pipeline = Pipeline.from_file(FULL_PATH)\n",
    "\n",
    "# Our first step in the Pipeline is to parse the Excel file.  \n",
    "# The parser will produce a Kodexa document, which we'll retrive after the pipeline runs\n",
    "pipeline.add_step(RemoteAction(slug='kodexa/text-parser', options={}, attach_source=True))\n",
    "\n",
    "# Do it!\n",
    "pipeline.run()\n",
    "\n",
    "# Let's get that freshly parsed document!\n",
    "kodexa_doc = pipeline.context.output_document"
   ]
  },
  {
   "cell_type": "code",
   "execution_count": 17,
   "metadata": {},
   "outputs": [
    {
     "data": {
      "text/plain": [
       "'The UK will remain in the \"containment\" stage of its response to the coronavirus following an emergency Cobra meeting.\\n\\nIt comes as the country\\'s chief medical adviser confirmed a fourth person had died from the virus in the UK.\\n\\nThere were 319 confirmed cases in the UK as of 09:00 GMT on Monday, a rise of 46 since the same time on Sunday.\\n\\nHowever, measures to delay the virus\\' spread with \"social distancing\" will not be introduced yet, ministers said.\\n\\nNumber 10 said it accepted that the virus \"is going to spread in a significant way\", however.\\n\\nThe latest person to die from the virus was in their 70s and had underlying health conditions, according to the UK government\\'s chief medical adviser Prof Chris Whitty.\\n\\nHe said the patient, who was being treated at a hospital in Wolverhampton, appeared to have contracted the virus in the UK and that officials were tracing people they had been in contact with.\\n\\nFollowing the Cobra meeting, Downing Street said the prime minister \"will be guided'"
      ]
     },
     "execution_count": 17,
     "metadata": {},
     "output_type": "execute_result"
    }
   ],
   "source": [
    "kodexa_doc.get_root().get_all_content()[:1000]"
   ]
  },
  {
   "cell_type": "markdown",
   "metadata": {},
   "source": [
    "## Tag NER (apply named entity relationship tagging)"
   ]
  },
  {
   "cell_type": "code",
   "execution_count": 18,
   "metadata": {},
   "outputs": [],
   "source": [
    "\n",
    "pipeline = Pipeline(kodexa_doc)\n",
    "\n",
    "#pipeline.add_step(RemoteAction(slug='kodexa/ner-tagger', options={}))\n",
    "pipeline.add_step(RemoteAction(slug='aws/ner-tagger', options={}))\n",
    "\n",
    "# Do it!\n",
    "pipeline.run()\n",
    "\n",
    "# Let's get that freshly parsed document!\n",
    "kodexa_doc = pipeline.context.output_document"
   ]
  },
  {
   "cell_type": "code",
   "execution_count": 19,
   "metadata": {},
   "outputs": [
    {
     "data": {
      "text/plain": [
       "['PERSON', 'DATE', 'EVENT', 'OTHER', 'QUANTITY', 'ORGANIZATION', 'LOCATION']"
      ]
     },
     "execution_count": 19,
     "metadata": {},
     "output_type": "execute_result"
    }
   ],
   "source": [
    "kodexa_doc.get_root().get_all_tags()"
   ]
  },
  {
   "cell_type": "code",
   "execution_count": 20,
   "metadata": {},
   "outputs": [
    {
     "data": {
      "text/plain": [
       "[<kodexa.model.model.ContentFeature at 0x7f0ebfe2e510>,\n",
       " <kodexa.model.model.ContentFeature at 0x7f0ebfe2ec50>,\n",
       " <kodexa.model.model.ContentFeature at 0x7f0ebfe2e8d0>,\n",
       " <kodexa.model.model.ContentFeature at 0x7f0ebfe2ec10>,\n",
       " <kodexa.model.model.ContentFeature at 0x7f0ebfe2edd0>,\n",
       " <kodexa.model.model.ContentFeature at 0x7f0ebfe2ef50>,\n",
       " <kodexa.model.model.ContentFeature at 0x7f0ebfe2ead0>]"
      ]
     },
     "execution_count": 20,
     "metadata": {},
     "output_type": "execute_result"
    }
   ],
   "source": [
    "kodexa_doc.get_root().get_features()"
   ]
  }
 ],
 "metadata": {
  "kernelspec": {
   "display_name": "kodexa_python_quickstart",
   "language": "python",
   "name": "kodexa_python_quickstart"
  },
  "language_info": {
   "codemirror_mode": {
    "name": "ipython",
    "version": 3
   },
   "file_extension": ".py",
   "mimetype": "text/x-python",
   "name": "python",
   "nbconvert_exporter": "python",
   "pygments_lexer": "ipython3",
   "version": "3.7.8"
  }
 },
 "nbformat": 4,
 "nbformat_minor": 4
}
