{
 "cells": [
  {
   "cell_type": "markdown",
   "metadata": {},
   "source": [
    "# Working with Excel and CSV files in Kodexa\n",
    "\n",
    "Kodexa allows you to work with a variety of document types, and this notebook will demonstrate how easy it is to access data from an Excel file.  We will be using concepts introduced in the \"Getting Started\" notebooks, so you may want to review/refer to them as you proceed through this example.\n",
    "\n",
    "By the end of this example, you'll be able to parse an Excel workbook, access data on different sheets, and extract specific tables within the notebook.  We'll then show you how to export that specific data to a datastore that you could use for further processing.\n",
    "\n",
    "All of our processing will occur in Kodexa's cloud environment.  In order to access the platform, you'll need to register for an account and generate an access token.  If you haven't done that already, follow the steps in our [Getting Started](https://developer.kodexa.com/kodexa-cloud/accessing-kodexa-cloud) guide."
   ]
  },
  {
   "cell_type": "markdown",
   "metadata": {},
   "source": [
    "\n",
    "Let's start with the imports:\n",
    "1. Since all of our actions occur in the cloud, we'll need to import the KodexaPlatform and RemoteAction modules\n",
    "2. Import Kodexa's Pipeline module so we can build pipelines and process our document\n",
    "3. The Excel file we'll be processing is located in a file folder, so we'll import the FolderConnector in order to access it.\n",
    "4. All files that have been processed/parsed in Kodexa (Excel, PDF, etc) become Kodexa Documents, so we'll import that module as well.\n",
    "\n",
    "We're also setting the CLOUD_URL value to the platform environment on which we want to perform our processing\n"
   ]
  },
  {
   "cell_type": "code",
   "execution_count": 1,
   "metadata": {},
   "outputs": [],
   "source": [
    "# The kodexa package is public\n",
    "from kodexa import Document, Pipeline, FolderConnector, KodexaPlatform, RemoteAction\n",
    "\n",
    "CLOUD_URL = 'https://platform.kodexa.com' "
   ]
  },
  {
   "cell_type": "markdown",
   "metadata": {},
   "source": [
    "## Set Platform Environment and Access Token Credential\n",
    "\n",
    "In the next cell, you'll be prompted to enter your access token that you've created in the environment specified by the CLOUD_URL.\n",
    "If you haven't created a token already, follow the steps in our [Getting Started](https://developer.kodexa.com/org-management/manage-access-token) guide.\n",
    "\n",
    "* Note:  The text you enter in the prompt field will be masked.  Once you're done entering the access token value, hit enter to complete the action in the cell.  **You will then need to manulally set control at the next cell.**"
   ]
  },
  {
   "cell_type": "code",
   "execution_count": 2,
   "metadata": {},
   "outputs": [
    {
     "name": "stdin",
     "output_type": "stream",
     "text": [
      "Enter access token: ································\n"
     ]
    }
   ],
   "source": [
    "import getpass\n",
    "\n",
    "ACCESS_TOKEN = getpass.getpass(\"Enter access token:\")\n",
    "\n",
    "KodexaPlatform.set_url(CLOUD_URL)\n",
    "KodexaPlatform.set_access_token(ACCESS_TOKEN)"
   ]
  },
  {
   "cell_type": "code",
   "execution_count": 3,
   "metadata": {},
   "outputs": [
    {
     "name": "stdout",
     "output_type": "stream",
     "text": [
      "\n",
      "This is where the Excel document is located: /home/skep/Projects/Kodexa/kodexa-demo-notebooks/2_Examples_by_Source_Type/../_data/excel_workbooks/2019_Business_Expenses.xlsx\n",
      "\n"
     ]
    }
   ],
   "source": [
    "import os\n",
    "\n",
    "# Setting up location of data file\n",
    "DATA_FOLDER = '_data'\n",
    "EXCEL_FOLDER = 'excel_workbooks'\n",
    "DATA_FILE = '2019_Business_Expenses.xlsx'\n",
    "\n",
    "FULL_PATH = os.path.join(os.getcwd(), '..', DATA_FOLDER, EXCEL_FOLDER, DATA_FILE)\n",
    "\n",
    "print(f'\\nThis is where the Excel document is located: {FULL_PATH}\\n')\n"
   ]
  },
  {
   "cell_type": "code",
   "execution_count": 4,
   "metadata": {},
   "outputs": [],
   "source": [
    "\n",
    "# Create a pipeline in order to access the Excel file\n",
    "pipeline = Pipeline.from_file(FULL_PATH)\n",
    "\n",
    "# Our first step in the Pipeline is to parse the Excel file.  \n",
    "# The parser will produce a Kodexa document, which we'll retrive after the pipeline runs\n",
    "pipeline.add_step(RemoteAction(slug='kodexa/excel-parser', options={}, attach_source=True))\n",
    "\n",
    "# Do it!\n",
    "pipeline.run()\n",
    "\n",
    "# Let's get that freshly parsed document!\n",
    "kodexa_doc = pipeline.context.output_document\n"
   ]
  },
  {
   "cell_type": "markdown",
   "metadata": {},
   "source": [
    "## Let's inspect the document and see what we got back\n",
    "\n",
    "Since this is a Kodexa document, all of the base methods and properties for the Document class are available to us.  We can access the metadata, get the content, etc.  Even though the source of this document was originally an Excel file, it still follows the same tree-like ContentNode structure as all Kodexa documents.\n",
    "\n",
    "We can try it out here - let's view the content of the entire document\n"
   ]
  },
  {
   "cell_type": "code",
   "execution_count": 5,
   "metadata": {},
   "outputs": [
    {
     "data": {
      "text/plain": [
       "\"2019 Reimbursables UTILITIES Phone ISP Electricity Natural Gas Water Sewer Amt due from Business January 60.5 59.99 4.316046428571429 6.192921428571429 2.7588785714285717 133.75784642857144 February 60.5 59.99 3.5990035714285713 5.315514285714285 3.0407928571428573 132.4453107142857 March 57.79375 59.99 3.7471107142857147 5.297639285714286 2.674610714285714 129.5031107142857 April 60.512499999999996 59.99 3.318621428571429 0.6991678571428571 2.495860714285714 127.01615 May 60.512499999999996 69.99 3.3875678571428574 1.4126357142857144 2.651117857142857 137.95382142857144 June 60.5125 69.99 5.086714285714286 1.0694357142857145 3.8941964285714286 140.55284642857143 July 60.7125 69.99 9.156596428571428 0.9213285714285714 5.1970285714285716 145.97745357142855 August 60.53125 69.99 7.94365 0.9213285714285714 4.774667857142857 144.16089642857142 September 60.51875 69.99 6.726107142857143 1.10825 4.85485 143.19795714285712 October 191.84875 69.99 3.7455785714285716 1.2486964285714286 4.303789285714286 271.13681428571425 November 73.10625 69.99 3.5070750000000004 1.871767857142857 2.7895214285714287 151.26461428571426 December 60.724999999999994 38.47 3.7460892857142856 3.832910714285714 3.244057142857143 110.01805714285715 TOTAL 867.77375 768.36 58.28016071428572 29.89159642857142 42.67937142857143 1766.9848785714287  Amount For business 867.77375 768.36 58.28016071428572 29.89159642857142 42.67937142857143 1766.9848785714287  Sq ft (House) 2800 Sq ft (Office) 143 Sq ft % 0.05107142857142857    MILEAGE Quarter Distance Amt due from Business Q1 1163.9999999999998 675.12 Q2 716.8000000000001 415.7440000000001 Q3 79.80000000000001 46.284 Q4 45.6 26.448  TOTAL 2006.1999999999996 1163.5960000000002 Phone Phone  1/1/2019 through 12/31/2019   Payee 2019-01-01 00:00:00 2019-02-01 00:00:00 2019-03-01 00:00:00 2019-04-01 00:00:00 2019-05-01 00:00:00 2019-06-01 00:00:00 2019-07-01 00:00:00 2019-08-01 00:00:00 2019-09-01 00:00:00 2019-10-01 00:00:00 2019-11-01 00:00:00 2019-12-01 00:00:00 Total  Wireless 96.8 96.8 92.47 96.82 96.82 96.82000000000001 97.14 96.85 96.83 96.83 116.97000000000001 97.16 1178.3100000000002 Ooma Ooma Premiere Subscription 131.33 131.33 TOTAL 96.8 96.8 92.47 96.82 96.82 96.82000000000001 97.14 96.85 96.83 228.16000000000003 116.97000000000001 97.16 1309.64 Business 60.5 60.5 57.79375 60.512499999999996 60.512499999999996 60.5125 60.7125 60.53125 60.51875 191.84875 73.10625 60.724999999999994 867.77375   How is Wireless calculated? Total Bill - (half of data plan) - (non-member's charges) = business amount ISP ISP  1/1/2019 through 12/31/2019   Payee 2019-01-01 00:00:00 2019-02-01 00:00:00 2019-03-01 00:00:00 2019-04-01 00:00:00 2019-05-01 00:00:00 2019-06-01 00:00:00 2019-07-01 00:00:00 2019-08-01 00:00:00 2019-09-01 00:00:00 2019-10-01 00:00:00 2019-11-01 00:00:00 2019-12-01 00:00:00 Total   Time Warner 59.99 59.99 59.99 59.99 69.99 69.99 69.99 69.99 69.99 69.99 69.99 38.47 768.36 TOTAL 59.99 59.99 59.99 59.99 69.99 69.99 69.99 69.99 69.99 69.99 69.99 38.47 768.36 Business 59.99 59.99 59.99 59.99 69.99 69.99 69.99 69.99 69.99 69.99 69.99 38.47 768.36 Power Power  1/1/2019 through 12/31/2019   Payee 2019-01-01 00:00:00 2019-02-01 00:00:00 2019-03-01 00:00:00 2019-04-01 00:00:00 2019-05-01 00:00:00 2019-06-01 00:00:00 2019-07-01 00:00:00 2019-08-01 00:00:00 2019-09-01 00:00:00 2019-10-01 00:00:00 2019-11-01 00:00:00 2019-12-01 00:00:00 Total   Power 84.51 70.47 73.37 64.98 66.33 99.6 179.29 155.54 131.7 73.34 68.67 73.35 1141.1499999999999 TOTAL 84.51 70.47 73.37 64.98 66.33 99.6 179.29 155.54 131.7 73.34 68.67 73.35 1141.1499999999999 Business 4.316046428571429 3.5990035714285713 3.7471107142857147 3.318621428571429 3.3875678571428574 5.086714285714286 9.156596428571428 7.94365 6.726107142857143 3.7455785714285716 3.5070750000000004 3.7460892857142856 58.28016071428572 Nat Gas Nat Gas  1/1/2019 through 12/31/2019   Payee 2019-01-01 00:00:00 2019-02-01 00:00:00 2019-03-01 00:00:00 2019-04-01 00:00:00 2019-05-01 00:00:00 2019-06-01 00:00:00 2019-07-01 00:00:00 2019-08-01 00:00:00 2019-09-01 00:00:00 2019-10-01 00:00:00 2019-11-01 00:00:00 2019-12-01 00:00:00 Total   Natural Gas 121.26 104.08 103.73 13.69 27.66 20.94 18.04 18.04 21.7 24.45 36.65 75.05 585.29 TOTAL 121.26 104.08 103.73 13.69 27.66 20.94 18.04 18.04 21.7 24.45 36.65 75.05 585.29 Business 6.192921428571429 5.315514285714285 5.297639285714286 0.6991678571428571 1.4126357142857144 1.0694357142857145 0.9213285714285714 0.9213285714285714 1.10825 1.2486964285714286 1.871767857142857 3.832910714285714 29.89159642857142 Water Sewer Water Sewer  1/1/2019 through 12/31/2019   Payee 2019-01-01 00:00:00 2019-02-01 00:00:00 2019-03-01 00:00:00 2019-04-01 00:00:00 2019-05-01 00:00:00 2019-06-01 00:00:00 2019-07-01 00:00:00 2019-08-01 00:00:00 2019-09-01 00:00:00 2019-10-01 00:00:00 2019-11-01 00:00:00 2019-12-01 00:00:00 Total   Muni Water 54.02 59.54 52.37 48.87 51.91 76.25 101.76 93.49 95.06 84.27 54.62 63.52 835.68 TOTAL 54.02 59.54 52.37 48.87 51.91 76.25 101.76 93.49 95.06 84.27 54.62 63.52 835.68 Business 2.7588785714285717 3.0407928571428573 2.674610714285714 2.495860714285714 2.651117857142857 3.8941964285714286 5.1970285714285716 4.774667857142857 4.85485 4.303789285714286 2.7895214285714287 3.244057142857143 42.67937142857143 Mileage Date Miles Reimbursement Amount Starting Point Ending Point Round Trip? Client Comments 2019-01-07 00:00:00 0.58 80.8 46.864 Home 1 Client's office address Yes Client 1 Client in-office day 2019-01-14 00:00:00 0.58 80.8 46.864 Home 1 Client's office address Yes Client 1 Client in-office day 2019-01-21 00:00:00 0.58 80.8 46.864 Home 1 Client's office address Yes Client 1 Client in-office day 2019-01-23 00:00:00 0.58 31.6 18.328 Home 1 Starbucks Yes Client 2 Team meeting 2019-01-30 00:00:00 0.58 34.6 20.067999999999998 Home 1 Starbucks Yes Client 2 equipment handoff 2019-02-04 00:00:00 0.58 80.8 46.864 Home 1 Client's office address Yes Client 1 Client in-office day 2019-02-11 00:00:00 0.58 80.8 46.864 Home 1 Client's office address Yes Client 1 Client in-office day 2019-02-25 00:00:00 0.58 80.8 46.864 Home 1 Client's office address Yes Client 1 Client in-office day 2019-02-26 00:00:00 0.58 51.8 30.043999999999997 Home 1 Airport Yes Client 2 Year start planning sessions 2019-03-04 00:00:00 0.58 80.8 46.864 Home 1 Client's office address Yes Client 1 Client in-office day 2019-03-05 00:00:00 0.58 238 138.04 Home 1 Airport 2 Yes Client 2 Site review/planning 2019-03-11 00:00:00 0.58 80.8 46.864 Home 1 Client's office address Yes Client 1 Client in-office day 2019-03-18 00:00:00 0.58 80.8 46.864 Home 1 Client's office address Yes Client 1 Client in-office day 2019-03-25 00:00:00 0.58 80.8 46.864 Home 1 Client's office address Yes Client 1 Client in-office day 2019-04-15 00:00:00 0.58 518 300.44 Home 1 Conference hotel Yes Client 2 Client conferences 2019-04-29 00:00:00 0.58 17 9.86 Home 2 Client's office address Yes Client 1 Client in-office day 2019-05-01 00:00:00 0.58 26.6 15.427999999999999 Home 2 Airport Yes Client 2 Inventory 2019-05-06 00:00:00 0.58 17 9.86 Home 2 Client's office address Yes Client 1 Client in-office day 2019-05-06 00:00:00 0.58 26.6 15.427999999999999 Home 2 Airport Yes Client 2 Executive outing/meeting 2019-05-15 00:00:00 0.58 26.6 15.427999999999999 Home 2 Airport Yes Client 2 Executive retreat 2019-05-13 00:00:00 0.58 17 9.86 Home 2 Client's office address Yes Client 1 Client in-office day 2019-05-20 00:00:00 0.58 17 9.86 Home 2 Client's office address Yes Client 1 Client in-office day 2019-05-27 00:00:00 0.58 17 9.86 Home 2 Client's office address Yes Client 1 Client in-office day 2019-06-03 00:00:00 0.58 17 9.86 Home 2 Client's office address Yes Client 1 Client in-office day 2019-06-10 00:00:00 0.58 17 9.86 Home 2 Client's office address Yes Client 1 Client in-office day 2019-07-21 00:00:00 0.58 26.6 15.427999999999999 Home 2 Airport Yes Client 2 Working on computers 2019-08-12 00:00:00 0.58 26.6 15.427999999999999 Home 2 Airport Yes Client 2 Annual event planning 2019-08-15 00:00:00 0.58 26.6 15.427999999999999 Home 2 Airport Yes Client 2 Equipment clean up and inventory 2019-11-06 00:00:00 0.58 22.8 13.224 Home 3 Airport Yes Client 2 Annual event 2019-11-30 00:00:00 0.58 22.8 13.224 Home 3 Airport Yes Client 2 Executive retreat    2006.1999999999991 1163.5959999999998 TOTAL MILEAGE REIMBURSEMENT\""
      ]
     },
     "execution_count": 5,
     "metadata": {},
     "output_type": "execute_result"
    }
   ],
   "source": [
    "kodexa_doc.get_root().get_all_content()"
   ]
  },
  {
   "cell_type": "markdown",
   "metadata": {},
   "source": [
    "## Well, not exactly helpful\n",
    "\n",
    "...but you get the point.  This is still a standard Kodexa document with all the basic document properties, but because this represents an Excel document, it does have a few differences that make it different from a base Kodexa document.\n",
    "\n",
    "The ContentNodes in this freshly parsed document are all one of the follwing types:  worksheet, row, or cell.  Worksheets can have one or more children of type 'row' which may have one or more children of type 'cell'.  Armed with this information, we can do a bit more intelligent inspection on the contents.\n",
    "\n",
    "Let's start by taking a look at the worksheets in the document:\n"
   ]
  },
  {
   "cell_type": "code",
   "execution_count": 6,
   "metadata": {},
   "outputs": [
    {
     "name": "stdout",
     "output_type": "stream",
     "text": [
      "There are 7 worksheets in this Excel file\n",
      "ContentNode [type:worksheet] (0 features, 32 children) [2019 Reimbursables]\n",
      "ContentNode [type:worksheet] (0 features, 21 children) [Phone]\n",
      "ContentNode [type:worksheet] (0 features, 20 children) [ISP]\n",
      "ContentNode [type:worksheet] (0 features, 20 children) [Power]\n",
      "ContentNode [type:worksheet] (0 features, 20 children) [Nat Gas]\n",
      "ContentNode [type:worksheet] (0 features, 20 children) [Water Sewer]\n",
      "ContentNode [type:worksheet] (0 features, 38 children) [Mileage]\n"
     ]
    }
   ],
   "source": [
    "\n",
    "# This selector will select all of the nodes of type 'worksheet' within the document\n",
    "all_worksheets = kodexa_doc.select('//worksheet')\n",
    "\n",
    "print(f'There are {len(all_worksheets)} worksheets in this Excel file')\n",
    "\n",
    "for w in all_worksheets:\n",
    "    print(w)"
   ]
  },
  {
   "cell_type": "markdown",
   "metadata": {},
   "source": [
    "## We have 7 different worksheets in this one Excel file\n",
    "\n",
    "From the names of the worksheets, it looks like each of them cover a different type of expense.  We're interested in the aggregated expenses, and those are located on the first worksheet, '2019 Reimbursables'.\n",
    "\n",
    "Let's get the tables from this workbook!\n",
    "\n",
    "## But wait, aren't all spreadsheets (workbooks) just full of tables?  \n",
    "\n",
    "Nope, spreadsheets aren't just tables.  As we can see in this example, an Excel workbook (spreadsheet) can contain multiple worksheets each with a multitude of unstructured data.  \n",
    "\n",
    "A single worksheet can contain multiple table-like structures, interspersed with text, formulas, etc.  There is no schema for how data has to be entered into a spreadsheet, that's why they're considered unstructured (maybe semi-structured) data.\n",
    "\n",
    "## Let's look a little closer at the first worksheet\n",
    "\n",
    "We'll iterate over the rows for the first worksheet and see how many child cells each has.\n"
   ]
  },
  {
   "cell_type": "code",
   "execution_count": 7,
   "metadata": {},
   "outputs": [
    {
     "name": "stdout",
     "output_type": "stream",
     "text": [
      "Row 0 :: 1\n",
      "Row 1 :: 6\n",
      "Row 2 :: 7\n",
      "Row 3 :: 7\n",
      "Row 4 :: 7\n",
      "Row 5 :: 7\n",
      "Row 6 :: 7\n",
      "Row 7 :: 7\n",
      "Row 8 :: 7\n",
      "Row 9 :: 7\n",
      "Row 10 :: 7\n",
      "Row 11 :: 7\n",
      "Row 12 :: 7\n",
      "Row 13 :: 7\n",
      "Row 14 :: 7\n",
      "Row 15 :: 0\n",
      "Row 16 :: 7\n",
      "Row 17 :: 0\n",
      "Row 18 :: 2\n",
      "Row 19 :: 2\n",
      "Row 20 :: 2\n",
      "Row 21 :: 0\n",
      "Row 22 :: 0\n",
      "Row 23 :: 0\n",
      "Row 24 :: 1\n",
      "Row 25 :: 3\n",
      "Row 26 :: 3\n",
      "Row 27 :: 3\n",
      "Row 28 :: 3\n",
      "Row 29 :: 3\n",
      "Row 30 :: 0\n",
      "Row 31 :: 3\n"
     ]
    }
   ],
   "source": [
    "\n",
    "# Selector will get all children of type 'row' from the first worksheet\n",
    "first_worksheet_rows = all_worksheets[0].select('//row')\n",
    "\n",
    "for i in range(len(first_worksheet_rows)):\n",
    "    c = first_worksheet_rows[i]\n",
    "    print(f'Row {i} :: {len(c.children)}')\n",
    "    "
   ]
  },
  {
   "cell_type": "markdown",
   "metadata": {},
   "source": [
    "## These rows all have a different number of cells\n",
    "\n",
    "The fact that many of these rows have differing number of cells indicates that there isn't just one consistent table on this worksheet.\n",
    "\n",
    "If you haven't taken a look at the document we're using for this example, now may be a good time to do so.  You'll notice that our first sheet in the workbook is named '2019 Reimbursables' and there are (wait for it)...TWO TABLES!  Yup, one for utility expenses and one for mileage reimbursments.  Now it's clear that we can't just take the data from a worksheet and turn it into a table.\n"
   ]
  },
  {
   "cell_type": "markdown",
   "metadata": {},
   "source": [
    "## So how do we tag and extract a table?\n",
    "\n",
    "To locate, tag, and extract tables from our document, we're going to use the 'excel-table-tagger' action.  There are many parameters for this action, but we'll only be using a few of them.  Complete documentation for all the action's parameters can be found here: [Excel Table Tagger](https://developer.kodexa.com/kodexa-platform/actions/kodexa/excel-table-tagger)\n",
    "\n",
    "* **sheet_name_re:** (required) The name of the sheet on which our data is located\n",
    "* **header_re:** (required) - a regex value used to locate the header row of the table we're interested in\n",
    "* **tag_to_apply:** (required) - the tag that will be applied to the elements that are in the detected table\n",
    "\n",
    "There are two tables on the first worksheet, and we're going to tag both of them.  The header for the first table begins with 'Phone' and the header for the second table begins with 'Quarter'.  We'll need that information to set the parameters for our table taggers.\n"
   ]
  },
  {
   "cell_type": "code",
   "execution_count": 8,
   "metadata": {},
   "outputs": [],
   "source": [
    "\n",
    "# We can use our parsed document in the pipeline, so there's no need to reparse the original Excel \n",
    "pipeline = Pipeline(kodexa_doc)\n",
    "\n",
    "# The excel-table-tagger allows us to find the tables we want\n",
    "# Configuring the header_re regex to specify that 'Phone' is in the header for this table - we'll tag each node in that table with 'utilities'\n",
    "pipeline.add_step(RemoteAction(slug='kodexa/excel-table-tagger', options={'sheet_name_re': '(2019.*)', 'header_re':'Phone', 'tag_to_apply':'utilities'}))\n",
    "\n",
    "# Configuring the header_re regex to specify that 'Quarter' is in the header for this table - we'll tag each node in that table with 'mileage'\n",
    "pipeline.add_step(RemoteAction(slug='kodexa/excel-table-tagger', options={'sheet_name_re': '(2019.*)', 'header_re':'Quarter', 'tag_to_apply':'mileage'}))\n",
    "\n",
    "# Run it!\n",
    "pipeline.run()\n",
    "\n",
    "# Let's get the tagged document\n",
    "kodexa_doc = pipeline.context.output_document\n"
   ]
  },
  {
   "cell_type": "markdown",
   "metadata": {},
   "source": [
    "## Now let's inspect the tagged tables"
   ]
  },
  {
   "cell_type": "code",
   "execution_count": 9,
   "metadata": {},
   "outputs": [
    {
     "name": "stdout",
     "output_type": "stream",
     "text": [
      "There are 97 nodes tagged with the \"utilities\" tag\n",
      "There are 15 nodes tagged with the \"mileage\" tag\n"
     ]
    }
   ],
   "source": [
    "utility_cells = kodexa_doc.select('//*[tagRegex(\"utilities\")]')\n",
    "\n",
    "mileage_cells = kodexa_doc.select('//*[tagRegex(\"mileage\")]')\n",
    "\n",
    "print(f'There are {len(utility_cells)} nodes tagged with the \"utilities\" tag')\n",
    "print(f'There are {len(mileage_cells)} nodes tagged with the \"mileage\" tag')\n"
   ]
  },
  {
   "cell_type": "markdown",
   "metadata": {},
   "source": [
    "## Intersting...let's look closer at the utility_cells\n"
   ]
  },
  {
   "cell_type": "code",
   "execution_count": 10,
   "metadata": {},
   "outputs": [
    {
     "name": "stdout",
     "output_type": "stream",
     "text": [
      "cell :: ['utilities_col2']\n",
      "cell :: ['utilities_col3']\n",
      "cell :: ['utilities_col4']\n",
      "cell :: ['utilities_col5']\n",
      "cell :: ['utilities_col6']\n",
      "cell :: ['utilities_col7']\n",
      "cell :: ['utilities_col1']\n",
      "cell :: ['utilities_col2']\n",
      "cell :: ['utilities_col3']\n",
      "cell :: ['utilities_col4']\n",
      "cell :: ['utilities_col5']\n",
      "cell :: ['utilities_col6']\n",
      "cell :: ['utilities_col7']\n",
      "cell :: ['utilities_col1']\n",
      "cell :: ['utilities_col2']\n",
      "cell :: ['utilities_col3']\n",
      "cell :: ['utilities_col4']\n",
      "cell :: ['utilities_col5']\n",
      "cell :: ['utilities_col6']\n",
      "cell :: ['utilities_col7']\n"
     ]
    }
   ],
   "source": [
    "\n",
    "# Let's take a look at the first 20 cells and see what those tags look like\n",
    "\n",
    "for i in range(0,20):\n",
    "    c = utility_cells[i]\n",
    "    print(f'{c.type} :: {c.get_tags()}')\n",
    "    "
   ]
  },
  {
   "cell_type": "markdown",
   "metadata": {},
   "source": [
    "## Huh.  So the tag name also includes the column number\n",
    "\n",
    "Well that's different.  When tagging the cells in a table, the parameter for 'tag_to_apply' is appended with the number of the column 'colN'.  This is useful information as it makes it easy to see how many columns we have in this table...let's look at that now.\n"
   ]
  },
  {
   "cell_type": "code",
   "execution_count": 11,
   "metadata": {},
   "outputs": [
    {
     "name": "stdout",
     "output_type": "stream",
     "text": [
      "\n",
      "{'utilities_col6', 'utilities_col5', 'utilities_col3', 'utilities_col7', 'utilities_col1', 'utilities_col2', 'utilities_col4'}\n",
      "\n"
     ]
    }
   ],
   "source": [
    "\n",
    "# We want to get the unique tag names that have been applied to these 'utility_cells'\n",
    "# the get_tags() function will return a list of tags.  We only expect one as we've only applied one tag to these cells\n",
    "\n",
    "u_set = set([c.get_tags()[0] for c in utility_cells])\n",
    "print(f'\\n{u_set}\\n')\n"
   ]
  },
  {
   "cell_type": "markdown",
   "metadata": {},
   "source": [
    "## Cool - so we have 7 columns in our Utilities table!\n",
    "\n",
    "That's great and all, but what do we do with it?\n",
    "\n",
    "Working with the tagged data in the cells may be awkard, so we've added the ability to extract this data directly to a Kodexa TableDataStore which is perfect for capturing tabular data such as this.\n",
    "\n",
    "To create a TableDataStore from our tagged tables, we'll run a pipeline again, this time adding a store\n",
    "\n"
   ]
  },
  {
   "cell_type": "code",
   "execution_count": 12,
   "metadata": {},
   "outputs": [],
   "source": [
    "\n",
    "\n",
    "# Again, using the same document.  Since we're re-running the same tagging operation as before, we don't have to worry about excess/errant tags being added\n",
    "pipeline = Pipeline(kodexa_doc)\n",
    "\n",
    "# Same options as before, with the addition of the 'store_name' parameter - that's how we'll access that store\n",
    "pipeline.add_step(RemoteAction(slug='kodexa/excel-table-tagger', \n",
    "                               options={'sheet_name_re': '(2019.*)', 'header_re':'Phone', 'tag_to_apply':'utilities', 'store_name' : 'utility_store'}))\n",
    "\n",
    "# Same options as before, with the addition of the 'store_name' parameter - that's how we'll access that store\n",
    "pipeline.add_step(RemoteAction(slug='kodexa/excel-table-tagger', \n",
    "                               options={'sheet_name_re': '(2019.*)', 'header_re':'Quarter', 'tag_to_apply':'mileage', 'store_name' : 'mileage_store'}))\n",
    "\n",
    "# Run it!\n",
    "pipeline.run()\n",
    "\n",
    "# Let's get the tagged document\n",
    "kodexa_doc = pipeline.context.output_document\n"
   ]
  },
  {
   "cell_type": "markdown",
   "metadata": {},
   "source": [
    "## So what did we get?\n",
    "\n",
    "We added two store names for the excel-table-tagger actions, so let's see if we can access them"
   ]
  },
  {
   "cell_type": "code",
   "execution_count": 14,
   "metadata": {},
   "outputs": [
    {
     "name": "stdout",
     "output_type": "stream",
     "text": [
      "\n",
      "dict_keys(['utility_store', 'mileage_store'])\n",
      "\n"
     ]
    }
   ],
   "source": [
    "\n",
    "# Print any store names that are avialable on the pipeline context\n",
    "print(f'\\n{pipeline.context.get_store_names()}\\n')\n"
   ]
  },
  {
   "cell_type": "markdown",
   "metadata": {},
   "source": [
    "## Cool, cool, cool.  Let's access those stores!"
   ]
  },
  {
   "cell_type": "code",
   "execution_count": 15,
   "metadata": {},
   "outputs": [],
   "source": [
    "\n",
    "# We'll get each store by name from the pipeline's context\n",
    "utility_store = pipeline.context.get_store('utility_store')\n",
    "mileage_store = pipeline.context.get_store('mileage_store')\n"
   ]
  },
  {
   "cell_type": "markdown",
   "metadata": {},
   "source": [
    "## Now inspect that data\n",
    "\n",
    "Each of our stores is a kodexa TableDataStore, and those have a method to convert the store's data to a dataframe.  \n",
    "Let's call that method and view the data in a nice, pretty format"
   ]
  },
  {
   "cell_type": "code",
   "execution_count": 16,
   "metadata": {},
   "outputs": [
    {
     "data": {
      "text/html": [
       "<div>\n",
       "<style scoped>\n",
       "    .dataframe tbody tr th:only-of-type {\n",
       "        vertical-align: middle;\n",
       "    }\n",
       "\n",
       "    .dataframe tbody tr th {\n",
       "        vertical-align: top;\n",
       "    }\n",
       "\n",
       "    .dataframe thead th {\n",
       "        text-align: right;\n",
       "    }\n",
       "</style>\n",
       "<table border=\"1\" class=\"dataframe\">\n",
       "  <thead>\n",
       "    <tr style=\"text-align: right;\">\n",
       "      <th></th>\n",
       "      <th>NaN</th>\n",
       "      <th>Phone</th>\n",
       "      <th>ISP</th>\n",
       "      <th>Electricity</th>\n",
       "      <th>Natural Gas</th>\n",
       "      <th>Water Sewer</th>\n",
       "      <th>Amt due from Business</th>\n",
       "    </tr>\n",
       "  </thead>\n",
       "  <tbody>\n",
       "    <tr>\n",
       "      <th>0</th>\n",
       "      <td>January</td>\n",
       "      <td>60.5</td>\n",
       "      <td>59.99</td>\n",
       "      <td>4.316046428571429</td>\n",
       "      <td>6.192921428571429</td>\n",
       "      <td>2.7588785714285717</td>\n",
       "      <td>133.75784642857144</td>\n",
       "    </tr>\n",
       "    <tr>\n",
       "      <th>1</th>\n",
       "      <td>February</td>\n",
       "      <td>60.5</td>\n",
       "      <td>59.99</td>\n",
       "      <td>3.5990035714285713</td>\n",
       "      <td>5.315514285714285</td>\n",
       "      <td>3.0407928571428573</td>\n",
       "      <td>132.4453107142857</td>\n",
       "    </tr>\n",
       "    <tr>\n",
       "      <th>2</th>\n",
       "      <td>March</td>\n",
       "      <td>57.79375</td>\n",
       "      <td>59.99</td>\n",
       "      <td>3.7471107142857147</td>\n",
       "      <td>5.297639285714286</td>\n",
       "      <td>2.674610714285714</td>\n",
       "      <td>129.5031107142857</td>\n",
       "    </tr>\n",
       "    <tr>\n",
       "      <th>3</th>\n",
       "      <td>April</td>\n",
       "      <td>60.512499999999996</td>\n",
       "      <td>59.99</td>\n",
       "      <td>3.318621428571429</td>\n",
       "      <td>0.6991678571428571</td>\n",
       "      <td>2.495860714285714</td>\n",
       "      <td>127.01615</td>\n",
       "    </tr>\n",
       "    <tr>\n",
       "      <th>4</th>\n",
       "      <td>May</td>\n",
       "      <td>60.512499999999996</td>\n",
       "      <td>69.99</td>\n",
       "      <td>3.3875678571428574</td>\n",
       "      <td>1.4126357142857144</td>\n",
       "      <td>2.651117857142857</td>\n",
       "      <td>137.95382142857144</td>\n",
       "    </tr>\n",
       "    <tr>\n",
       "      <th>5</th>\n",
       "      <td>June</td>\n",
       "      <td>60.5125</td>\n",
       "      <td>69.99</td>\n",
       "      <td>5.086714285714286</td>\n",
       "      <td>1.0694357142857145</td>\n",
       "      <td>3.8941964285714286</td>\n",
       "      <td>140.55284642857143</td>\n",
       "    </tr>\n",
       "    <tr>\n",
       "      <th>6</th>\n",
       "      <td>July</td>\n",
       "      <td>60.7125</td>\n",
       "      <td>69.99</td>\n",
       "      <td>9.156596428571428</td>\n",
       "      <td>0.9213285714285714</td>\n",
       "      <td>5.1970285714285716</td>\n",
       "      <td>145.97745357142855</td>\n",
       "    </tr>\n",
       "    <tr>\n",
       "      <th>7</th>\n",
       "      <td>August</td>\n",
       "      <td>60.53125</td>\n",
       "      <td>69.99</td>\n",
       "      <td>7.94365</td>\n",
       "      <td>0.9213285714285714</td>\n",
       "      <td>4.774667857142857</td>\n",
       "      <td>144.16089642857142</td>\n",
       "    </tr>\n",
       "    <tr>\n",
       "      <th>8</th>\n",
       "      <td>September</td>\n",
       "      <td>60.51875</td>\n",
       "      <td>69.99</td>\n",
       "      <td>6.726107142857143</td>\n",
       "      <td>1.10825</td>\n",
       "      <td>4.85485</td>\n",
       "      <td>143.19795714285712</td>\n",
       "    </tr>\n",
       "    <tr>\n",
       "      <th>9</th>\n",
       "      <td>October</td>\n",
       "      <td>191.84875</td>\n",
       "      <td>69.99</td>\n",
       "      <td>3.7455785714285716</td>\n",
       "      <td>1.2486964285714286</td>\n",
       "      <td>4.303789285714286</td>\n",
       "      <td>271.13681428571425</td>\n",
       "    </tr>\n",
       "    <tr>\n",
       "      <th>10</th>\n",
       "      <td>November</td>\n",
       "      <td>73.10625</td>\n",
       "      <td>69.99</td>\n",
       "      <td>3.5070750000000004</td>\n",
       "      <td>1.871767857142857</td>\n",
       "      <td>2.7895214285714287</td>\n",
       "      <td>151.26461428571426</td>\n",
       "    </tr>\n",
       "    <tr>\n",
       "      <th>11</th>\n",
       "      <td>December</td>\n",
       "      <td>60.724999999999994</td>\n",
       "      <td>38.47</td>\n",
       "      <td>3.7460892857142856</td>\n",
       "      <td>3.832910714285714</td>\n",
       "      <td>3.244057142857143</td>\n",
       "      <td>110.01805714285715</td>\n",
       "    </tr>\n",
       "    <tr>\n",
       "      <th>12</th>\n",
       "      <td>TOTAL</td>\n",
       "      <td>867.77375</td>\n",
       "      <td>768.36</td>\n",
       "      <td>58.28016071428572</td>\n",
       "      <td>29.89159642857142</td>\n",
       "      <td>42.67937142857143</td>\n",
       "      <td>1766.9848785714287</td>\n",
       "    </tr>\n",
       "  </tbody>\n",
       "</table>\n",
       "</div>"
      ],
      "text/plain": [
       "          NaN               Phone     ISP         Electricity  \\\n",
       "0     January                60.5   59.99   4.316046428571429   \n",
       "1    February                60.5   59.99  3.5990035714285713   \n",
       "2       March            57.79375   59.99  3.7471107142857147   \n",
       "3       April  60.512499999999996   59.99   3.318621428571429   \n",
       "4         May  60.512499999999996   69.99  3.3875678571428574   \n",
       "5        June             60.5125   69.99   5.086714285714286   \n",
       "6        July             60.7125   69.99   9.156596428571428   \n",
       "7      August            60.53125   69.99             7.94365   \n",
       "8   September            60.51875   69.99   6.726107142857143   \n",
       "9     October           191.84875   69.99  3.7455785714285716   \n",
       "10   November            73.10625   69.99  3.5070750000000004   \n",
       "11   December  60.724999999999994   38.47  3.7460892857142856   \n",
       "12      TOTAL           867.77375  768.36   58.28016071428572   \n",
       "\n",
       "           Natural Gas         Water Sewer Amt due from Business  \n",
       "0    6.192921428571429  2.7588785714285717    133.75784642857144  \n",
       "1    5.315514285714285  3.0407928571428573     132.4453107142857  \n",
       "2    5.297639285714286   2.674610714285714     129.5031107142857  \n",
       "3   0.6991678571428571   2.495860714285714             127.01615  \n",
       "4   1.4126357142857144   2.651117857142857    137.95382142857144  \n",
       "5   1.0694357142857145  3.8941964285714286    140.55284642857143  \n",
       "6   0.9213285714285714  5.1970285714285716    145.97745357142855  \n",
       "7   0.9213285714285714   4.774667857142857    144.16089642857142  \n",
       "8              1.10825             4.85485    143.19795714285712  \n",
       "9   1.2486964285714286   4.303789285714286    271.13681428571425  \n",
       "10   1.871767857142857  2.7895214285714287    151.26461428571426  \n",
       "11   3.832910714285714   3.244057142857143    110.01805714285715  \n",
       "12   29.89159642857142   42.67937142857143    1766.9848785714287  "
      ]
     },
     "execution_count": 16,
     "metadata": {},
     "output_type": "execute_result"
    }
   ],
   "source": [
    "\n",
    "# Convert the utility_store to a pandas dataframe\n",
    "utility_store.to_df()\n"
   ]
  },
  {
   "cell_type": "code",
   "execution_count": 17,
   "metadata": {},
   "outputs": [
    {
     "data": {
      "text/html": [
       "<div>\n",
       "<style scoped>\n",
       "    .dataframe tbody tr th:only-of-type {\n",
       "        vertical-align: middle;\n",
       "    }\n",
       "\n",
       "    .dataframe tbody tr th {\n",
       "        vertical-align: top;\n",
       "    }\n",
       "\n",
       "    .dataframe thead th {\n",
       "        text-align: right;\n",
       "    }\n",
       "</style>\n",
       "<table border=\"1\" class=\"dataframe\">\n",
       "  <thead>\n",
       "    <tr style=\"text-align: right;\">\n",
       "      <th></th>\n",
       "      <th>NaN</th>\n",
       "      <th>Quarter</th>\n",
       "      <th>Distance</th>\n",
       "      <th>Amt due from Business</th>\n",
       "    </tr>\n",
       "  </thead>\n",
       "  <tbody>\n",
       "    <tr>\n",
       "      <th>0</th>\n",
       "      <td>None</td>\n",
       "      <td>Q1</td>\n",
       "      <td>1163.9999999999998</td>\n",
       "      <td>675.12</td>\n",
       "    </tr>\n",
       "    <tr>\n",
       "      <th>1</th>\n",
       "      <td>None</td>\n",
       "      <td>Q2</td>\n",
       "      <td>716.8000000000001</td>\n",
       "      <td>415.7440000000001</td>\n",
       "    </tr>\n",
       "    <tr>\n",
       "      <th>2</th>\n",
       "      <td>None</td>\n",
       "      <td>Q3</td>\n",
       "      <td>79.80000000000001</td>\n",
       "      <td>46.284</td>\n",
       "    </tr>\n",
       "    <tr>\n",
       "      <th>3</th>\n",
       "      <td>None</td>\n",
       "      <td>Q4</td>\n",
       "      <td>45.6</td>\n",
       "      <td>26.448</td>\n",
       "    </tr>\n",
       "  </tbody>\n",
       "</table>\n",
       "</div>"
      ],
      "text/plain": [
       "    NaN Quarter            Distance Amt due from Business\n",
       "0  None      Q1  1163.9999999999998                675.12\n",
       "1  None      Q2   716.8000000000001     415.7440000000001\n",
       "2  None      Q3   79.80000000000001                46.284\n",
       "3  None      Q4                45.6                26.448"
      ]
     },
     "execution_count": 17,
     "metadata": {},
     "output_type": "execute_result"
    }
   ],
   "source": [
    "\n",
    "# Convert the mileage_store to a pandas dataframe\n",
    "mileage_store.to_df()\n"
   ]
  },
  {
   "cell_type": "code",
   "execution_count": null,
   "metadata": {},
   "outputs": [],
   "source": []
  }
 ],
 "metadata": {
  "kernelspec": {
   "display_name": "kodexa_demos",
   "language": "python",
   "name": "kodexa_demos"
  },
  "language_info": {
   "codemirror_mode": {
    "name": "ipython",
    "version": 3
   },
   "file_extension": ".py",
   "mimetype": "text/x-python",
   "name": "python",
   "nbconvert_exporter": "python",
   "pygments_lexer": "ipython3",
   "version": "3.7.6"
  }
 },
 "nbformat": 4,
 "nbformat_minor": 4
}
